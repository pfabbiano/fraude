{
 "cells": [
  {
   "cell_type": "markdown",
   "id": "a3a934d3",
   "metadata": {
    "scrolled": false
   },
   "source": [
    "# Modelos\n",
    "### XGBoost - Decision Tree - Random Forest - Logistic Regression - LightGBM\n",
    "\n",
    "Levanta data_df.csv generado por EDA."
   ]
  },
  {
   "cell_type": "code",
   "execution_count": 1,
   "id": "d1a3ebb6",
   "metadata": {
    "scrolled": false
   },
   "outputs": [],
   "source": [
    "import numpy as np\n",
    "import pandas as pd\n",
    "import matplotlib.pyplot as plt\n",
    "import seaborn as sns\n",
    "import matplotlib.pyplot as plt\n",
    "%matplotlib inline\n",
    "\n",
    "from sklearn.model_selection import train_test_split"
   ]
  },
  {
   "cell_type": "code",
   "execution_count": 2,
   "id": "8387a554",
   "metadata": {
    "scrolled": false
   },
   "outputs": [],
   "source": [
    "# Lectura del dataset generado en el proceso de EDA.\n",
    "df = pd.read_csv('data_df.csv')\n",
    "\n",
    "# df=df.drop(['Unnamed: 0'], axis=1) # Elimino la columna que me generó el pd.write_csv() del EDA."
   ]
  },
  {
   "cell_type": "code",
   "execution_count": 3,
   "id": "90e071c5",
   "metadata": {},
   "outputs": [
    {
     "data": {
      "text/plain": [
       "Index(['pol', 'endoso', 'item', 'fecemi', 'tipend', 'idaseg', 'ase_antig_an',\n",
       "       'ase_cp', 'ase_codnac', 'ase_nac', 'idprod', 'pro_antig_an', 'tipveh',\n",
       "       'marca', 'modelo', 'anio', 'uso', 'uso_desc', 'cober', 'codcober',\n",
       "       'cober_desc', 'cob_fecuma', 'cob_ef', 'fraude'],\n",
       "      dtype='object')"
      ]
     },
     "execution_count": 3,
     "metadata": {},
     "output_type": "execute_result"
    }
   ],
   "source": [
    "df.columns"
   ]
  },
  {
   "cell_type": "code",
   "execution_count": 4,
   "id": "19249963",
   "metadata": {},
   "outputs": [
    {
     "name": "stdout",
     "output_type": "stream",
     "text": [
      "<class 'pandas.core.frame.DataFrame'>\n",
      "RangeIndex: 469370 entries, 0 to 469369\n",
      "Data columns (total 24 columns):\n",
      " #   Column        Non-Null Count   Dtype  \n",
      "---  ------        --------------   -----  \n",
      " 0   pol           469370 non-null  int64  \n",
      " 1   endoso        469370 non-null  int64  \n",
      " 2   item          469370 non-null  int64  \n",
      " 3   fecemi        469370 non-null  int64  \n",
      " 4   tipend        469370 non-null  object \n",
      " 5   idaseg        469370 non-null  int64  \n",
      " 6   ase_antig_an  469370 non-null  int64  \n",
      " 7   ase_cp        469370 non-null  int64  \n",
      " 8   ase_codnac    469370 non-null  float64\n",
      " 9   ase_nac       469370 non-null  object \n",
      " 10  idprod        469370 non-null  int64  \n",
      " 11  pro_antig_an  469370 non-null  int64  \n",
      " 12  tipveh        469370 non-null  int64  \n",
      " 13  marca         469370 non-null  int64  \n",
      " 14  modelo        469370 non-null  int64  \n",
      " 15  anio          469370 non-null  int64  \n",
      " 16  uso           469370 non-null  int64  \n",
      " 17  uso_desc      469370 non-null  object \n",
      " 18  cober         469370 non-null  object \n",
      " 19  codcober      469370 non-null  int64  \n",
      " 20  cober_desc    469370 non-null  object \n",
      " 21  cob_fecuma    469370 non-null  int64  \n",
      " 22  cob_ef        469370 non-null  int64  \n",
      " 23  fraude        469370 non-null  int64  \n",
      "dtypes: float64(1), int64(18), object(5)\n",
      "memory usage: 85.9+ MB\n"
     ]
    }
   ],
   "source": [
    "df.info()"
   ]
  },
  {
   "cell_type": "code",
   "execution_count": 5,
   "id": "422c152e",
   "metadata": {},
   "outputs": [],
   "source": [
    "# Feature selection\n",
    "# df con las variables independientes a incluir en el modelo. Surgen del EDA realizado.\n",
    "# dfModel =df.drop('fraude', axis=1)\n",
    "# \n",
    "dfModel=df[['endoso', 'ase_antig_an', 'ase_cp', 'ase_codnac', 'idprod', 'pro_antig_an', \n",
    "            'marca', 'modelo', 'anio', 'uso', 'codcober', 'cob_ef']]"
   ]
  },
  {
   "cell_type": "code",
   "execution_count": 6,
   "id": "8faf0b34",
   "metadata": {},
   "outputs": [],
   "source": [
    "# Es la variable dependiente/objetivo/target 'fraude'\n",
    "dfTarget=df['fraude']"
   ]
  },
  {
   "cell_type": "code",
   "execution_count": 7,
   "id": "f991f466",
   "metadata": {},
   "outputs": [],
   "source": [
    "# Divido en training y testing. \n",
    "X_train, X_test, y_train, y_test = train_test_split(dfModel, dfTarget, test_size = 0.3, random_state=45)"
   ]
  },
  {
   "cell_type": "code",
   "execution_count": 8,
   "id": "d729a189",
   "metadata": {},
   "outputs": [
    {
     "name": "stdout",
     "output_type": "stream",
     "text": [
      "Training 0: 328559\n",
      "Training 1: 12140\n",
      "            0.0369%\n",
      "\n",
      "Testing 0: 140811\n",
      "Testing 1: 5096\n",
      "           0.0362%\n"
     ]
    }
   ],
   "source": [
    "print(\"Training 0: %.0f\" % (y_train.count()))\n",
    "print(\"Training 1: %.0f\" % (y_train.sum()))\n",
    "print(\"            %.4f%%\" % (y_train.sum() / y_train.count()))\n",
    "print(\"\")\n",
    "print(\"Testing 0: %.0f\" % (y_test.count()))\n",
    "print(\"Testing 1: %.0f\" % (y_test.sum()))\n",
    "print(\"           %.4f%%\" % (y_test.sum() / y_test.count()))"
   ]
  },
  {
   "cell_type": "code",
   "execution_count": 9,
   "id": "ed85eb3f",
   "metadata": {},
   "outputs": [],
   "source": [
    "# Divido en training y testing. Utilizo 'stratify' para mantener la proporción de positivos y negativos en train y test.\n",
    "X_train, X_test, y_train, y_test = train_test_split(dfModel, dfTarget, test_size = 0.3, random_state=45, stratify=dfTarget)"
   ]
  },
  {
   "cell_type": "code",
   "execution_count": 10,
   "id": "121222ce",
   "metadata": {},
   "outputs": [
    {
     "name": "stdout",
     "output_type": "stream",
     "text": [
      "Training 0: 328559\n",
      "Training 1: 12065\n",
      "            0.0367%\n",
      "\n",
      "Testing 0: 140811\n",
      "Testing 1: 5171\n",
      "           0.0367%\n"
     ]
    }
   ],
   "source": [
    "print(\"Training 0: %.0f\" % (y_train.count()))\n",
    "print(\"Training 1: %.0f\" % (y_train.sum()))\n",
    "print(\"            %.4f%%\" % (y_train.sum() / y_train.count()))\n",
    "print(\"\")\n",
    "print(\"Testing 0: %.0f\" % (y_test.count()))\n",
    "print(\"Testing 1: %.0f\" % (y_test.sum()))\n",
    "print(\"           %.4f%%\" % (y_test.sum() / y_test.count()))"
   ]
  },
  {
   "cell_type": "markdown",
   "id": "8bc6391b",
   "metadata": {},
   "source": [
    "###  ---Algoritmo XGBoost con BO---"
   ]
  },
  {
   "cell_type": "code",
   "execution_count": 11,
   "id": "5d4d3e4a",
   "metadata": {},
   "outputs": [],
   "source": [
    "# !pip install xgboost\n",
    "import xgboost as xgb\n",
    "from xgboost import XGBClassifier ## Categorical target variable\n",
    "# from xgboost import XGBRegressor ## Continuous target variable"
   ]
  },
  {
   "cell_type": "code",
   "execution_count": 13,
   "id": "ed2f897e",
   "metadata": {},
   "outputs": [],
   "source": [
    "def xgb_classifier(n_estimators, max_depth, reg_alpha, reg_lambda, min_child_weight, num_boost_round, gamma):\n",
    "    params = {\"booster\": 'gbtree',\n",
    "              \"objective\" : \"binary:logistic\",\n",
    "              \"eval_metric\" : \"auc\", \n",
    "              \"is_unbalance\": True,\n",
    "              \"n_estimators\": int(n_estimators),\n",
    "              \"max_depth\" : int(max_depth),\n",
    "              \"reg_alpha\" : reg_alpha,\n",
    "              \"reg_lambda\" : reg_lambda,\n",
    "              \"gamma\": gamma,\n",
    "              \"num_threads\" : 20,\n",
    "              \"min_child_weight\" : int(min_child_weight),\n",
    "              \"learning_rate\" : 0.02,\n",
    "              \"subsample_freq\" : 5,\n",
    "              \"seed\" : 42,\n",
    "              \"verbosity\" : 0,\n",
    "              \"num_boost_round\": int(num_boost_round)}\n",
    "    \n",
    "    train_data = xgb.DMatrix(X_train, y_train)\n",
    "    \n",
    "    cv_result = xgb.cv(params, train_data, 1000, early_stopping_rounds=100, stratified=True, nfold=3)\n",
    "    return cv_result['test-auc-mean'].iloc[-1]"
   ]
  },
  {
   "cell_type": "code",
   "execution_count": 14,
   "id": "54f964c8",
   "metadata": {},
   "outputs": [],
   "source": [
    "# !pip install bayesian-optimization\n",
    "from bayes_opt import BayesianOptimization\n",
    "xgbBO = BayesianOptimization(xgb_classifier, {  'n_estimators': (10, 100),\n",
    "                                                'max_depth': (5, 40),\n",
    "                                                'reg_alpha': (0.0, 0.1),\n",
    "                                                'reg_lambda': (0.0, 0.1),\n",
    "                                                'min_child_weight': (1, 10),\n",
    "                                                'num_boost_round': (100, 1000),\n",
    "                                                \"gamma\": (0, 10)\n",
    "                                                })"
   ]
  },
  {
   "cell_type": "code",
   "execution_count": 40,
   "id": "d3291e86",
   "metadata": {},
   "outputs": [
    {
     "name": "stdout",
     "output_type": "stream",
     "text": [
      "|   iter    |  target   |   gamma   | max_depth | min_ch... | n_esti... | num_bo... | reg_alpha | reg_la... |\n",
      "-------------------------------------------------------------------------------------------------------------\n",
      "| \u001b[0m 1       \u001b[0m | \u001b[0m 0.9352  \u001b[0m | \u001b[0m 1.215   \u001b[0m | \u001b[0m 12.78   \u001b[0m | \u001b[0m 5.764   \u001b[0m | \u001b[0m 68.1    \u001b[0m | \u001b[0m 596.4   \u001b[0m | \u001b[0m 0.0452  \u001b[0m | \u001b[0m 0.004125\u001b[0m |\n",
      "| \u001b[95m 2       \u001b[0m | \u001b[95m 0.9375  \u001b[0m | \u001b[95m 8.141   \u001b[0m | \u001b[95m 10.38   \u001b[0m | \u001b[95m 6.78    \u001b[0m | \u001b[95m 11.32   \u001b[0m | \u001b[95m 863.2   \u001b[0m | \u001b[95m 0.08672 \u001b[0m | \u001b[95m 0.04802 \u001b[0m |\n",
      "| \u001b[0m 3       \u001b[0m | \u001b[0m 0.9369  \u001b[0m | \u001b[0m 6.743   \u001b[0m | \u001b[0m 6.679   \u001b[0m | \u001b[0m 9.934   \u001b[0m | \u001b[0m 14.89   \u001b[0m | \u001b[0m 860.9   \u001b[0m | \u001b[0m 0.01637 \u001b[0m | \u001b[0m 0.03442 \u001b[0m |\n",
      "| \u001b[0m 4       \u001b[0m | \u001b[0m 0.9371  \u001b[0m | \u001b[0m 7.404   \u001b[0m | \u001b[0m 26.44   \u001b[0m | \u001b[0m 7.705   \u001b[0m | \u001b[0m 12.58   \u001b[0m | \u001b[0m 866.9   \u001b[0m | \u001b[0m 0.06617 \u001b[0m | \u001b[0m 0.0326  \u001b[0m |\n",
      "| \u001b[0m 5       \u001b[0m | \u001b[0m 0.9371  \u001b[0m | \u001b[0m 6.218   \u001b[0m | \u001b[0m 6.244   \u001b[0m | \u001b[0m 9.886   \u001b[0m | \u001b[0m 14.22   \u001b[0m | \u001b[0m 858.5   \u001b[0m | \u001b[0m 0.02506 \u001b[0m | \u001b[0m 0.07567 \u001b[0m |\n",
      "| \u001b[0m 6       \u001b[0m | \u001b[0m 0.9368  \u001b[0m | \u001b[0m 4.793   \u001b[0m | \u001b[0m 19.1    \u001b[0m | \u001b[0m 3.073   \u001b[0m | \u001b[0m 11.08   \u001b[0m | \u001b[0m 851.4   \u001b[0m | \u001b[0m 0.02197 \u001b[0m | \u001b[0m 0.0265  \u001b[0m |\n",
      "| \u001b[0m 7       \u001b[0m | \u001b[0m 0.9369  \u001b[0m | \u001b[0m 9.563   \u001b[0m | \u001b[0m 7.478   \u001b[0m | \u001b[0m 1.847   \u001b[0m | \u001b[0m 10.77   \u001b[0m | \u001b[0m 853.2   \u001b[0m | \u001b[0m 0.0858  \u001b[0m | \u001b[0m 0.08389 \u001b[0m |\n",
      "| \u001b[0m 8       \u001b[0m | \u001b[0m 0.9365  \u001b[0m | \u001b[0m 4.618   \u001b[0m | \u001b[0m 16.51   \u001b[0m | \u001b[0m 2.379   \u001b[0m | \u001b[0m 10.54   \u001b[0m | \u001b[0m 876.6   \u001b[0m | \u001b[0m 0.05058 \u001b[0m | \u001b[0m 0.02832 \u001b[0m |\n",
      "| \u001b[0m 9       \u001b[0m | \u001b[0m 0.9358  \u001b[0m | \u001b[0m 3.048   \u001b[0m | \u001b[0m 17.23   \u001b[0m | \u001b[0m 6.375   \u001b[0m | \u001b[0m 14.1    \u001b[0m | \u001b[0m 861.9   \u001b[0m | \u001b[0m 0.08701 \u001b[0m | \u001b[0m 0.03105 \u001b[0m |\n",
      "| \u001b[0m 10      \u001b[0m | \u001b[0m 0.9372  \u001b[0m | \u001b[0m 7.434   \u001b[0m | \u001b[0m 27.67   \u001b[0m | \u001b[0m 8.14    \u001b[0m | \u001b[0m 18.25   \u001b[0m | \u001b[0m 871.0   \u001b[0m | \u001b[0m 0.03101 \u001b[0m | \u001b[0m 0.01947 \u001b[0m |\n",
      "| \u001b[0m 11      \u001b[0m | \u001b[0m 0.9369  \u001b[0m | \u001b[0m 9.742   \u001b[0m | \u001b[0m 7.429   \u001b[0m | \u001b[0m 2.525   \u001b[0m | \u001b[0m 12.23   \u001b[0m | \u001b[0m 865.1   \u001b[0m | \u001b[0m 0.03241 \u001b[0m | \u001b[0m 0.0723  \u001b[0m |\n",
      "| \u001b[0m 12      \u001b[0m | \u001b[0m 0.9359  \u001b[0m | \u001b[0m 3.698   \u001b[0m | \u001b[0m 29.8    \u001b[0m | \u001b[0m 8.646   \u001b[0m | \u001b[0m 12.6    \u001b[0m | \u001b[0m 873.1   \u001b[0m | \u001b[0m 0.0828  \u001b[0m | \u001b[0m 0.07907 \u001b[0m |\n",
      "| \u001b[0m 13      \u001b[0m | \u001b[0m 0.937   \u001b[0m | \u001b[0m 7.269   \u001b[0m | \u001b[0m 31.75   \u001b[0m | \u001b[0m 7.904   \u001b[0m | \u001b[0m 22.3    \u001b[0m | \u001b[0m 869.6   \u001b[0m | \u001b[0m 0.07956 \u001b[0m | \u001b[0m 0.05741 \u001b[0m |\n",
      "| \u001b[0m 14      \u001b[0m | \u001b[0m 0.937   \u001b[0m | \u001b[0m 9.09    \u001b[0m | \u001b[0m 29.94   \u001b[0m | \u001b[0m 9.681   \u001b[0m | \u001b[0m 21.01   \u001b[0m | \u001b[0m 864.0   \u001b[0m | \u001b[0m 0.06628 \u001b[0m | \u001b[0m 0.09851 \u001b[0m |\n",
      "| \u001b[0m 15      \u001b[0m | \u001b[0m 0.9372  \u001b[0m | \u001b[0m 9.807   \u001b[0m | \u001b[0m 11.65   \u001b[0m | \u001b[0m 7.439   \u001b[0m | \u001b[0m 12.92   \u001b[0m | \u001b[0m 856.1   \u001b[0m | \u001b[0m 0.01983 \u001b[0m | \u001b[0m 0.07115 \u001b[0m |\n",
      "| \u001b[0m 16      \u001b[0m | \u001b[0m 0.9374  \u001b[0m | \u001b[0m 7.973   \u001b[0m | \u001b[0m 8.155   \u001b[0m | \u001b[0m 3.016   \u001b[0m | \u001b[0m 16.04   \u001b[0m | \u001b[0m 856.0   \u001b[0m | \u001b[0m 0.01148 \u001b[0m | \u001b[0m 0.08058 \u001b[0m |\n",
      "| \u001b[0m 17      \u001b[0m | \u001b[0m 0.9374  \u001b[0m | \u001b[0m 6.101   \u001b[0m | \u001b[0m 9.362   \u001b[0m | \u001b[0m 1.422   \u001b[0m | \u001b[0m 21.63   \u001b[0m | \u001b[0m 850.4   \u001b[0m | \u001b[0m 0.05489 \u001b[0m | \u001b[0m 0.0632  \u001b[0m |\n",
      "| \u001b[0m 18      \u001b[0m | \u001b[0m 0.9373  \u001b[0m | \u001b[0m 1.4     \u001b[0m | \u001b[0m 5.621   \u001b[0m | \u001b[0m 2.458   \u001b[0m | \u001b[0m 18.38   \u001b[0m | \u001b[0m 853.6   \u001b[0m | \u001b[0m 0.0249  \u001b[0m | \u001b[0m 0.08166 \u001b[0m |\n",
      "| \u001b[0m 19      \u001b[0m | \u001b[0m 0.937   \u001b[0m | \u001b[0m 3.907   \u001b[0m | \u001b[0m 5.869   \u001b[0m | \u001b[0m 6.661   \u001b[0m | \u001b[0m 22.38   \u001b[0m | \u001b[0m 852.3   \u001b[0m | \u001b[0m 0.02739 \u001b[0m | \u001b[0m 0.041   \u001b[0m |\n",
      "| \u001b[0m 20      \u001b[0m | \u001b[0m 0.9372  \u001b[0m | \u001b[0m 7.569   \u001b[0m | \u001b[0m 7.624   \u001b[0m | \u001b[0m 3.858   \u001b[0m | \u001b[0m 20.41   \u001b[0m | \u001b[0m 844.3   \u001b[0m | \u001b[0m 0.03165 \u001b[0m | \u001b[0m 0.07718 \u001b[0m |\n",
      "| \u001b[0m 21      \u001b[0m | \u001b[0m 0.9375  \u001b[0m | \u001b[0m 8.768   \u001b[0m | \u001b[0m 12.88   \u001b[0m | \u001b[0m 3.086   \u001b[0m | \u001b[0m 26.56   \u001b[0m | \u001b[0m 855.3   \u001b[0m | \u001b[0m 0.03544 \u001b[0m | \u001b[0m 0.05387 \u001b[0m |\n",
      "| \u001b[0m 22      \u001b[0m | \u001b[0m 0.9374  \u001b[0m | \u001b[0m 4.127   \u001b[0m | \u001b[0m 7.575   \u001b[0m | \u001b[0m 1.764   \u001b[0m | \u001b[0m 27.12   \u001b[0m | \u001b[0m 858.1   \u001b[0m | \u001b[0m 0.02779 \u001b[0m | \u001b[0m 0.03029 \u001b[0m |\n",
      "=============================================================================================================\n"
     ]
    }
   ],
   "source": [
    "xgbBO.maximize(n_iter=20, init_points=2) # n_iter=35"
   ]
  },
  {
   "cell_type": "code",
   "execution_count": 41,
   "id": "f4cdabfd",
   "metadata": {},
   "outputs": [
    {
     "data": {
      "text/plain": [
       "{'target': 0.937502,\n",
       " 'params': {'gamma': 8.141210926403971,\n",
       "  'max_depth': 10.375142001632327,\n",
       "  'min_child_weight': 6.779723064345376,\n",
       "  'n_estimators': 11.320640191991654,\n",
       "  'num_boost_round': 863.1863888614448,\n",
       "  'reg_alpha': 0.08672170218151724,\n",
       "  'reg_lambda': 0.048019737256687234}}"
      ]
     },
     "execution_count": 41,
     "metadata": {},
     "output_type": "execute_result"
    }
   ],
   "source": [
    "xgbBO.max"
   ]
  },
  {
   "cell_type": "code",
   "execution_count": 15,
   "id": "b025751a",
   "metadata": {},
   "outputs": [],
   "source": [
    "# clf_xgb=XGBClassifier(use_label_encoder=False, \n",
    "#                       colsample_bytree = 0.5, \n",
    "#                       learning_rate = 0.2,\n",
    "#                       gamma =  7.913757545198536,\n",
    "#                       max_depth = 7,\n",
    "#                       min_child_weight = 1.9202611553414282,\n",
    "#                       alpha = 10, \n",
    "#                       n_estimators = 45,\n",
    "#                       reg_alpha =   0.07711402098002348,\n",
    "#                       reg_lambda = 0.0433274269286166,\n",
    "#                       eval_metric='auc')\n",
    "\n",
    "# n_estimators = 45\n",
    "\n",
    "clf_xgb=XGBClassifier(use_label_encoder=False, \n",
    "                      colsample_bytree = 0.5, \n",
    "                      learning_rate = 0.2,\n",
    "                      gamma =  8.141210926403971,\n",
    "                      max_depth = 10,\n",
    "                      min_child_weight = 6.779723064345376,\n",
    "                      alpha = 10, \n",
    "                      n_estimators = 50,\n",
    "                      reg_alpha = 0.08672170218151724,\n",
    "                      reg_lambda = 0.048019737256687234,\n",
    "                      eval_metric='auc')"
   ]
  },
  {
   "cell_type": "code",
   "execution_count": 16,
   "id": "4c23edcd",
   "metadata": {},
   "outputs": [
    {
     "data": {
      "text/plain": [
       "XGBClassifier(alpha=10, base_score=0.5, booster='gbtree', colsample_bylevel=1,\n",
       "              colsample_bynode=1, colsample_bytree=0.5, eval_metric='auc',\n",
       "              gamma=8.141210926403971, gpu_id=-1, importance_type='gain',\n",
       "              interaction_constraints='', learning_rate=0.2, max_delta_step=0,\n",
       "              max_depth=10, min_child_weight=6.779723064345376, missing=nan,\n",
       "              monotone_constraints='()', n_estimators=50, n_jobs=4,\n",
       "              num_parallel_tree=1, random_state=0,\n",
       "              reg_alpha=0.08672170218151724, reg_lambda=0.048019737256687234,\n",
       "              scale_pos_weight=1, subsample=1, tree_method='exact',\n",
       "              use_label_encoder=False, validate_parameters=1, verbosity=None)"
      ]
     },
     "execution_count": 16,
     "metadata": {},
     "output_type": "execute_result"
    }
   ],
   "source": [
    "# Fitting model\n",
    "clf_xgb.fit(X_train, y_train)"
   ]
  },
  {
   "cell_type": "code",
   "execution_count": 17,
   "id": "793b03c4",
   "metadata": {},
   "outputs": [
    {
     "data": {
      "image/png": "[encoded data removed]",
      "text/plain": [
       "<Figure size 432x288 with 1 Axes>"
      ]
     },
     "metadata": {
      "needs_background": "light"
     },
     "output_type": "display_data"
    }
   ],
   "source": [
    "# la variable que mas toma en cuenta el clasificador.\n",
    "xgb.plot_importance(clf_xgb, ax=plt.gca())\n",
    "y_pred  = clf_xgb.predict(X_test)"
   ]
  },
  {
   "cell_type": "code",
   "execution_count": 18,
   "id": "aebcea5f",
   "metadata": {},
   "outputs": [
    {
     "name": "stdout",
     "output_type": "stream",
     "text": [
      "              precision    recall  f1-score   support\n",
      "\n",
      "           0       0.98      0.98      0.98    135640\n",
      "           1       0.56      0.59      0.58      5171\n",
      "\n",
      "    accuracy                           0.97    140811\n",
      "   macro avg       0.77      0.79      0.78    140811\n",
      "weighted avg       0.97      0.97      0.97    140811\n",
      "\n"
     ]
    }
   ],
   "source": [
    "from sklearn.metrics import classification_report\n",
    "print(classification_report(y_test, y_pred))"
   ]
  },
  {
   "cell_type": "code",
   "execution_count": 19,
   "id": "f73c3e96",
   "metadata": {},
   "outputs": [
    {
     "data": {
      "text/plain": [
       "array([[133215,   2425],\n",
       "       [  2098,   3073]], dtype=int64)"
      ]
     },
     "execution_count": 19,
     "metadata": {},
     "output_type": "execute_result"
    }
   ],
   "source": [
    "from sklearn.metrics import confusion_matrix\n",
    "confusion_matrix(y_test, y_pred)"
   ]
  },
  {
   "cell_type": "code",
   "execution_count": 20,
   "id": "b01e214f",
   "metadata": {},
   "outputs": [
    {
     "data": {
      "image/png": "[encoded data removed]",
      "text/plain": [
       "<Figure size 360x360 with 1 Axes>"
      ]
     },
     "metadata": {
      "needs_background": "light"
     },
     "output_type": "display_data"
    }
   ],
   "source": [
    "from sklearn.metrics import roc_auc_score, roc_curve\n",
    "from sklearn.metrics import accuracy_score, precision_score, recall_score, roc_auc_score\n",
    "\n",
    "y_pred_proba = clf_xgb.predict_proba(X_test)[::,1]\n",
    "fpr_xgb, tpr_xgb, _ = roc_curve(y_test,  y_pred_proba)\n",
    "auc_xgb = roc_auc_score(y_test, y_pred_proba)\n",
    "plt.figure(figsize=(5,5))\n",
    "plt.title('Receiver Operating Characteristic')\n",
    "plt.plot(fpr_xgb,tpr_xgb,color=\"green\",label=\"XGBoost - AUC=%.4f\" % auc_xgb)\n",
    "plt.plot([0, 1], [0, 1],linestyle='--')\n",
    "plt.legend(loc=4)\n",
    "plt.show()"
   ]
  },
  {
   "cell_type": "markdown",
   "id": "f563f96f",
   "metadata": {},
   "source": [
    "### ---Decision Tree---"
   ]
  },
  {
   "cell_type": "code",
   "execution_count": 21,
   "id": "32a24084",
   "metadata": {},
   "outputs": [],
   "source": [
    "# Load libraries\n",
    "from sklearn.tree import DecisionTreeClassifier # Import Decision Tree Classifier\n",
    "from sklearn import metrics #Import scikit-learn metrics module for accuracy calculation"
   ]
  },
  {
   "cell_type": "code",
   "execution_count": 22,
   "id": "42564fac",
   "metadata": {},
   "outputs": [],
   "source": [
    "# Create Decision Tree classifer object\n",
    "clf_dt = DecisionTreeClassifier()\n",
    "# Train Decision Tree Classifer\n",
    "clf_dt = clf_dt.fit(X_train,y_train)\n",
    "#Predict the response for test dataset\n",
    "y_pred = clf_dt.predict(X_test)"
   ]
  },
  {
   "cell_type": "code",
   "execution_count": 23,
   "id": "978dff28",
   "metadata": {},
   "outputs": [],
   "source": [
    "# Visualizing Decision Trees\n",
    "# !pip install StringIO\n",
    "\n",
    "# from sklearn.externals.six import StringIO  \n",
    "# from IPython.display import Image  \n",
    "# from sklearn.tree import export_graphviz\n",
    "# import pydotplus\n",
    "# dot_data = StringIO()\n",
    "# export_graphviz(clf_dt, out_file=dot_data,  \n",
    "#                 filled=True, rounded=True,\n",
    "#                 special_characters=True, feature_names = feature_cols,class_names=['0','1'])\n",
    "# graph = pydotplus.graph_from_dot_data(dot_data.getvalue())  \n",
    "# graph.write_png('decision_tree.png')\n",
    "# Image(graph.create_png())"
   ]
  },
  {
   "cell_type": "code",
   "execution_count": 24,
   "id": "bef94843",
   "metadata": {},
   "outputs": [
    {
     "name": "stdout",
     "output_type": "stream",
     "text": [
      "Model accuracy score: 0.9534\n"
     ]
    }
   ],
   "source": [
    "# view accuracy\n",
    "# from sklearn.metrics import accuracy_score\n",
    "accuracy=accuracy_score(y_pred, y_test)\n",
    "print('Model accuracy score: {0:0.4f}'.format(accuracy_score(y_test, y_pred)))"
   ]
  },
  {
   "cell_type": "code",
   "execution_count": 25,
   "id": "1541e4ce",
   "metadata": {},
   "outputs": [],
   "source": [
    "y_pred_train = clf_dt.predict(X_train)"
   ]
  },
  {
   "cell_type": "code",
   "execution_count": 26,
   "id": "21f977e0",
   "metadata": {},
   "outputs": [
    {
     "name": "stdout",
     "output_type": "stream",
     "text": [
      "              precision    recall  f1-score   support\n",
      "\n",
      "           0       0.98      0.98      0.98    135640\n",
      "           1       0.37      0.38      0.38      5171\n",
      "\n",
      "    accuracy                           0.95    140811\n",
      "   macro avg       0.67      0.68      0.68    140811\n",
      "weighted avg       0.95      0.95      0.95    140811\n",
      "\n"
     ]
    }
   ],
   "source": [
    "print(classification_report(y_test, y_pred))"
   ]
  },
  {
   "cell_type": "code",
   "execution_count": 27,
   "id": "9a1fb3c9",
   "metadata": {},
   "outputs": [
    {
     "data": {
      "text/plain": [
       "array([[132278,   3362],\n",
       "       [  3193,   1978]], dtype=int64)"
      ]
     },
     "execution_count": 27,
     "metadata": {},
     "output_type": "execute_result"
    }
   ],
   "source": [
    "confusion_matrix(y_test, y_pred)"
   ]
  },
  {
   "cell_type": "code",
   "execution_count": 28,
   "id": "94e72928",
   "metadata": {},
   "outputs": [
    {
     "data": {
      "image/png": "[encoded data removed]",
      "text/plain": [
       "<Figure size 360x360 with 1 Axes>"
      ]
     },
     "metadata": {
      "needs_background": "light"
     },
     "output_type": "display_data"
    }
   ],
   "source": [
    "y_pred_proba = clf_dt.predict_proba(X_test)[::,1]\n",
    "fpr_dt, tpr_dt, _ = roc_curve(y_test,  y_pred_proba)\n",
    "auc_dt = roc_auc_score(y_test, y_pred_proba)\n",
    "plt.figure(figsize=(5,5))\n",
    "plt.title('Receiver Operating Characteristic')\n",
    "plt.plot(fpr_dt,tpr_dt,color=\"blue\",label=\"Decision Tree - AUC=%.4f\" % auc_dt)\n",
    "plt.plot([0, 1], [0, 1],linestyle='--')\n",
    "plt.legend(loc=4)\n",
    "plt.show()"
   ]
  },
  {
   "cell_type": "markdown",
   "id": "359a1787",
   "metadata": {},
   "source": [
    "### ---Random Forest---"
   ]
  },
  {
   "cell_type": "code",
   "execution_count": 29,
   "id": "cb6ef402",
   "metadata": {},
   "outputs": [],
   "source": [
    "# Import Random Forest Model\n",
    "from sklearn.ensemble import RandomForestClassifier\n",
    "# Create a Gaussian Classifier\n",
    "clf_rf=RandomForestClassifier(n_estimators=100)\n",
    "# Train the model using the training sets y_pred=clf.predict(X_test)\n",
    "clf_rf.fit(X_train,y_train)\n",
    "y_pred=clf_rf.predict(X_test)"
   ]
  },
  {
   "cell_type": "code",
   "execution_count": 30,
   "id": "a742724c",
   "metadata": {},
   "outputs": [
    {
     "data": {
      "text/plain": [
       "4     0.304360\n",
       "10    0.159603\n",
       "7     0.156143\n",
       "1     0.088938\n",
       "2     0.079638\n",
       "8     0.072502\n",
       "9     0.072093\n",
       "6     0.046316\n",
       "11    0.010180\n",
       "5     0.009743\n",
       "3     0.000402\n",
       "0     0.000082\n",
       "dtype: float64"
      ]
     },
     "execution_count": 30,
     "metadata": {},
     "output_type": "execute_result"
    }
   ],
   "source": [
    "# feature_imp = pd.Series(clf.feature_importances_,index=df.feature_names).sort_values(ascending=False)\n",
    "feature_imp = pd.Series(clf_rf.feature_importances_).sort_values(ascending=False)\n",
    "feature_imp"
   ]
  },
  {
   "cell_type": "code",
   "execution_count": 31,
   "id": "9b64d6d8",
   "metadata": {},
   "outputs": [
    {
     "name": "stdout",
     "output_type": "stream",
     "text": [
      "              precision    recall  f1-score   support\n",
      "\n",
      "           0       0.98      0.99      0.98    135640\n",
      "           1       0.53      0.39      0.45      5171\n",
      "\n",
      "    accuracy                           0.96    140811\n",
      "   macro avg       0.75      0.69      0.71    140811\n",
      "weighted avg       0.96      0.96      0.96    140811\n",
      "\n"
     ]
    }
   ],
   "source": [
    "print(classification_report(y_test, y_pred))"
   ]
  },
  {
   "cell_type": "code",
   "execution_count": 32,
   "id": "b18a3ce7",
   "metadata": {},
   "outputs": [
    {
     "data": {
      "text/plain": [
       "array([[133813,   1827],\n",
       "       [  3150,   2021]], dtype=int64)"
      ]
     },
     "execution_count": 32,
     "metadata": {},
     "output_type": "execute_result"
    }
   ],
   "source": [
    "confusion_matrix(y_test, y_pred)"
   ]
  },
  {
   "cell_type": "code",
   "execution_count": 33,
   "id": "2ef5811f",
   "metadata": {},
   "outputs": [
    {
     "data": {
      "image/png": "[encoded data removed]",
      "text/plain": [
       "<Figure size 360x360 with 1 Axes>"
      ]
     },
     "metadata": {
      "needs_background": "light"
     },
     "output_type": "display_data"
    }
   ],
   "source": [
    "y_pred_proba = clf_rf.predict_proba(X_test)[::,1]\n",
    "fpr_rf, tpr_rf, _ = roc_curve(y_test,  y_pred_proba)\n",
    "auc_rf = roc_auc_score(y_test, y_pred_proba)\n",
    "plt.figure(figsize=(5,5))\n",
    "plt.title('Receiver Operating Characteristic')\n",
    "plt.plot(fpr_rf,tpr_rf,color=\"cyan\",label=\"Random Forest - AUC=%.4f\" % auc_rf)\n",
    "plt.plot([0, 1], [0, 1],linestyle='--')\n",
    "plt.legend(loc=4)\n",
    "plt.show()"
   ]
  },
  {
   "cell_type": "markdown",
   "id": "38876c62",
   "metadata": {},
   "source": [
    "### ---Logistic Regression---"
   ]
  },
  {
   "cell_type": "code",
   "execution_count": 34,
   "id": "c0e36f0f",
   "metadata": {},
   "outputs": [],
   "source": [
    "# import the class\n",
    "from sklearn.linear_model import LogisticRegression\n",
    "# instantiate the model (using the default parameters)\n",
    "clf_lr=LogisticRegression(solver='liblinear', random_state=0)\n",
    "# fit the model with data\n",
    "clf_lr.fit(X_train,y_train)\n",
    "y_pred=clf_lr.predict(X_test)"
   ]
  },
  {
   "cell_type": "code",
   "execution_count": 35,
   "id": "1976ad3f",
   "metadata": {},
   "outputs": [
    {
     "name": "stdout",
     "output_type": "stream",
     "text": [
      "              precision    recall  f1-score   support\n",
      "\n",
      "           0       0.97      1.00      0.98    135640\n",
      "           1       0.58      0.06      0.12      5171\n",
      "\n",
      "    accuracy                           0.96    140811\n",
      "   macro avg       0.77      0.53      0.55    140811\n",
      "weighted avg       0.95      0.96      0.95    140811\n",
      "\n"
     ]
    }
   ],
   "source": [
    "print(classification_report(y_test, y_pred))"
   ]
  },
  {
   "cell_type": "code",
   "execution_count": 36,
   "id": "1e23bd9c",
   "metadata": {},
   "outputs": [
    {
     "data": {
      "text/plain": [
       "array([[135398,    242],\n",
       "       [  4836,    335]], dtype=int64)"
      ]
     },
     "execution_count": 36,
     "metadata": {},
     "output_type": "execute_result"
    }
   ],
   "source": [
    "confusion_matrix(y_test, y_pred)"
   ]
  },
  {
   "cell_type": "code",
   "execution_count": 37,
   "id": "7b0f0907",
   "metadata": {},
   "outputs": [
    {
     "data": {
      "image/png": "[encoded data removed]",
      "text/plain": [
       "<Figure size 360x360 with 1 Axes>"
      ]
     },
     "metadata": {
      "needs_background": "light"
     },
     "output_type": "display_data"
    }
   ],
   "source": [
    "y_pred_proba = clf_lr.predict_proba(X_test)[::,1]\n",
    "fpr_lr, tpr_lr, _ = roc_curve(y_test,  y_pred_proba)\n",
    "auc_lr = roc_auc_score(y_test, y_pred_proba)\n",
    "plt.figure(figsize=(5,5))\n",
    "plt.title('Receiver Operating Characteristic')\n",
    "plt.plot(fpr_lr,tpr_lr,color=\"black\",label=\"Logistic Regression - AUC=%.4f\" % auc_lr)\n",
    "plt.plot([0, 1], [0, 1],linestyle='--')\n",
    "plt.legend(loc=4)\n",
    "plt.show()"
   ]
  },
  {
   "cell_type": "markdown",
   "id": "5f89c722",
   "metadata": {},
   "source": [
    "### ---LightGBM---"
   ]
  },
  {
   "cell_type": "code",
   "execution_count": 38,
   "id": "2926bd5a",
   "metadata": {},
   "outputs": [],
   "source": [
    "# build the lightgbm model\n",
    "import lightgbm as lgb\n",
    "clf_lgbm = lgb.LGBMClassifier()\n",
    "clf_lgbm.fit(X_train, y_train)\n",
    "\n",
    "# predict the results\n",
    "y_pred=clf_lgbm.predict(X_test)"
   ]
  },
  {
   "cell_type": "code",
   "execution_count": 42,
   "id": "4072749e",
   "metadata": {},
   "outputs": [],
   "source": [
    "y_pred_train = clf_lgbm.predict(X_train)"
   ]
  },
  {
   "cell_type": "code",
   "execution_count": 43,
   "id": "ae95ab91",
   "metadata": {},
   "outputs": [
    {
     "name": "stdout",
     "output_type": "stream",
     "text": [
      "              precision    recall  f1-score   support\n",
      "\n",
      "           0       0.98      0.98      0.98    135640\n",
      "           1       0.56      0.61      0.58      5171\n",
      "\n",
      "    accuracy                           0.97    140811\n",
      "   macro avg       0.77      0.79      0.78    140811\n",
      "weighted avg       0.97      0.97      0.97    140811\n",
      "\n"
     ]
    }
   ],
   "source": [
    "print(classification_report(y_test, y_pred))"
   ]
  },
  {
   "cell_type": "code",
   "execution_count": 44,
   "id": "060dac37",
   "metadata": {},
   "outputs": [
    {
     "data": {
      "text/plain": [
       "array([[133144,   2496],\n",
       "       [  2032,   3139]], dtype=int64)"
      ]
     },
     "execution_count": 44,
     "metadata": {},
     "output_type": "execute_result"
    }
   ],
   "source": [
    "confusion_matrix(y_test, y_pred)"
   ]
  },
  {
   "cell_type": "code",
   "execution_count": 45,
   "id": "ac86b255",
   "metadata": {},
   "outputs": [
    {
     "data": {
      "image/png": "[encoded data removed]",
      "text/plain": [
       "<Figure size 360x360 with 1 Axes>"
      ]
     },
     "metadata": {
      "needs_background": "light"
     },
     "output_type": "display_data"
    }
   ],
   "source": [
    "y_pred_proba = clf_lgbm.predict_proba(X_test)[::,1]\n",
    "fpr_lgbm, tpr_lgbm, _ = roc_curve(y_test,  y_pred_proba)\n",
    "auc_lgbm = roc_auc_score(y_test, y_pred_proba)\n",
    "plt.figure(figsize=(5,5))\n",
    "plt.title('Receiver Operating Characteristic')\n",
    "plt.plot(fpr_lgbm,tpr_lgbm,color=\"pink\",label=\"LightGBM - AUC=%.4f\" % auc_lgbm)\n",
    "plt.plot([0, 1], [0, 1],linestyle='--')\n",
    "plt.legend(loc=4)\n",
    "plt.show()"
   ]
  },
  {
   "cell_type": "markdown",
   "id": "be87c308",
   "metadata": {},
   "source": [
    "### ROC Curve y AUC - Todos los modelos"
   ]
  },
  {
   "cell_type": "code",
   "execution_count": 46,
   "id": "cafa1783",
   "metadata": {},
   "outputs": [
    {
     "data": {
      "image/png": "[encoded data removed]",
      "text/plain": [
       "<Figure size 720x576 with 1 Axes>"
      ]
     },
     "metadata": {
      "needs_background": "light"
     },
     "output_type": "display_data"
    }
   ],
   "source": [
    "plt.figure(figsize=(10,8))\n",
    "plt.title('Receiver Operating Characteristic')\n",
    "plt.plot(fpr_lgbm,tpr_lgbm,color=\"pink\",label=\"LightGBM - AUC=%.4f\" % auc_lgbm)\n",
    "plt.plot(fpr_lr,tpr_lr,color=\"black\",label=\"Logistic Regression - AUC=%.4f\" % auc_lr)\n",
    "plt.plot(fpr_xgb,tpr_xgb,color=\"green\",label=\"XGBoost - AUC=%.4f\" % auc_xgb)\n",
    "plt.plot(fpr_dt,tpr_dt,color=\"blue\",label=\"Decision Tree - AUC=%.4f\" % auc_dt)\n",
    "plt.plot(fpr_rf,tpr_rf,color=\"cyan\",label=\"Random Forest - AUC=%.4f\" % auc_rf)\n",
    "plt.plot([0, 1], [0, 1],linestyle='--')\n",
    "plt.legend(loc=4)\n",
    "plt.xlabel(\"False Positive Rate\")\n",
    "plt.ylabel(\"True Positive Rate\")\n",
    "plt.savefig('ROC_Curve_Modelos.jpg')\n",
    "plt.show()"
   ]
  },
  {
   "cell_type": "markdown",
   "id": "1a1b5bf1",
   "metadata": {},
   "source": [
    "### En base al rendimiento demostrado, se elige ---XGBoost--- como el algoritmo a desarrollar. \n",
    "También podría desarrolla LightGBM dado que tiene un rendimiento muy similar."
   ]
  },
  {
   "cell_type": "code",
   "execution_count": 47,
   "id": "2ce56224",
   "metadata": {},
   "outputs": [],
   "source": [
    "# comienzo nuevo proceso."
   ]
  },
  {
   "cell_type": "markdown",
   "id": "8797fee4",
   "metadata": {},
   "source": [
    "### Feature Engineering"
   ]
  },
  {
   "cell_type": "code",
   "execution_count": 48,
   "id": "59cf4a5a",
   "metadata": {},
   "outputs": [],
   "source": [
    "# Anio Fecha Ultima Cobranza.\n",
    "df['Fe_New1'] = pd.to_numeric(df['cob_fecuma'].astype(str).str.slice(0,4))"
   ]
  },
  {
   "cell_type": "code",
   "execution_count": 49,
   "id": "6cbad150",
   "metadata": {},
   "outputs": [],
   "source": [
    "# Mes Fecha Ultima Cobranza.\n",
    "df['Fe_New2'] = pd.to_numeric(df['cob_fecuma'].astype(str).str.slice(4,6))"
   ]
  },
  {
   "cell_type": "code",
   "execution_count": 50,
   "id": "34e1276e",
   "metadata": {},
   "outputs": [],
   "source": [
    "# Anio Fecha Emisión de la Operación.\n",
    "df['Fe_New3'] = pd.to_numeric(df['fecemi'].astype(str).str.slice(0,4))"
   ]
  },
  {
   "cell_type": "code",
   "execution_count": 51,
   "id": "d64cbdac",
   "metadata": {},
   "outputs": [],
   "source": [
    "# Mes Emisión de la Operación.\n",
    "df['Fe_New4'] = pd.to_numeric(df['fecemi'].astype(str).str.slice(4,6))"
   ]
  },
  {
   "cell_type": "code",
   "execution_count": 52,
   "id": "dd5e8e60",
   "metadata": {},
   "outputs": [],
   "source": [
    "# la diferencia entre el día de proceso y la última cobranza.\n",
    "df['Fe_New5'] = (pd.Timestamp.now().normalize()-pd.to_datetime(df['cob_fecuma'], format='%Y%m%d')).dt.days"
   ]
  },
  {
   "cell_type": "code",
   "execution_count": 53,
   "id": "ff0fc0fd",
   "metadata": {},
   "outputs": [
    {
     "name": "stdout",
     "output_type": "stream",
     "text": [
      "<class 'pandas.core.frame.DataFrame'>\n",
      "RangeIndex: 469370 entries, 0 to 469369\n",
      "Data columns (total 29 columns):\n",
      " #   Column        Non-Null Count   Dtype  \n",
      "---  ------        --------------   -----  \n",
      " 0   pol           469370 non-null  int64  \n",
      " 1   endoso        469370 non-null  int64  \n",
      " 2   item          469370 non-null  int64  \n",
      " 3   fecemi        469370 non-null  int64  \n",
      " 4   tipend        469370 non-null  object \n",
      " 5   idaseg        469370 non-null  int64  \n",
      " 6   ase_antig_an  469370 non-null  int64  \n",
      " 7   ase_cp        469370 non-null  int64  \n",
      " 8   ase_codnac    469370 non-null  float64\n",
      " 9   ase_nac       469370 non-null  object \n",
      " 10  idprod        469370 non-null  int64  \n",
      " 11  pro_antig_an  469370 non-null  int64  \n",
      " 12  tipveh        469370 non-null  int64  \n",
      " 13  marca         469370 non-null  int64  \n",
      " 14  modelo        469370 non-null  int64  \n",
      " 15  anio          469370 non-null  int64  \n",
      " 16  uso           469370 non-null  int64  \n",
      " 17  uso_desc      469370 non-null  object \n",
      " 18  cober         469370 non-null  object \n",
      " 19  codcober      469370 non-null  int64  \n",
      " 20  cober_desc    469370 non-null  object \n",
      " 21  cob_fecuma    469370 non-null  int64  \n",
      " 22  cob_ef        469370 non-null  int64  \n",
      " 23  fraude        469370 non-null  int64  \n",
      " 24  Fe_New1       469370 non-null  int64  \n",
      " 25  Fe_New2       469370 non-null  int64  \n",
      " 26  Fe_New3       469370 non-null  int64  \n",
      " 27  Fe_New4       469370 non-null  int64  \n",
      " 28  Fe_New5       469370 non-null  int64  \n",
      "dtypes: float64(1), int64(23), object(5)\n",
      "memory usage: 103.8+ MB\n"
     ]
    }
   ],
   "source": [
    "df.info()"
   ]
  },
  {
   "cell_type": "markdown",
   "id": "b28638e4",
   "metadata": {},
   "source": [
    "### Feature Selection"
   ]
  },
  {
   "cell_type": "code",
   "execution_count": 54,
   "id": "126716eb",
   "metadata": {},
   "outputs": [],
   "source": [
    "dfModel=df[['endoso', 'ase_antig_an', 'ase_cp', 'ase_codnac', 'idprod', 'pro_antig_an', \n",
    "            'marca', 'modelo', 'anio', 'uso', 'codcober', 'cob_ef', \n",
    "            'Fe_New1', 'Fe_New2', 'Fe_New3', 'Fe_New4', 'Fe_New5']]"
   ]
  },
  {
   "cell_type": "code",
   "execution_count": 55,
   "id": "178a5646",
   "metadata": {},
   "outputs": [],
   "source": [
    "# Es la variable dependiente/objetivo/target 'fraude'\n",
    "dfTarget=df['fraude']"
   ]
  },
  {
   "cell_type": "code",
   "execution_count": 56,
   "id": "9a752da4",
   "metadata": {},
   "outputs": [],
   "source": [
    "# Divido en training y testing. Utilizo 'stratify' para mantener la proporción de positivos y negativos en train y test.\n",
    "X_train, X_test, y_train, y_test = train_test_split(dfModel, dfTarget, test_size = 0.3, random_state=45, stratify=dfTarget)"
   ]
  },
  {
   "cell_type": "code",
   "execution_count": 57,
   "id": "8d3a21aa",
   "metadata": {},
   "outputs": [
    {
     "name": "stdout",
     "output_type": "stream",
     "text": [
      "Training 0: 328559\n",
      "Training 1: 12065\n",
      "            0.0367%\n",
      "\n",
      "Testing 0: 140811\n",
      "Testing 1: 5171\n",
      "           0.0367%\n"
     ]
    }
   ],
   "source": [
    "print(\"Training 0: %.0f\" % (y_train.count()))\n",
    "print(\"Training 1: %.0f\" % (y_train.sum()))\n",
    "print(\"            %.4f%%\" % (y_train.sum() / y_train.count()))\n",
    "print(\"\")\n",
    "print(\"Testing 0: %.0f\" % (y_test.count()))\n",
    "print(\"Testing 1: %.0f\" % (y_test.sum()))\n",
    "print(\"           %.4f%%\" % (y_test.sum() / y_test.count()))"
   ]
  },
  {
   "cell_type": "code",
   "execution_count": 58,
   "id": "62ce0b1f",
   "metadata": {},
   "outputs": [],
   "source": [
    "# !pip install xgboost\n",
    "import xgboost as xgb\n",
    "from xgboost import XGBClassifier ## Categorical target variable\n",
    "# from xgboost import XGBRegressor ## Continuous target variable"
   ]
  },
  {
   "cell_type": "code",
   "execution_count": 59,
   "id": "c99634f7",
   "metadata": {},
   "outputs": [],
   "source": [
    "def xgb_classifier(n_estimators, max_depth, reg_alpha, reg_lambda, min_child_weight, num_boost_round, gamma):\n",
    "    params = {\"booster\": 'gbtree',\n",
    "              \"objective\" : \"binary:logistic\",\n",
    "              \"eval_metric\" : \"auc\", \n",
    "              \"is_unbalance\": True,\n",
    "              \"n_estimators\": int(n_estimators),\n",
    "              \"max_depth\" : int(max_depth),\n",
    "              \"reg_alpha\" : reg_alpha,\n",
    "              \"reg_lambda\" : reg_lambda,\n",
    "              \"gamma\": gamma,\n",
    "              \"num_threads\" : 20,\n",
    "              \"min_child_weight\" : int(min_child_weight),\n",
    "              \"learning_rate\" : 0.02,\n",
    "              \"subsample_freq\" : 5,\n",
    "              \"seed\" : 42,\n",
    "              \"verbosity\" : 0,\n",
    "              \"num_boost_round\": int(num_boost_round)}\n",
    "    \n",
    "    train_data = xgb.DMatrix(X_train, y_train, enable_categorical=True)\n",
    "    \n",
    "    cv_result = xgb.cv(params, train_data, 1000, early_stopping_rounds=100, stratified=True, nfold=3)\n",
    "    return cv_result['test-auc-mean'].iloc[-1]"
   ]
  },
  {
   "cell_type": "code",
   "execution_count": 60,
   "id": "7dcbccac",
   "metadata": {},
   "outputs": [],
   "source": [
    "# !pip install bayesian-optimization\n",
    "from bayes_opt import BayesianOptimization\n",
    "xgbBO = BayesianOptimization(xgb_classifier, {  'n_estimators': (10, 100),\n",
    "                                                'max_depth': (5, 40),\n",
    "                                                'reg_alpha': (0.0, 0.1),\n",
    "                                                'reg_lambda': (0.0, 0.1),\n",
    "                                                'min_child_weight': (1, 10),\n",
    "                                                'num_boost_round': (100, 1000),\n",
    "                                                \"gamma\": (0, 10)\n",
    "                                                })"
   ]
  },
  {
   "cell_type": "code",
   "execution_count": 61,
   "id": "603be984",
   "metadata": {},
   "outputs": [
    {
     "name": "stdout",
     "output_type": "stream",
     "text": [
      "|   iter    |  target   |   gamma   | max_depth | min_ch... | n_esti... | num_bo... | reg_alpha | reg_la... |\n",
      "-------------------------------------------------------------------------------------------------------------\n",
      "| \u001b[0m 1       \u001b[0m | \u001b[0m 0.947   \u001b[0m | \u001b[0m 6.821   \u001b[0m | \u001b[0m 17.0    \u001b[0m | \u001b[0m 5.64    \u001b[0m | \u001b[0m 95.73   \u001b[0m | \u001b[0m 579.5   \u001b[0m | \u001b[0m 0.08517 \u001b[0m | \u001b[0m 0.03408 \u001b[0m |\n",
      "| \u001b[0m 2       \u001b[0m | \u001b[0m 0.9392  \u001b[0m | \u001b[0m 1.463   \u001b[0m | \u001b[0m 35.14   \u001b[0m | \u001b[0m 1.612   \u001b[0m | \u001b[0m 65.01   \u001b[0m | \u001b[0m 419.6   \u001b[0m | \u001b[0m 0.03243 \u001b[0m | \u001b[0m 0.07853 \u001b[0m |\n",
      "| \u001b[0m 3       \u001b[0m | \u001b[0m 0.9469  \u001b[0m | \u001b[0m 7.824   \u001b[0m | \u001b[0m 17.36   \u001b[0m | \u001b[0m 4.746   \u001b[0m | \u001b[0m 92.56   \u001b[0m | \u001b[0m 584.4   \u001b[0m | \u001b[0m 0.06005 \u001b[0m | \u001b[0m 0.06211 \u001b[0m |\n",
      "| \u001b[0m 4       \u001b[0m | \u001b[0m 0.945   \u001b[0m | \u001b[0m 0.5185  \u001b[0m | \u001b[0m 13.74   \u001b[0m | \u001b[0m 9.679   \u001b[0m | \u001b[0m 99.23   \u001b[0m | \u001b[0m 767.6   \u001b[0m | \u001b[0m 0.05606 \u001b[0m | \u001b[0m 0.0285  \u001b[0m |\n",
      "| \u001b[0m 5       \u001b[0m | \u001b[0m 0.9468  \u001b[0m | \u001b[0m 6.458   \u001b[0m | \u001b[0m 33.94   \u001b[0m | \u001b[0m 3.815   \u001b[0m | \u001b[0m 98.72   \u001b[0m | \u001b[0m 966.3   \u001b[0m | \u001b[0m 0.06292 \u001b[0m | \u001b[0m 0.04389 \u001b[0m |\n",
      "| \u001b[0m 6       \u001b[0m | \u001b[0m 0.9411  \u001b[0m | \u001b[0m 0.4882  \u001b[0m | \u001b[0m 25.98   \u001b[0m | \u001b[0m 5.957   \u001b[0m | \u001b[0m 10.93   \u001b[0m | \u001b[0m 905.7   \u001b[0m | \u001b[0m 0.07265 \u001b[0m | \u001b[0m 0.035   \u001b[0m |\n",
      "| \u001b[0m 7       \u001b[0m | \u001b[0m 0.9425  \u001b[0m | \u001b[0m 0.961   \u001b[0m | \u001b[0m 32.11   \u001b[0m | \u001b[0m 8.416   \u001b[0m | \u001b[0m 11.94   \u001b[0m | \u001b[0m 672.2   \u001b[0m | \u001b[0m 0.03265 \u001b[0m | \u001b[0m 0.004492\u001b[0m |\n",
      "| \u001b[0m 8       \u001b[0m | \u001b[0m 0.9454  \u001b[0m | \u001b[0m 0.4477  \u001b[0m | \u001b[0m 5.0     \u001b[0m | \u001b[0m 8.927   \u001b[0m | \u001b[0m 45.81   \u001b[0m | \u001b[0m 548.1   \u001b[0m | \u001b[0m 0.03401 \u001b[0m | \u001b[0m 0.0     \u001b[0m |\n",
      "| \u001b[0m 9       \u001b[0m | \u001b[0m 0.9469  \u001b[0m | \u001b[0m 4.975   \u001b[0m | \u001b[0m 21.75   \u001b[0m | \u001b[0m 8.308   \u001b[0m | \u001b[0m 10.02   \u001b[0m | \u001b[0m 100.3   \u001b[0m | \u001b[0m 0.07099 \u001b[0m | \u001b[0m 0.05516 \u001b[0m |\n",
      "| \u001b[0m 10      \u001b[0m | \u001b[0m 0.947   \u001b[0m | \u001b[0m 4.847   \u001b[0m | \u001b[0m 13.92   \u001b[0m | \u001b[0m 1.824   \u001b[0m | \u001b[0m 93.94   \u001b[0m | \u001b[0m 100.2   \u001b[0m | \u001b[0m 0.01974 \u001b[0m | \u001b[0m 0.03767 \u001b[0m |\n",
      "| \u001b[0m 11      \u001b[0m | \u001b[0m 0.9459  \u001b[0m | \u001b[0m 1.17    \u001b[0m | \u001b[0m 6.047   \u001b[0m | \u001b[0m 9.009   \u001b[0m | \u001b[0m 56.44   \u001b[0m | \u001b[0m 187.4   \u001b[0m | \u001b[0m 0.07748 \u001b[0m | \u001b[0m 0.06977 \u001b[0m |\n",
      "| \u001b[0m 12      \u001b[0m | \u001b[0m 0.9469  \u001b[0m | \u001b[0m 8.563   \u001b[0m | \u001b[0m 39.43   \u001b[0m | \u001b[0m 6.552   \u001b[0m | \u001b[0m 13.51   \u001b[0m | \u001b[0m 257.6   \u001b[0m | \u001b[0m 0.0469  \u001b[0m | \u001b[0m 0.0642  \u001b[0m |\n",
      "| \u001b[0m 13      \u001b[0m | \u001b[0m 0.9416  \u001b[0m | \u001b[0m 1.424   \u001b[0m | \u001b[0m 39.1    \u001b[0m | \u001b[0m 4.527   \u001b[0m | \u001b[0m 98.74   \u001b[0m | \u001b[0m 261.6   \u001b[0m | \u001b[0m 0.005879\u001b[0m | \u001b[0m 0.06814 \u001b[0m |\n",
      "| \u001b[0m 14      \u001b[0m | \u001b[0m 0.9468  \u001b[0m | \u001b[0m 10.0    \u001b[0m | \u001b[0m 40.0    \u001b[0m | \u001b[0m 1.0     \u001b[0m | \u001b[0m 10.0    \u001b[0m | \u001b[0m 181.2   \u001b[0m | \u001b[0m 0.0     \u001b[0m | \u001b[0m 0.0     \u001b[0m |\n",
      "| \u001b[0m 15      \u001b[0m | \u001b[0m 0.9456  \u001b[0m | \u001b[0m 0.0     \u001b[0m | \u001b[0m 5.0     \u001b[0m | \u001b[0m 1.0     \u001b[0m | \u001b[0m 75.34   \u001b[0m | \u001b[0m 1e+03   \u001b[0m | \u001b[0m 0.0     \u001b[0m | \u001b[0m 0.0     \u001b[0m |\n",
      "| \u001b[0m 16      \u001b[0m | \u001b[0m 0.9438  \u001b[0m | \u001b[0m 10.0    \u001b[0m | \u001b[0m 5.0     \u001b[0m | \u001b[0m 10.0    \u001b[0m | \u001b[0m 10.0    \u001b[0m | \u001b[0m 224.3   \u001b[0m | \u001b[0m 0.1     \u001b[0m | \u001b[0m 0.1     \u001b[0m |\n",
      "| \u001b[0m 17      \u001b[0m | \u001b[0m 0.9468  \u001b[0m | \u001b[0m 7.425   \u001b[0m | \u001b[0m 38.21   \u001b[0m | \u001b[0m 9.143   \u001b[0m | \u001b[0m 51.51   \u001b[0m | \u001b[0m 134.0   \u001b[0m | \u001b[0m 0.0163  \u001b[0m | \u001b[0m 0.08287 \u001b[0m |\n",
      "| \u001b[0m 18      \u001b[0m | \u001b[0m 0.9455  \u001b[0m | \u001b[0m 0.0     \u001b[0m | \u001b[0m 5.0     \u001b[0m | \u001b[0m 5.753   \u001b[0m | \u001b[0m 100.0   \u001b[0m | \u001b[0m 151.3   \u001b[0m | \u001b[0m 0.1     \u001b[0m | \u001b[0m 0.0     \u001b[0m |\n",
      "| \u001b[0m 19      \u001b[0m | \u001b[0m 0.9468  \u001b[0m | \u001b[0m 4.79    \u001b[0m | \u001b[0m 38.98   \u001b[0m | \u001b[0m 8.507   \u001b[0m | \u001b[0m 13.16   \u001b[0m | \u001b[0m 313.6   \u001b[0m | \u001b[0m 0.08811 \u001b[0m | \u001b[0m 0.04474 \u001b[0m |\n",
      "| \u001b[0m 20      \u001b[0m | \u001b[0m 0.9441  \u001b[0m | \u001b[0m 7.078   \u001b[0m | \u001b[0m 5.867   \u001b[0m | \u001b[0m 8.717   \u001b[0m | \u001b[0m 13.36   \u001b[0m | \u001b[0m 142.7   \u001b[0m | \u001b[0m 0.002681\u001b[0m | \u001b[0m 0.02431 \u001b[0m |\n",
      "| \u001b[0m 21      \u001b[0m | \u001b[0m 0.9448  \u001b[0m | \u001b[0m 9.309   \u001b[0m | \u001b[0m 6.324   \u001b[0m | \u001b[0m 8.571   \u001b[0m | \u001b[0m 55.72   \u001b[0m | \u001b[0m 100.6   \u001b[0m | \u001b[0m 0.01716 \u001b[0m | \u001b[0m 0.01734 \u001b[0m |\n",
      "| \u001b[0m 22      \u001b[0m | \u001b[0m 0.9469  \u001b[0m | \u001b[0m 9.654   \u001b[0m | \u001b[0m 34.6    \u001b[0m | \u001b[0m 5.768   \u001b[0m | \u001b[0m 93.42   \u001b[0m | \u001b[0m 533.8   \u001b[0m | \u001b[0m 0.09789 \u001b[0m | \u001b[0m 0.02696 \u001b[0m |\n",
      "| \u001b[0m 23      \u001b[0m | \u001b[0m 0.9469  \u001b[0m | \u001b[0m 5.695   \u001b[0m | \u001b[0m 39.86   \u001b[0m | \u001b[0m 6.201   \u001b[0m | \u001b[0m 97.53   \u001b[0m | \u001b[0m 118.7   \u001b[0m | \u001b[0m 0.09594 \u001b[0m | \u001b[0m 0.01588 \u001b[0m |\n",
      "| \u001b[0m 24      \u001b[0m | \u001b[0m 0.9463  \u001b[0m | \u001b[0m 4.651   \u001b[0m | \u001b[0m 7.988   \u001b[0m | \u001b[0m 2.124   \u001b[0m | \u001b[0m 97.45   \u001b[0m | \u001b[0m 918.2   \u001b[0m | \u001b[0m 0.02332 \u001b[0m | \u001b[0m 0.08299 \u001b[0m |\n",
      "| \u001b[0m 25      \u001b[0m | \u001b[0m 0.9468  \u001b[0m | \u001b[0m 5.464   \u001b[0m | \u001b[0m 33.93   \u001b[0m | \u001b[0m 8.384   \u001b[0m | \u001b[0m 99.46   \u001b[0m | \u001b[0m 852.9   \u001b[0m | \u001b[0m 0.04194 \u001b[0m | \u001b[0m 0.008422\u001b[0m |\n",
      "| \u001b[0m 26      \u001b[0m | \u001b[0m 0.9467  \u001b[0m | \u001b[0m 9.057   \u001b[0m | \u001b[0m 38.66   \u001b[0m | \u001b[0m 4.048   \u001b[0m | \u001b[0m 52.1    \u001b[0m | \u001b[0m 816.4   \u001b[0m | \u001b[0m 0.0591  \u001b[0m | \u001b[0m 0.0704  \u001b[0m |\n",
      "| \u001b[0m 27      \u001b[0m | \u001b[0m 0.9455  \u001b[0m | \u001b[0m 2.578   \u001b[0m | \u001b[0m 5.678   \u001b[0m | \u001b[0m 2.198   \u001b[0m | \u001b[0m 12.86   \u001b[0m | \u001b[0m 781.7   \u001b[0m | \u001b[0m 0.07772 \u001b[0m | \u001b[0m 0.04784 \u001b[0m |\n",
      "| \u001b[0m 28      \u001b[0m | \u001b[0m 0.9437  \u001b[0m | \u001b[0m 9.985   \u001b[0m | \u001b[0m 5.277   \u001b[0m | \u001b[0m 3.752   \u001b[0m | \u001b[0m 71.63   \u001b[0m | \u001b[0m 834.5   \u001b[0m | \u001b[0m 0.06355 \u001b[0m | \u001b[0m 0.006703\u001b[0m |\n",
      "| \u001b[0m 29      \u001b[0m | \u001b[0m 0.944   \u001b[0m | \u001b[0m 9.042   \u001b[0m | \u001b[0m 5.475   \u001b[0m | \u001b[0m 5.369   \u001b[0m | \u001b[0m 12.09   \u001b[0m | \u001b[0m 294.2   \u001b[0m | \u001b[0m 0.05132 \u001b[0m | \u001b[0m 0.04666 \u001b[0m |\n",
      "| \u001b[0m 30      \u001b[0m | \u001b[0m 0.9464  \u001b[0m | \u001b[0m 3.865   \u001b[0m | \u001b[0m 39.51   \u001b[0m | \u001b[0m 9.542   \u001b[0m | \u001b[0m 77.84   \u001b[0m | \u001b[0m 566.5   \u001b[0m | \u001b[0m 0.03878 \u001b[0m | \u001b[0m 0.03384 \u001b[0m |\n",
      "| \u001b[0m 31      \u001b[0m | \u001b[0m 0.9469  \u001b[0m | \u001b[0m 6.597   \u001b[0m | \u001b[0m 38.64   \u001b[0m | \u001b[0m 9.773   \u001b[0m | \u001b[0m 99.75   \u001b[0m | \u001b[0m 886.8   \u001b[0m | \u001b[0m 0.05324 \u001b[0m | \u001b[0m 0.02524 \u001b[0m |\n",
      "| \u001b[0m 32      \u001b[0m | \u001b[0m 0.9449  \u001b[0m | \u001b[0m 3.377   \u001b[0m | \u001b[0m 5.435   \u001b[0m | \u001b[0m 8.975   \u001b[0m | \u001b[0m 98.39   \u001b[0m | \u001b[0m 641.0   \u001b[0m | \u001b[0m 0.08881 \u001b[0m | \u001b[0m 0.08392 \u001b[0m |\n",
      "| \u001b[0m 33      \u001b[0m | \u001b[0m 0.9375  \u001b[0m | \u001b[0m 0.0     \u001b[0m | \u001b[0m 40.0    \u001b[0m | \u001b[0m 1.0     \u001b[0m | \u001b[0m 64.26   \u001b[0m | \u001b[0m 167.2   \u001b[0m | \u001b[0m 0.0     \u001b[0m | \u001b[0m 0.0     \u001b[0m |\n",
      "| \u001b[95m 34      \u001b[0m | \u001b[95m 0.947   \u001b[0m | \u001b[95m 6.915   \u001b[0m | \u001b[95m 27.56   \u001b[0m | \u001b[95m 3.989   \u001b[0m | \u001b[95m 78.3    \u001b[0m | \u001b[95m 112.3   \u001b[0m | \u001b[95m 0.06599 \u001b[0m | \u001b[95m 0.0969  \u001b[0m |\n",
      "| \u001b[0m 35      \u001b[0m | \u001b[0m 0.9465  \u001b[0m | \u001b[0m 5.924   \u001b[0m | \u001b[0m 35.07   \u001b[0m | \u001b[0m 4.602   \u001b[0m | \u001b[0m 34.41   \u001b[0m | \u001b[0m 111.8   \u001b[0m | \u001b[0m 0.02023 \u001b[0m | \u001b[0m 0.02249 \u001b[0m |\n",
      "| \u001b[0m 36      \u001b[0m | \u001b[0m 0.9469  \u001b[0m | \u001b[0m 8.352   \u001b[0m | \u001b[0m 10.99   \u001b[0m | \u001b[0m 7.359   \u001b[0m | \u001b[0m 81.84   \u001b[0m | \u001b[0m 551.5   \u001b[0m | \u001b[0m 0.06503 \u001b[0m | \u001b[0m 0.0903  \u001b[0m |\n",
      "| \u001b[0m 37      \u001b[0m | \u001b[0m 0.9469  \u001b[0m | \u001b[0m 5.722   \u001b[0m | \u001b[0m 36.07   \u001b[0m | \u001b[0m 8.53    \u001b[0m | \u001b[0m 89.13   \u001b[0m | \u001b[0m 935.1   \u001b[0m | \u001b[0m 0.09757 \u001b[0m | \u001b[0m 0.08945 \u001b[0m |\n",
      "| \u001b[0m 38      \u001b[0m | \u001b[0m 0.9457  \u001b[0m | \u001b[0m 2.566   \u001b[0m | \u001b[0m 15.16   \u001b[0m | \u001b[0m 6.891   \u001b[0m | \u001b[0m 76.03   \u001b[0m | \u001b[0m 956.6   \u001b[0m | \u001b[0m 0.01442 \u001b[0m | \u001b[0m 0.003115\u001b[0m |\n",
      "| \u001b[0m 39      \u001b[0m | \u001b[0m 0.9464  \u001b[0m | \u001b[0m 5.131   \u001b[0m | \u001b[0m 8.644   \u001b[0m | \u001b[0m 8.67    \u001b[0m | \u001b[0m 94.88   \u001b[0m | \u001b[0m 520.0   \u001b[0m | \u001b[0m 0.02153 \u001b[0m | \u001b[0m 0.003893\u001b[0m |\n",
      "| \u001b[95m 40      \u001b[0m | \u001b[95m 0.9473  \u001b[0m | \u001b[95m 6.081   \u001b[0m | \u001b[95m 11.22   \u001b[0m | \u001b[95m 3.71    \u001b[0m | \u001b[95m 98.34   \u001b[0m | \u001b[95m 879.3   \u001b[0m | \u001b[95m 0.07314 \u001b[0m | \u001b[95m 0.02259 \u001b[0m |\n",
      "| \u001b[0m 41      \u001b[0m | \u001b[0m 0.9468  \u001b[0m | \u001b[0m 7.226   \u001b[0m | \u001b[0m 24.93   \u001b[0m | \u001b[0m 5.767   \u001b[0m | \u001b[0m 73.5    \u001b[0m | \u001b[0m 885.3   \u001b[0m | \u001b[0m 0.02314 \u001b[0m | \u001b[0m 0.04903 \u001b[0m |\n",
      "| \u001b[0m 42      \u001b[0m | \u001b[0m 0.9447  \u001b[0m | \u001b[0m 1.629   \u001b[0m | \u001b[0m 37.98   \u001b[0m | \u001b[0m 6.693   \u001b[0m | \u001b[0m 68.47   \u001b[0m | \u001b[0m 508.9   \u001b[0m | \u001b[0m 0.07958 \u001b[0m | \u001b[0m 0.000118\u001b[0m |\n",
      "| \u001b[0m 43      \u001b[0m | \u001b[0m 0.9468  \u001b[0m | \u001b[0m 7.882   \u001b[0m | \u001b[0m 38.8    \u001b[0m | \u001b[0m 6.447   \u001b[0m | \u001b[0m 15.81   \u001b[0m | \u001b[0m 815.5   \u001b[0m | \u001b[0m 0.08836 \u001b[0m | \u001b[0m 0.09314 \u001b[0m |\n",
      "| \u001b[0m 44      \u001b[0m | \u001b[0m 0.9469  \u001b[0m | \u001b[0m 6.57    \u001b[0m | \u001b[0m 39.16   \u001b[0m | \u001b[0m 9.087   \u001b[0m | \u001b[0m 48.99   \u001b[0m | \u001b[0m 781.7   \u001b[0m | \u001b[0m 0.08808 \u001b[0m | \u001b[0m 0.03046 \u001b[0m |\n"
     ]
    },
    {
     "name": "stdout",
     "output_type": "stream",
     "text": [
      "| \u001b[0m 45      \u001b[0m | \u001b[0m 0.9461  \u001b[0m | \u001b[0m 5.437   \u001b[0m | \u001b[0m 38.89   \u001b[0m | \u001b[0m 1.788   \u001b[0m | \u001b[0m 11.85   \u001b[0m | \u001b[0m 350.1   \u001b[0m | \u001b[0m 0.03491 \u001b[0m | \u001b[0m 0.07007 \u001b[0m |\n",
      "| \u001b[0m 46      \u001b[0m | \u001b[0m 0.9464  \u001b[0m | \u001b[0m 5.169   \u001b[0m | \u001b[0m 39.52   \u001b[0m | \u001b[0m 2.896   \u001b[0m | \u001b[0m 46.31   \u001b[0m | \u001b[0m 323.8   \u001b[0m | \u001b[0m 0.07343 \u001b[0m | \u001b[0m 0.03025 \u001b[0m |\n",
      "| \u001b[0m 47      \u001b[0m | \u001b[0m 0.9468  \u001b[0m | \u001b[0m 8.351   \u001b[0m | \u001b[0m 38.91   \u001b[0m | \u001b[0m 1.42    \u001b[0m | \u001b[0m 33.87   \u001b[0m | \u001b[0m 751.2   \u001b[0m | \u001b[0m 0.09759 \u001b[0m | \u001b[0m 0.03369 \u001b[0m |\n",
      "| \u001b[0m 48      \u001b[0m | \u001b[0m 0.9457  \u001b[0m | \u001b[0m 2.88    \u001b[0m | \u001b[0m 39.36   \u001b[0m | \u001b[0m 3.345   \u001b[0m | \u001b[0m 16.76   \u001b[0m | \u001b[0m 777.8   \u001b[0m | \u001b[0m 0.05812 \u001b[0m | \u001b[0m 0.03231 \u001b[0m |\n",
      "| \u001b[0m 49      \u001b[0m | \u001b[0m 0.9469  \u001b[0m | \u001b[0m 7.712   \u001b[0m | \u001b[0m 39.4    \u001b[0m | \u001b[0m 7.865   \u001b[0m | \u001b[0m 62.8    \u001b[0m | \u001b[0m 732.5   \u001b[0m | \u001b[0m 0.02775 \u001b[0m | \u001b[0m 0.01911 \u001b[0m |\n",
      "| \u001b[0m 50      \u001b[0m | \u001b[0m 0.9465  \u001b[0m | \u001b[0m 0.5218  \u001b[0m | \u001b[0m 8.416   \u001b[0m | \u001b[0m 3.174   \u001b[0m | \u001b[0m 50.13   \u001b[0m | \u001b[0m 749.6   \u001b[0m | \u001b[0m 0.05705 \u001b[0m | \u001b[0m 0.04041 \u001b[0m |\n",
      "| \u001b[0m 51      \u001b[0m | \u001b[0m 0.9473  \u001b[0m | \u001b[0m 4.553   \u001b[0m | \u001b[0m 10.4    \u001b[0m | \u001b[0m 2.353   \u001b[0m | \u001b[0m 69.28   \u001b[0m | \u001b[0m 713.1   \u001b[0m | \u001b[0m 0.048   \u001b[0m | \u001b[0m 0.09373 \u001b[0m |\n",
      "| \u001b[0m 52      \u001b[0m | \u001b[0m 0.9469  \u001b[0m | \u001b[0m 5.718   \u001b[0m | \u001b[0m 32.62   \u001b[0m | \u001b[0m 8.979   \u001b[0m | \u001b[0m 94.23   \u001b[0m | \u001b[0m 706.2   \u001b[0m | \u001b[0m 0.03165 \u001b[0m | \u001b[0m 0.04221 \u001b[0m |\n",
      "=============================================================================================================\n"
     ]
    }
   ],
   "source": [
    "xgbBO.maximize(n_iter=50, init_points=2)"
   ]
  },
  {
   "cell_type": "code",
   "execution_count": 63,
   "id": "33cffcd6",
   "metadata": {},
   "outputs": [
    {
     "data": {
      "text/plain": [
       "{'target': 0.9472929999999998,\n",
       " 'params': {'gamma': 6.081126098947912,\n",
       "  'max_depth': 11.21627408761934,\n",
       "  'min_child_weight': 3.7100170137477195,\n",
       "  'n_estimators': 98.33745680001817,\n",
       "  'num_boost_round': 879.2612913813967,\n",
       "  'reg_alpha': 0.07314087105844085,\n",
       "  'reg_lambda': 0.02258529645486931}}"
      ]
     },
     "execution_count": 63,
     "metadata": {},
     "output_type": "execute_result"
    }
   ],
   "source": [
    "xgbBO.max"
   ]
  },
  {
   "cell_type": "code",
   "execution_count": 64,
   "id": "6fde8a70",
   "metadata": {},
   "outputs": [],
   "source": [
    "# clf_xgb=XGBClassifier(use_label_encoder=False, \n",
    "#                      colsample_bytree = 0.5, \n",
    "#                      learning_rate = 0.2,\n",
    "#                      gamma =  7.913757545198536,\n",
    "#                      max_depth = 7,\n",
    "#                      min_child_weight = 1.9202611553414282,\n",
    "#                      alpha = 10, \n",
    "#                      n_estimators = 45,\n",
    "#                      reg_alpha =   0.07711402098002348,\n",
    "#                      reg_lambda = 0.0433274269286166,\n",
    "#                      eval_metric='auc')\n",
    "\n",
    "clf_xgb=XGBClassifier(use_label_encoder=False, \n",
    "                     colsample_bytree = 0.5, \n",
    "                     learning_rate = 0.2,\n",
    "                     gamma =  6.081126098947912,\n",
    "                     max_depth = 11,\n",
    "                     min_child_weight = 3.7100170137477195,\n",
    "                     alpha = 10, \n",
    "                     n_estimators = 98,\n",
    "                     reg_alpha =  0.07314087105844085,\n",
    "                     reg_lambda = 0.02258529645486931,\n",
    "                     eval_metric='auc')"
   ]
  },
  {
   "cell_type": "code",
   "execution_count": 65,
   "id": "c2baf746",
   "metadata": {},
   "outputs": [
    {
     "data": {
      "text/plain": [
       "XGBClassifier(alpha=10, base_score=0.5, booster='gbtree', colsample_bylevel=1,\n",
       "              colsample_bynode=1, colsample_bytree=0.5, eval_metric='auc',\n",
       "              gamma=6.081126098947912, gpu_id=-1, importance_type='gain',\n",
       "              interaction_constraints='', learning_rate=0.2, max_delta_step=0,\n",
       "              max_depth=11, min_child_weight=3.7100170137477195, missing=nan,\n",
       "              monotone_constraints='()', n_estimators=98, n_jobs=4,\n",
       "              num_parallel_tree=1, random_state=0,\n",
       "              reg_alpha=0.07314087105844085, reg_lambda=0.02258529645486931,\n",
       "              scale_pos_weight=1, subsample=1, tree_method='exact',\n",
       "              use_label_encoder=False, validate_parameters=1, verbosity=None)"
      ]
     },
     "execution_count": 65,
     "metadata": {},
     "output_type": "execute_result"
    }
   ],
   "source": [
    "# Fitting model\n",
    "clf_xgb.fit(X_train, y_train)"
   ]
  },
  {
   "cell_type": "code",
   "execution_count": 66,
   "id": "c311e128",
   "metadata": {},
   "outputs": [
    {
     "data": {
      "image/png": "[encoded data removed]",
      "text/plain": [
       "<Figure size 432x288 with 1 Axes>"
      ]
     },
     "metadata": {
      "needs_background": "light"
     },
     "output_type": "display_data"
    }
   ],
   "source": [
    "# la variable que mas toma en cuenta el clasificador.\n",
    "xgb.plot_importance(clf_xgb, ax=plt.gca())\n",
    "y_pred  = clf_xgb.predict(X_test)"
   ]
  },
  {
   "cell_type": "code",
   "execution_count": 67,
   "id": "f67353b5",
   "metadata": {},
   "outputs": [
    {
     "name": "stdout",
     "output_type": "stream",
     "text": [
      "              precision    recall  f1-score   support\n",
      "\n",
      "           0       0.99      1.00      0.99    135640\n",
      "           1       0.98      0.65      0.78      5171\n",
      "\n",
      "    accuracy                           0.99    140811\n",
      "   macro avg       0.98      0.83      0.89    140811\n",
      "weighted avg       0.99      0.99      0.99    140811\n",
      "\n"
     ]
    }
   ],
   "source": [
    "from sklearn.metrics import classification_report\n",
    "print(classification_report(y_test, y_pred))"
   ]
  },
  {
   "cell_type": "code",
   "execution_count": 68,
   "id": "f06ffc32",
   "metadata": {},
   "outputs": [
    {
     "data": {
      "text/plain": [
       "array([[135558,     82],\n",
       "       [  1785,   3386]], dtype=int64)"
      ]
     },
     "execution_count": 68,
     "metadata": {},
     "output_type": "execute_result"
    }
   ],
   "source": [
    "from sklearn.metrics import confusion_matrix\n",
    "confusion_matrix(y_test, y_pred)"
   ]
  },
  {
   "cell_type": "markdown",
   "id": "61e6198f",
   "metadata": {},
   "source": [
    "### ROC Curve y AUC modelo antes y después de Feature Engineering\n",
    "\n",
    "The ROC curve shows the trade-off between sensitivity (or TPR) and specificity (1 – FPR). Classifiers that give curves closer to the top-left corner indicate a better performance. As a baseline, a random classifier is expected to give points lying along the diagonal (FPR = TPR). The closer the curve comes to the 45-degree diagonal of the ROC space, the less accurate the test."
   ]
  },
  {
   "cell_type": "code",
   "execution_count": 69,
   "id": "a0f83f6f",
   "metadata": {},
   "outputs": [
    {
     "data": {
      "image/png": "[encoded data removed]",
      "text/plain": [
       "<Figure size 720x576 with 1 Axes>"
      ]
     },
     "metadata": {
      "needs_background": "light"
     },
     "output_type": "display_data"
    }
   ],
   "source": [
    "from sklearn.metrics import roc_auc_score, roc_curve\n",
    "from sklearn.metrics import accuracy_score, precision_score, recall_score, roc_auc_score\n",
    "\n",
    "y_pred_proba = clf_xgb.predict_proba(X_test)[::,1]\n",
    "fpr_xgb_Fe, tpr_xgb_Fe, _ = roc_curve(y_test,  y_pred_proba)\n",
    "auc_xgb_Fe = roc_auc_score(y_test, y_pred_proba)\n",
    "plt.figure(figsize=(10,8))\n",
    "plt.title('Receiver Operating Characteristic (ROC) Curve')\n",
    "plt.plot(fpr_xgb_Fe,tpr_xgb_Fe,color=\"blue\",label=\"XGBoost con FE - AUC=%.4f\" % auc_xgb_Fe)\n",
    "plt.plot(fpr_xgb,tpr_xgb,color=\"green\",label=\"XGBoost - AUC=%.4f\" % auc_xgb)\n",
    "plt.plot([0, 1], [0, 1],linestyle='--')\n",
    "plt.legend(loc=4)\n",
    "plt.xlabel(\"False Positive Rate (1-Specificity)\")\n",
    "plt.ylabel(\"True Positive Rate (Sensitivity)\")\n",
    "plt.savefig('ROC_Curve_Final.jpg')\n",
    "plt.show()"
   ]
  },
  {
   "cell_type": "code",
   "execution_count": null,
   "id": "d136ba0b",
   "metadata": {},
   "outputs": [],
   "source": []
  },
  {
   "cell_type": "code",
   "execution_count": null,
   "id": "95024672",
   "metadata": {},
   "outputs": [],
   "source": []
  },
  {
   "cell_type": "code",
   "execution_count": null,
   "id": "e243a4c3",
   "metadata": {},
   "outputs": [],
   "source": []
  }
 ],
 "metadata": {
  "kernelspec": {
   "display_name": "Python 3",
   "language": "python",
   "name": "python3"
  },
  "language_info": {
   "codemirror_mode": {
    "name": "ipython",
    "version": 3
   },
   "file_extension": ".py",
   "mimetype": "text/x-python",
   "name": "python",
   "nbconvert_exporter": "python",
   "pygments_lexer": "ipython3",
   "version": "3.8.8"
  }
 },
 "nbformat": 4,
 "nbformat_minor": 5
}
