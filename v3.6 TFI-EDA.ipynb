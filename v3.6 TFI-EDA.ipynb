{
 "cells": [
  {
   "cell_type": "markdown",
   "id": "1cb04786",
   "metadata": {},
   "source": [
    "# EDA - Análisis exploratorio.\n",
    "Genera data_df.csv para que lo levante ML."
   ]
  },
  {
   "cell_type": "code",
   "execution_count": 4,
   "id": "d1a3ebb6",
   "metadata": {
    "scrolled": false
   },
   "outputs": [],
   "source": [
    "import numpy as np\n",
    "import pandas as pd\n",
    "import matplotlib.pyplot as plt\n",
    "import seaborn as sns"
   ]
  },
  {
   "cell_type": "code",
   "execution_count": 5,
   "id": "8387a554",
   "metadata": {
    "scrolled": false
   },
   "outputs": [],
   "source": [
    "# Lectura del dataset generado en el proceso de ETL.\n",
    "# El dataset en Python lo voy a manejar en un dataframe de Pandas.\n",
    "df = pd.read_csv('C:\\\\Trabajo\\\\Procesos\\\\tfi\\\\dataset.csv', sep=';', low_memory=False, encoding='latin1')"
   ]
  },
  {
   "cell_type": "code",
   "execution_count": 6,
   "id": "56c6d891",
   "metadata": {
    "scrolled": true
   },
   "outputs": [
    {
     "data": {
      "text/plain": [
       "(469370, 25)"
      ]
     },
     "execution_count": 6,
     "metadata": {},
     "output_type": "execute_result"
    }
   ],
   "source": [
    "# Filas y columnas del dataframe.\n",
    "df.shape "
   ]
  },
  {
   "cell_type": "code",
   "execution_count": 7,
   "id": "712f8ace",
   "metadata": {
    "scrolled": true
   },
   "outputs": [
    {
     "data": {
      "text/html": [
       "<div>\n",
       "<style scoped>\n",
       "    .dataframe tbody tr th:only-of-type {\n",
       "        vertical-align: middle;\n",
       "    }\n",
       "\n",
       "    .dataframe tbody tr th {\n",
       "        vertical-align: top;\n",
       "    }\n",
       "\n",
       "    .dataframe thead th {\n",
       "        text-align: right;\n",
       "    }\n",
       "</style>\n",
       "<table border=\"1\" class=\"dataframe\">\n",
       "  <thead>\n",
       "    <tr style=\"text-align: right;\">\n",
       "      <th></th>\n",
       "      <th>pol</th>\n",
       "      <th>endoso</th>\n",
       "      <th>item</th>\n",
       "      <th>fecemi</th>\n",
       "      <th>tipend</th>\n",
       "      <th>idaseg</th>\n",
       "      <th>ase_antig_an</th>\n",
       "      <th>ase_cp</th>\n",
       "      <th>ase_prof</th>\n",
       "      <th>ase_codnac</th>\n",
       "      <th>ase_nac</th>\n",
       "      <th>idprod</th>\n",
       "      <th>pro_antig_an</th>\n",
       "      <th>tipveh</th>\n",
       "      <th>marca</th>\n",
       "      <th>modelo</th>\n",
       "      <th>anio</th>\n",
       "      <th>uso</th>\n",
       "      <th>uso_desc</th>\n",
       "      <th>cober</th>\n",
       "      <th>codcober</th>\n",
       "      <th>cober_desc</th>\n",
       "      <th>cob_fecuma</th>\n",
       "      <th>cob_ef</th>\n",
       "      <th>fraude</th>\n",
       "    </tr>\n",
       "  </thead>\n",
       "  <tbody>\n",
       "    <tr>\n",
       "      <th>0</th>\n",
       "      <td>200000</td>\n",
       "      <td>0</td>\n",
       "      <td>1</td>\n",
       "      <td>1/1/2018</td>\n",
       "      <td>EMISION</td>\n",
       "      <td>4508</td>\n",
       "      <td>6</td>\n",
       "      <td>1640</td>\n",
       "      <td>NaN</td>\n",
       "      <td>200.0</td>\n",
       "      <td>ARGENTINA</td>\n",
       "      <td>1521</td>\n",
       "      <td>11</td>\n",
       "      <td>3</td>\n",
       "      <td>2</td>\n",
       "      <td>7</td>\n",
       "      <td>1992</td>\n",
       "      <td>1</td>\n",
       "      <td>PARTICULAR</td>\n",
       "      <td>C2</td>\n",
       "      <td>32</td>\n",
       "      <td>TERCEROS COMPLETO + GRANIZO</td>\n",
       "      <td>1/1/2018</td>\n",
       "      <td>NaN</td>\n",
       "      <td>0</td>\n",
       "    </tr>\n",
       "    <tr>\n",
       "      <th>1</th>\n",
       "      <td>200001</td>\n",
       "      <td>0</td>\n",
       "      <td>1</td>\n",
       "      <td>1/1/2018</td>\n",
       "      <td>EMISION</td>\n",
       "      <td>5350</td>\n",
       "      <td>6</td>\n",
       "      <td>1678</td>\n",
       "      <td>NaN</td>\n",
       "      <td>205.0</td>\n",
       "      <td>COLOMBIA</td>\n",
       "      <td>5001</td>\n",
       "      <td>6</td>\n",
       "      <td>1</td>\n",
       "      <td>2</td>\n",
       "      <td>7</td>\n",
       "      <td>2000</td>\n",
       "      <td>1</td>\n",
       "      <td>PARTICULAR</td>\n",
       "      <td>B</td>\n",
       "      <td>2</td>\n",
       "      <td>RC INC ROBO HURTO</td>\n",
       "      <td>19/2/2018</td>\n",
       "      <td>NaN</td>\n",
       "      <td>0</td>\n",
       "    </tr>\n",
       "    <tr>\n",
       "      <th>2</th>\n",
       "      <td>200001</td>\n",
       "      <td>1</td>\n",
       "      <td>1</td>\n",
       "      <td>31/1/2018</td>\n",
       "      <td>ENDOSO DATOS GENERALES</td>\n",
       "      <td>5350</td>\n",
       "      <td>6</td>\n",
       "      <td>1678</td>\n",
       "      <td>NaN</td>\n",
       "      <td>205.0</td>\n",
       "      <td>COLOMBIA</td>\n",
       "      <td>5001</td>\n",
       "      <td>6</td>\n",
       "      <td>1</td>\n",
       "      <td>2</td>\n",
       "      <td>7</td>\n",
       "      <td>2000</td>\n",
       "      <td>1</td>\n",
       "      <td>PARTICULAR</td>\n",
       "      <td>D1</td>\n",
       "      <td>40</td>\n",
       "      <td>TODO RIESGO-FRANQ</td>\n",
       "      <td>NaN</td>\n",
       "      <td>NaN</td>\n",
       "      <td>0</td>\n",
       "    </tr>\n",
       "    <tr>\n",
       "      <th>3</th>\n",
       "      <td>200001</td>\n",
       "      <td>2</td>\n",
       "      <td>1</td>\n",
       "      <td>31/5/2018</td>\n",
       "      <td>ENDOSO CAMBIO COBERTURA</td>\n",
       "      <td>5350</td>\n",
       "      <td>6</td>\n",
       "      <td>1678</td>\n",
       "      <td>NaN</td>\n",
       "      <td>205.0</td>\n",
       "      <td>COLOMBIA</td>\n",
       "      <td>5001</td>\n",
       "      <td>6</td>\n",
       "      <td>1</td>\n",
       "      <td>2</td>\n",
       "      <td>7</td>\n",
       "      <td>2000</td>\n",
       "      <td>1</td>\n",
       "      <td>PARTICULAR</td>\n",
       "      <td>D2</td>\n",
       "      <td>41</td>\n",
       "      <td>TODO RIESGO-FRANQ EVEN</td>\n",
       "      <td>NaN</td>\n",
       "      <td>NaN</td>\n",
       "      <td>0</td>\n",
       "    </tr>\n",
       "    <tr>\n",
       "      <th>4</th>\n",
       "      <td>200004</td>\n",
       "      <td>0</td>\n",
       "      <td>1</td>\n",
       "      <td>1/1/2018</td>\n",
       "      <td>EMISION</td>\n",
       "      <td>7618</td>\n",
       "      <td>3</td>\n",
       "      <td>1406</td>\n",
       "      <td>NaN</td>\n",
       "      <td>205.0</td>\n",
       "      <td>COLOMBIA</td>\n",
       "      <td>1527</td>\n",
       "      <td>11</td>\n",
       "      <td>1</td>\n",
       "      <td>2</td>\n",
       "      <td>7</td>\n",
       "      <td>2018</td>\n",
       "      <td>3</td>\n",
       "      <td>ALQUILER</td>\n",
       "      <td>D4</td>\n",
       "      <td>43</td>\n",
       "      <td>TODO RIESGO SIN FRANQUICIA</td>\n",
       "      <td>7/2/2018</td>\n",
       "      <td>NaN</td>\n",
       "      <td>1</td>\n",
       "    </tr>\n",
       "  </tbody>\n",
       "</table>\n",
       "</div>"
      ],
      "text/plain": [
       "      pol  endoso  item     fecemi                   tipend  idaseg  \\\n",
       "0  200000       0     1   1/1/2018                  EMISION    4508   \n",
       "1  200001       0     1   1/1/2018                  EMISION    5350   \n",
       "2  200001       1     1  31/1/2018   ENDOSO DATOS GENERALES    5350   \n",
       "3  200001       2     1  31/5/2018  ENDOSO CAMBIO COBERTURA    5350   \n",
       "4  200004       0     1   1/1/2018                  EMISION    7618   \n",
       "\n",
       "   ase_antig_an  ase_cp  ase_prof  ase_codnac    ase_nac  idprod  \\\n",
       "0             6    1640       NaN       200.0  ARGENTINA    1521   \n",
       "1             6    1678       NaN       205.0   COLOMBIA    5001   \n",
       "2             6    1678       NaN       205.0   COLOMBIA    5001   \n",
       "3             6    1678       NaN       205.0   COLOMBIA    5001   \n",
       "4             3    1406       NaN       205.0   COLOMBIA    1527   \n",
       "\n",
       "   pro_antig_an  tipveh  marca  modelo  anio  uso    uso_desc cober  codcober  \\\n",
       "0            11       3      2       7  1992    1  PARTICULAR    C2        32   \n",
       "1             6       1      2       7  2000    1  PARTICULAR    B          2   \n",
       "2             6       1      2       7  2000    1  PARTICULAR    D1        40   \n",
       "3             6       1      2       7  2000    1  PARTICULAR    D2        41   \n",
       "4            11       1      2       7  2018    3    ALQUILER    D4        43   \n",
       "\n",
       "                    cober_desc cob_fecuma cob_ef  fraude  \n",
       "0  TERCEROS COMPLETO + GRANIZO   1/1/2018    NaN       0  \n",
       "1            RC INC ROBO HURTO  19/2/2018    NaN       0  \n",
       "2            TODO RIESGO-FRANQ        NaN    NaN       0  \n",
       "3       TODO RIESGO-FRANQ EVEN        NaN    NaN       0  \n",
       "4   TODO RIESGO SIN FRANQUICIA   7/2/2018    NaN       1  "
      ]
     },
     "execution_count": 7,
     "metadata": {},
     "output_type": "execute_result"
    }
   ],
   "source": [
    "# Muestro 5 primeros registros del dataframe para realizar un análisis superficial del mismo.\n",
    "pd.options.display.max_columns=None\n",
    "df.head(5)"
   ]
  },
  {
   "cell_type": "code",
   "execution_count": 8,
   "id": "46d52d7c",
   "metadata": {
    "scrolled": false
   },
   "outputs": [
    {
     "name": "stdout",
     "output_type": "stream",
     "text": [
      "<class 'pandas.core.frame.DataFrame'>\n",
      "RangeIndex: 469370 entries, 0 to 469369\n",
      "Data columns (total 25 columns):\n",
      " #   Column        Non-Null Count   Dtype  \n",
      "---  ------        --------------   -----  \n",
      " 0   pol           469370 non-null  int64  \n",
      " 1   endoso        469370 non-null  int64  \n",
      " 2   item          469370 non-null  int64  \n",
      " 3   fecemi        469370 non-null  object \n",
      " 4   tipend        469370 non-null  object \n",
      " 5   idaseg        469370 non-null  int64  \n",
      " 6   ase_antig_an  469370 non-null  int64  \n",
      " 7   ase_cp        469370 non-null  int64  \n",
      " 8   ase_prof      0 non-null       float64\n",
      " 9   ase_codnac    351480 non-null  float64\n",
      " 10  ase_nac       351480 non-null  object \n",
      " 11  idprod        469370 non-null  int64  \n",
      " 12  pro_antig_an  469370 non-null  int64  \n",
      " 13  tipveh        469370 non-null  int64  \n",
      " 14  marca         469370 non-null  int64  \n",
      " 15  modelo        469370 non-null  int64  \n",
      " 16  anio          469370 non-null  int64  \n",
      " 17  uso           469370 non-null  int64  \n",
      " 18  uso_desc      469370 non-null  object \n",
      " 19  cober         469370 non-null  object \n",
      " 20  codcober      469370 non-null  int64  \n",
      " 21  cober_desc    469370 non-null  object \n",
      " 22  cob_fecuma    451613 non-null  object \n",
      " 23  cob_ef        207224 non-null  object \n",
      " 24  fraude        469370 non-null  int64  \n",
      "dtypes: float64(2), int64(15), object(8)\n",
      "memory usage: 89.5+ MB\n"
     ]
    }
   ],
   "source": [
    "# Muestro diseño del dataframe, nombre de columnas, cuenta de NA y tipo de dato.\n",
    "df.info()"
   ]
  },
  {
   "cell_type": "code",
   "execution_count": 9,
   "id": "4923e0dd",
   "metadata": {
    "scrolled": false
   },
   "outputs": [],
   "source": [
    " # Descripción del dataset de entrada.\n",
    " \n",
    " # Column        Description \n",
    " # ------        -----------\n",
    " # pol           Número de póliza. \n",
    " # endoso        Número de endoso a póliza. \n",
    " # item          Identificador del Vehículo dentro de la Póliza.\n",
    " # tipend        Tipo de Endoso.\n",
    " # idaseg        ID del Asegurado.\n",
    " # ase_antig_an  Antiguedad del Asegurado. Viene medida en años del proceso de ETL. \n",
    " # ase_cp        CP del domicilio del Asegurado \n",
    " # ase_prof      Profesión del Asegurado\n",
    " # ase_codnac    Código de Pais de la Nacionalidad del Asegurado\n",
    " # ase_nac       Nacionalidad del Asegurado\n",
    " # idprod        ID del Productor \n",
    " # pro_antig_an  Antiguedad del Productor. Viene medida en años del proceso de ETL.\n",
    " # tipveh        Tipo de Vehículo \n",
    " # marca         Marca del Vehículo \n",
    " # modelo        Modelo del Vehículo \n",
    " # anio          Año de Fabricación del Vehículo \n",
    " # uso           Uso del Vehículo \n",
    " # uso_desc      Descripción\n",
    " # cober         Cobertura del Seguro\n",
    " # codcober      Código de Cobertura del Seguro\n",
    " # cober_desc    Descripción de la Cobertura\n",
    " # cob_fecuma    Fecha de la última Cobranza\n",
    " # cob_ef        Tiene Cobranza en Efectivo (S/N)\n",
    " # fraude        Variable Objetivo. La póliza tuvo siniestros considerados como fraude por Experto (0/1)."
   ]
  },
  {
   "cell_type": "code",
   "execution_count": 10,
   "id": "8aecb34a",
   "metadata": {
    "scrolled": false
   },
   "outputs": [
    {
     "data": {
      "text/plain": [
       "Index(['pol', 'endoso', 'item', 'fecemi', 'tipend', 'idaseg', 'ase_antig_an',\n",
       "       'ase_cp', 'ase_prof', 'ase_codnac', 'ase_nac', 'idprod', 'pro_antig_an',\n",
       "       'tipveh', 'marca', 'modelo', 'anio', 'uso', 'uso_desc', 'cober',\n",
       "       'codcober', 'cober_desc', 'cob_fecuma', 'cob_ef', 'fraude'],\n",
       "      dtype='object')"
      ]
     },
     "execution_count": 10,
     "metadata": {},
     "output_type": "execute_result"
    }
   ],
   "source": [
    "# Otra forma de ver las columnas del dataframe.\n",
    "df.columns"
   ]
  },
  {
   "cell_type": "code",
   "execution_count": 11,
   "id": "59995824",
   "metadata": {},
   "outputs": [
    {
     "data": {
      "text/html": [
       "<div>\n",
       "<style scoped>\n",
       "    .dataframe tbody tr th:only-of-type {\n",
       "        vertical-align: middle;\n",
       "    }\n",
       "\n",
       "    .dataframe tbody tr th {\n",
       "        vertical-align: top;\n",
       "    }\n",
       "\n",
       "    .dataframe thead th {\n",
       "        text-align: right;\n",
       "    }\n",
       "</style>\n",
       "<table border=\"1\" class=\"dataframe\">\n",
       "  <thead>\n",
       "    <tr style=\"text-align: right;\">\n",
       "      <th></th>\n",
       "      <th>pol</th>\n",
       "      <th>endoso</th>\n",
       "      <th>item</th>\n",
       "      <th>fecemi</th>\n",
       "      <th>tipend</th>\n",
       "      <th>idaseg</th>\n",
       "      <th>ase_antig_an</th>\n",
       "      <th>ase_cp</th>\n",
       "      <th>ase_prof</th>\n",
       "      <th>ase_codnac</th>\n",
       "      <th>ase_nac</th>\n",
       "      <th>idprod</th>\n",
       "      <th>pro_antig_an</th>\n",
       "      <th>tipveh</th>\n",
       "      <th>marca</th>\n",
       "      <th>modelo</th>\n",
       "      <th>anio</th>\n",
       "      <th>uso</th>\n",
       "      <th>uso_desc</th>\n",
       "      <th>cober</th>\n",
       "      <th>codcober</th>\n",
       "      <th>cober_desc</th>\n",
       "      <th>cob_fecuma</th>\n",
       "      <th>cob_ef</th>\n",
       "      <th>fraude</th>\n",
       "    </tr>\n",
       "  </thead>\n",
       "  <tbody>\n",
       "    <tr>\n",
       "      <th>0</th>\n",
       "      <td>False</td>\n",
       "      <td>False</td>\n",
       "      <td>False</td>\n",
       "      <td>False</td>\n",
       "      <td>False</td>\n",
       "      <td>False</td>\n",
       "      <td>False</td>\n",
       "      <td>False</td>\n",
       "      <td>True</td>\n",
       "      <td>False</td>\n",
       "      <td>False</td>\n",
       "      <td>False</td>\n",
       "      <td>False</td>\n",
       "      <td>False</td>\n",
       "      <td>False</td>\n",
       "      <td>False</td>\n",
       "      <td>False</td>\n",
       "      <td>False</td>\n",
       "      <td>False</td>\n",
       "      <td>False</td>\n",
       "      <td>False</td>\n",
       "      <td>False</td>\n",
       "      <td>False</td>\n",
       "      <td>True</td>\n",
       "      <td>False</td>\n",
       "    </tr>\n",
       "    <tr>\n",
       "      <th>1</th>\n",
       "      <td>False</td>\n",
       "      <td>False</td>\n",
       "      <td>False</td>\n",
       "      <td>False</td>\n",
       "      <td>False</td>\n",
       "      <td>False</td>\n",
       "      <td>False</td>\n",
       "      <td>False</td>\n",
       "      <td>True</td>\n",
       "      <td>False</td>\n",
       "      <td>False</td>\n",
       "      <td>False</td>\n",
       "      <td>False</td>\n",
       "      <td>False</td>\n",
       "      <td>False</td>\n",
       "      <td>False</td>\n",
       "      <td>False</td>\n",
       "      <td>False</td>\n",
       "      <td>False</td>\n",
       "      <td>False</td>\n",
       "      <td>False</td>\n",
       "      <td>False</td>\n",
       "      <td>False</td>\n",
       "      <td>True</td>\n",
       "      <td>False</td>\n",
       "    </tr>\n",
       "    <tr>\n",
       "      <th>2</th>\n",
       "      <td>False</td>\n",
       "      <td>False</td>\n",
       "      <td>False</td>\n",
       "      <td>False</td>\n",
       "      <td>False</td>\n",
       "      <td>False</td>\n",
       "      <td>False</td>\n",
       "      <td>False</td>\n",
       "      <td>True</td>\n",
       "      <td>False</td>\n",
       "      <td>False</td>\n",
       "      <td>False</td>\n",
       "      <td>False</td>\n",
       "      <td>False</td>\n",
       "      <td>False</td>\n",
       "      <td>False</td>\n",
       "      <td>False</td>\n",
       "      <td>False</td>\n",
       "      <td>False</td>\n",
       "      <td>False</td>\n",
       "      <td>False</td>\n",
       "      <td>False</td>\n",
       "      <td>True</td>\n",
       "      <td>True</td>\n",
       "      <td>False</td>\n",
       "    </tr>\n",
       "    <tr>\n",
       "      <th>3</th>\n",
       "      <td>False</td>\n",
       "      <td>False</td>\n",
       "      <td>False</td>\n",
       "      <td>False</td>\n",
       "      <td>False</td>\n",
       "      <td>False</td>\n",
       "      <td>False</td>\n",
       "      <td>False</td>\n",
       "      <td>True</td>\n",
       "      <td>False</td>\n",
       "      <td>False</td>\n",
       "      <td>False</td>\n",
       "      <td>False</td>\n",
       "      <td>False</td>\n",
       "      <td>False</td>\n",
       "      <td>False</td>\n",
       "      <td>False</td>\n",
       "      <td>False</td>\n",
       "      <td>False</td>\n",
       "      <td>False</td>\n",
       "      <td>False</td>\n",
       "      <td>False</td>\n",
       "      <td>True</td>\n",
       "      <td>True</td>\n",
       "      <td>False</td>\n",
       "    </tr>\n",
       "    <tr>\n",
       "      <th>4</th>\n",
       "      <td>False</td>\n",
       "      <td>False</td>\n",
       "      <td>False</td>\n",
       "      <td>False</td>\n",
       "      <td>False</td>\n",
       "      <td>False</td>\n",
       "      <td>False</td>\n",
       "      <td>False</td>\n",
       "      <td>True</td>\n",
       "      <td>False</td>\n",
       "      <td>False</td>\n",
       "      <td>False</td>\n",
       "      <td>False</td>\n",
       "      <td>False</td>\n",
       "      <td>False</td>\n",
       "      <td>False</td>\n",
       "      <td>False</td>\n",
       "      <td>False</td>\n",
       "      <td>False</td>\n",
       "      <td>False</td>\n",
       "      <td>False</td>\n",
       "      <td>False</td>\n",
       "      <td>False</td>\n",
       "      <td>True</td>\n",
       "      <td>False</td>\n",
       "    </tr>\n",
       "    <tr>\n",
       "      <th>...</th>\n",
       "      <td>...</td>\n",
       "      <td>...</td>\n",
       "      <td>...</td>\n",
       "      <td>...</td>\n",
       "      <td>...</td>\n",
       "      <td>...</td>\n",
       "      <td>...</td>\n",
       "      <td>...</td>\n",
       "      <td>...</td>\n",
       "      <td>...</td>\n",
       "      <td>...</td>\n",
       "      <td>...</td>\n",
       "      <td>...</td>\n",
       "      <td>...</td>\n",
       "      <td>...</td>\n",
       "      <td>...</td>\n",
       "      <td>...</td>\n",
       "      <td>...</td>\n",
       "      <td>...</td>\n",
       "      <td>...</td>\n",
       "      <td>...</td>\n",
       "      <td>...</td>\n",
       "      <td>...</td>\n",
       "      <td>...</td>\n",
       "      <td>...</td>\n",
       "    </tr>\n",
       "    <tr>\n",
       "      <th>469365</th>\n",
       "      <td>False</td>\n",
       "      <td>False</td>\n",
       "      <td>False</td>\n",
       "      <td>False</td>\n",
       "      <td>False</td>\n",
       "      <td>False</td>\n",
       "      <td>False</td>\n",
       "      <td>False</td>\n",
       "      <td>True</td>\n",
       "      <td>True</td>\n",
       "      <td>True</td>\n",
       "      <td>False</td>\n",
       "      <td>False</td>\n",
       "      <td>False</td>\n",
       "      <td>False</td>\n",
       "      <td>False</td>\n",
       "      <td>False</td>\n",
       "      <td>False</td>\n",
       "      <td>False</td>\n",
       "      <td>False</td>\n",
       "      <td>False</td>\n",
       "      <td>False</td>\n",
       "      <td>False</td>\n",
       "      <td>True</td>\n",
       "      <td>False</td>\n",
       "    </tr>\n",
       "    <tr>\n",
       "      <th>469366</th>\n",
       "      <td>False</td>\n",
       "      <td>False</td>\n",
       "      <td>False</td>\n",
       "      <td>False</td>\n",
       "      <td>False</td>\n",
       "      <td>False</td>\n",
       "      <td>False</td>\n",
       "      <td>False</td>\n",
       "      <td>True</td>\n",
       "      <td>True</td>\n",
       "      <td>True</td>\n",
       "      <td>False</td>\n",
       "      <td>False</td>\n",
       "      <td>False</td>\n",
       "      <td>False</td>\n",
       "      <td>False</td>\n",
       "      <td>False</td>\n",
       "      <td>False</td>\n",
       "      <td>False</td>\n",
       "      <td>False</td>\n",
       "      <td>False</td>\n",
       "      <td>False</td>\n",
       "      <td>False</td>\n",
       "      <td>True</td>\n",
       "      <td>False</td>\n",
       "    </tr>\n",
       "    <tr>\n",
       "      <th>469367</th>\n",
       "      <td>False</td>\n",
       "      <td>False</td>\n",
       "      <td>False</td>\n",
       "      <td>False</td>\n",
       "      <td>False</td>\n",
       "      <td>False</td>\n",
       "      <td>False</td>\n",
       "      <td>False</td>\n",
       "      <td>True</td>\n",
       "      <td>False</td>\n",
       "      <td>False</td>\n",
       "      <td>False</td>\n",
       "      <td>False</td>\n",
       "      <td>False</td>\n",
       "      <td>False</td>\n",
       "      <td>False</td>\n",
       "      <td>False</td>\n",
       "      <td>False</td>\n",
       "      <td>False</td>\n",
       "      <td>False</td>\n",
       "      <td>False</td>\n",
       "      <td>False</td>\n",
       "      <td>False</td>\n",
       "      <td>False</td>\n",
       "      <td>False</td>\n",
       "    </tr>\n",
       "    <tr>\n",
       "      <th>469368</th>\n",
       "      <td>False</td>\n",
       "      <td>False</td>\n",
       "      <td>False</td>\n",
       "      <td>False</td>\n",
       "      <td>False</td>\n",
       "      <td>False</td>\n",
       "      <td>False</td>\n",
       "      <td>False</td>\n",
       "      <td>True</td>\n",
       "      <td>True</td>\n",
       "      <td>True</td>\n",
       "      <td>False</td>\n",
       "      <td>False</td>\n",
       "      <td>False</td>\n",
       "      <td>False</td>\n",
       "      <td>False</td>\n",
       "      <td>False</td>\n",
       "      <td>False</td>\n",
       "      <td>False</td>\n",
       "      <td>False</td>\n",
       "      <td>False</td>\n",
       "      <td>False</td>\n",
       "      <td>False</td>\n",
       "      <td>False</td>\n",
       "      <td>False</td>\n",
       "    </tr>\n",
       "    <tr>\n",
       "      <th>469369</th>\n",
       "      <td>False</td>\n",
       "      <td>False</td>\n",
       "      <td>False</td>\n",
       "      <td>False</td>\n",
       "      <td>False</td>\n",
       "      <td>False</td>\n",
       "      <td>False</td>\n",
       "      <td>False</td>\n",
       "      <td>True</td>\n",
       "      <td>False</td>\n",
       "      <td>False</td>\n",
       "      <td>False</td>\n",
       "      <td>False</td>\n",
       "      <td>False</td>\n",
       "      <td>False</td>\n",
       "      <td>False</td>\n",
       "      <td>False</td>\n",
       "      <td>False</td>\n",
       "      <td>False</td>\n",
       "      <td>False</td>\n",
       "      <td>False</td>\n",
       "      <td>False</td>\n",
       "      <td>True</td>\n",
       "      <td>True</td>\n",
       "      <td>False</td>\n",
       "    </tr>\n",
       "  </tbody>\n",
       "</table>\n",
       "<p>469370 rows × 25 columns</p>\n",
       "</div>"
      ],
      "text/plain": [
       "          pol  endoso   item  fecemi  tipend  idaseg  ase_antig_an  ase_cp  \\\n",
       "0       False   False  False   False   False   False         False   False   \n",
       "1       False   False  False   False   False   False         False   False   \n",
       "2       False   False  False   False   False   False         False   False   \n",
       "3       False   False  False   False   False   False         False   False   \n",
       "4       False   False  False   False   False   False         False   False   \n",
       "...       ...     ...    ...     ...     ...     ...           ...     ...   \n",
       "469365  False   False  False   False   False   False         False   False   \n",
       "469366  False   False  False   False   False   False         False   False   \n",
       "469367  False   False  False   False   False   False         False   False   \n",
       "469368  False   False  False   False   False   False         False   False   \n",
       "469369  False   False  False   False   False   False         False   False   \n",
       "\n",
       "        ase_prof  ase_codnac  ase_nac  idprod  pro_antig_an  tipveh  marca  \\\n",
       "0           True       False    False   False         False   False  False   \n",
       "1           True       False    False   False         False   False  False   \n",
       "2           True       False    False   False         False   False  False   \n",
       "3           True       False    False   False         False   False  False   \n",
       "4           True       False    False   False         False   False  False   \n",
       "...          ...         ...      ...     ...           ...     ...    ...   \n",
       "469365      True        True     True   False         False   False  False   \n",
       "469366      True        True     True   False         False   False  False   \n",
       "469367      True       False    False   False         False   False  False   \n",
       "469368      True        True     True   False         False   False  False   \n",
       "469369      True       False    False   False         False   False  False   \n",
       "\n",
       "        modelo   anio    uso  uso_desc  cober  codcober  cober_desc  \\\n",
       "0        False  False  False     False  False     False       False   \n",
       "1        False  False  False     False  False     False       False   \n",
       "2        False  False  False     False  False     False       False   \n",
       "3        False  False  False     False  False     False       False   \n",
       "4        False  False  False     False  False     False       False   \n",
       "...        ...    ...    ...       ...    ...       ...         ...   \n",
       "469365   False  False  False     False  False     False       False   \n",
       "469366   False  False  False     False  False     False       False   \n",
       "469367   False  False  False     False  False     False       False   \n",
       "469368   False  False  False     False  False     False       False   \n",
       "469369   False  False  False     False  False     False       False   \n",
       "\n",
       "        cob_fecuma  cob_ef  fraude  \n",
       "0            False    True   False  \n",
       "1            False    True   False  \n",
       "2             True    True   False  \n",
       "3             True    True   False  \n",
       "4            False    True   False  \n",
       "...            ...     ...     ...  \n",
       "469365       False    True   False  \n",
       "469366       False    True   False  \n",
       "469367       False   False   False  \n",
       "469368       False   False   False  \n",
       "469369        True    True   False  \n",
       "\n",
       "[469370 rows x 25 columns]"
      ]
     },
     "execution_count": 11,
     "metadata": {},
     "output_type": "execute_result"
    }
   ],
   "source": [
    "# Chequeo de valores faltantes en el dataframe.\n",
    "df.isnull()"
   ]
  },
  {
   "cell_type": "code",
   "execution_count": 12,
   "id": "789a3f9e",
   "metadata": {
    "scrolled": false
   },
   "outputs": [
    {
     "data": {
      "text/plain": [
       "pol                  0\n",
       "endoso               0\n",
       "item                 0\n",
       "fecemi               0\n",
       "tipend               0\n",
       "idaseg               0\n",
       "ase_antig_an         0\n",
       "ase_cp               0\n",
       "ase_prof        469370\n",
       "ase_codnac      117890\n",
       "ase_nac         117890\n",
       "idprod               0\n",
       "pro_antig_an         0\n",
       "tipveh               0\n",
       "marca                0\n",
       "modelo               0\n",
       "anio                 0\n",
       "uso                  0\n",
       "uso_desc             0\n",
       "cober                0\n",
       "codcober             0\n",
       "cober_desc           0\n",
       "cob_fecuma       17757\n",
       "cob_ef          262146\n",
       "fraude               0\n",
       "dtype: int64"
      ]
     },
     "execution_count": 12,
     "metadata": {},
     "output_type": "execute_result"
    }
   ],
   "source": [
    "# Chequeo de valores faltantes en el dataframe.\n",
    "df.isnull().sum() # True == 1 y False == 0"
   ]
  },
  {
   "cell_type": "code",
   "execution_count": 13,
   "id": "42c8071b",
   "metadata": {
    "scrolled": false
   },
   "outputs": [],
   "source": [
    "# 'ase_prof'   tiene NA en todos los registros, no la tendremos en cuenta para el proceso, así que se elimina del df.\n",
    "# 'ase_codnac' idem 'ase_nac'\n",
    "# 'ase_nac'    tiene NA en un 25% de los registro, consultada la parte comercial operativa\n",
    "#              de la Aseguradora, nos indican que cuando no tienen la nacionalidad se asume 'Argentina', código '200'.\n",
    "# 'cob_fecuma' tiene valores NA y es razonable que así sea, son operaciones que aún no tuvieron cobranza.\n",
    "# 'cob_ef'     es una variable categórica ('S'/'N'), por lo analizado de sus valores, cuando es 'S'\n",
    "#              tiene ese valor, pero cuando es 'N' tiene NA. Deberemos arreglar el contenido de la variable."
   ]
  },
  {
   "cell_type": "code",
   "execution_count": 14,
   "id": "d5a2d3f2",
   "metadata": {
    "scrolled": false
   },
   "outputs": [],
   "source": [
    "# formas de resolver los registros con variables en nulo.\n",
    "# para una variable continua podría encontrar el valor modal y usarlo para rellenar.\n",
    "# xvar_mode = df.xvar.mode()[0]\n",
    "# df.xvar.fillna(xvar_mode, inplace = True)\n",
    "# df.xvar.isnull().sum()"
   ]
  },
  {
   "cell_type": "code",
   "execution_count": 15,
   "id": "e6c8f684",
   "metadata": {
    "scrolled": false
   },
   "outputs": [],
   "source": [
    "# para el caso de las columnas 'cob_ef' y 'ase_nac'/'ase_codnac'\n",
    "df.cob_ef.fillna('N', inplace=True)\n",
    "df.ase_nac.fillna('ARGENTINA', inplace=True)\n",
    "df.ase_codnac.fillna(200, inplace=True)"
   ]
  },
  {
   "cell_type": "code",
   "execution_count": 16,
   "id": "2130102b",
   "metadata": {},
   "outputs": [
    {
     "data": {
      "text/plain": [
       "pol                  0\n",
       "endoso               0\n",
       "item                 0\n",
       "fecemi               0\n",
       "tipend               0\n",
       "idaseg               0\n",
       "ase_antig_an         0\n",
       "ase_cp               0\n",
       "ase_prof        469370\n",
       "ase_codnac           0\n",
       "ase_nac              0\n",
       "idprod               0\n",
       "pro_antig_an         0\n",
       "tipveh               0\n",
       "marca                0\n",
       "modelo               0\n",
       "anio                 0\n",
       "uso                  0\n",
       "uso_desc             0\n",
       "cober                0\n",
       "codcober             0\n",
       "cober_desc           0\n",
       "cob_fecuma       17757\n",
       "cob_ef               0\n",
       "fraude               0\n",
       "dtype: int64"
      ]
     },
     "execution_count": 16,
     "metadata": {},
     "output_type": "execute_result"
    }
   ],
   "source": [
    "# Chequeo de valores faltantes en el dataframe.\n",
    "df.isnull().sum() # True == 1 y False == 0"
   ]
  },
  {
   "cell_type": "code",
   "execution_count": 17,
   "id": "47e9217c",
   "metadata": {
    "scrolled": false
   },
   "outputs": [],
   "source": [
    "# para la columna 'ase_prof', la decisión es eliminarla del dataframe.\n",
    "if 'ase_prof' in df.columns:\n",
    "    del df['ase_prof']"
   ]
  },
  {
   "cell_type": "code",
   "execution_count": 18,
   "id": "b9ca7732",
   "metadata": {
    "scrolled": false
   },
   "outputs": [
    {
     "name": "stdout",
     "output_type": "stream",
     "text": [
      "<class 'pandas.core.frame.DataFrame'>\n",
      "RangeIndex: 469370 entries, 0 to 469369\n",
      "Data columns (total 24 columns):\n",
      " #   Column        Non-Null Count   Dtype  \n",
      "---  ------        --------------   -----  \n",
      " 0   pol           469370 non-null  int64  \n",
      " 1   endoso        469370 non-null  int64  \n",
      " 2   item          469370 non-null  int64  \n",
      " 3   fecemi        469370 non-null  object \n",
      " 4   tipend        469370 non-null  object \n",
      " 5   idaseg        469370 non-null  int64  \n",
      " 6   ase_antig_an  469370 non-null  int64  \n",
      " 7   ase_cp        469370 non-null  int64  \n",
      " 8   ase_codnac    469370 non-null  float64\n",
      " 9   ase_nac       469370 non-null  object \n",
      " 10  idprod        469370 non-null  int64  \n",
      " 11  pro_antig_an  469370 non-null  int64  \n",
      " 12  tipveh        469370 non-null  int64  \n",
      " 13  marca         469370 non-null  int64  \n",
      " 14  modelo        469370 non-null  int64  \n",
      " 15  anio          469370 non-null  int64  \n",
      " 16  uso           469370 non-null  int64  \n",
      " 17  uso_desc      469370 non-null  object \n",
      " 18  cober         469370 non-null  object \n",
      " 19  codcober      469370 non-null  int64  \n",
      " 20  cober_desc    469370 non-null  object \n",
      " 21  cob_fecuma    451613 non-null  object \n",
      " 22  cob_ef        469370 non-null  object \n",
      " 23  fraude        469370 non-null  int64  \n",
      "dtypes: float64(1), int64(15), object(8)\n",
      "memory usage: 85.9+ MB\n"
     ]
    }
   ],
   "source": [
    "df.info()"
   ]
  },
  {
   "cell_type": "markdown",
   "id": "50080e4c",
   "metadata": {},
   "source": [
    "## Análisis exploratorio univariable."
   ]
  },
  {
   "cell_type": "code",
   "execution_count": 19,
   "id": "124ff6e0",
   "metadata": {
    "scrolled": false
   },
   "outputs": [
    {
     "name": "stdout",
     "output_type": "stream",
     "text": [
      "                 pol         endoso           item        idaseg  \\\n",
      "count  469370.000000  469370.000000  469370.000000  4.693700e+05   \n",
      "mean   434654.229388       0.001300       1.012576  1.155120e+07   \n",
      "std    135460.995433       0.075156       0.309774  1.046871e+07   \n",
      "min    200000.000000       0.000000       1.000000  2.000000e+00   \n",
      "25%    317344.250000       0.000000       1.000000  4.772250e+05   \n",
      "50%    434686.500000       0.000000       1.000000  1.515232e+07   \n",
      "75%    551941.750000       0.000000       1.000000  1.536369e+07   \n",
      "max    669277.000000       8.000000      45.000000  3.597326e+07   \n",
      "\n",
      "        ase_antig_an         ase_cp     ase_codnac         idprod  \\\n",
      "count  469370.000000  469370.000000  469370.000000  469370.000000   \n",
      "mean        3.022564    1523.887046     200.028257    2233.585542   \n",
      "std         1.736485    1095.782110       0.569121    1389.886033   \n",
      "min         0.000000    1001.000000     200.000000       1.000000   \n",
      "25%         2.000000    1001.000000     200.000000    1362.000000   \n",
      "50%         2.000000    1001.000000     200.000000    1735.000000   \n",
      "75%         4.000000    1708.000000     200.000000    2107.000000   \n",
      "max        32.000000    9420.000000     310.000000    5005.000000   \n",
      "\n",
      "        pro_antig_an         tipveh          marca         modelo  \\\n",
      "count  469370.000000  469370.000000  469370.000000  469370.000000   \n",
      "mean        9.708938       1.907193      37.424358     434.674807   \n",
      "std         2.256888       1.178078      20.413349     261.009605   \n",
      "min         4.000000       1.000000       2.000000       7.000000   \n",
      "25%        10.000000       1.000000      25.000000     268.000000   \n",
      "50%        11.000000       1.000000      26.000000     304.000000   \n",
      "75%        11.000000       3.000000      57.000000     658.000000   \n",
      "max        12.000000       9.000000      78.000000    1000.000000   \n",
      "\n",
      "                anio            uso       codcober         fraude  \n",
      "count  469370.000000  469370.000000  469370.000000  469370.000000  \n",
      "mean     2000.566114       1.211358      18.021073       0.036722  \n",
      "std         7.087862       0.766356      15.482007       0.188078  \n",
      "min      1990.000000       1.000000       1.000000       0.000000  \n",
      "25%      1995.000000       1.000000       2.000000       0.000000  \n",
      "50%      2000.000000       1.000000      30.000000       0.000000  \n",
      "75%      2004.000000       1.000000      32.000000       0.000000  \n",
      "max      2018.000000       7.000000      43.000000       1.000000  \n"
     ]
    }
   ],
   "source": [
    "# Utilizo primero el método describe del df entero para mostrar las estadísticas descriptivas incluyendo: \n",
    "# media, meadiana, máx, mín, std, etc. El método describe solo regresa los valores de estas estadísticas \n",
    "# para las columnas numéricas (Ssalvo que se instruya al método con el argumento \"include='all'\").\n",
    "print(df.describe())"
   ]
  },
  {
   "cell_type": "markdown",
   "id": "9c40d257",
   "metadata": {},
   "source": [
    "## Algunas variables de interés para analizar."
   ]
  },
  {
   "cell_type": "markdown",
   "id": "753eeeaf",
   "metadata": {},
   "source": [
    "### Variable 'item'"
   ]
  },
  {
   "cell_type": "code",
   "execution_count": 20,
   "id": "15a1fb2f",
   "metadata": {
    "scrolled": false
   },
   "outputs": [
    {
     "data": {
      "text/plain": [
       "<AxesSubplot:title={'center':'Item'}>"
      ]
     },
     "execution_count": 20,
     "metadata": {},
     "output_type": "execute_result"
    },
    {
     "data": {
      "image/png": "[encoded data removed]",
      "text/plain": [
       "<Figure size 864x288 with 1 Axes>"
      ]
     },
     "metadata": {
      "needs_background": "light"
     },
     "output_type": "display_data"
    }
   ],
   "source": [
    "df['item'].plot(title='Item', kind='box', vert=False, figsize=[12, 4])"
   ]
  },
  {
   "cell_type": "code",
   "execution_count": 21,
   "id": "56ddc7d3",
   "metadata": {
    "scrolled": false
   },
   "outputs": [
    {
     "data": {
      "text/plain": [
       "1"
      ]
     },
     "execution_count": 21,
     "metadata": {},
     "output_type": "execute_result"
    }
   ],
   "source": [
    "# Busco el valor Modal para entender los outliers.\n",
    "df['item'].mode()[0]"
   ]
  },
  {
   "cell_type": "code",
   "execution_count": 22,
   "id": "f3417448",
   "metadata": {
    "scrolled": false
   },
   "outputs": [
    {
     "data": {
      "text/html": [
       "<div>\n",
       "<style scoped>\n",
       "    .dataframe tbody tr th:only-of-type {\n",
       "        vertical-align: middle;\n",
       "    }\n",
       "\n",
       "    .dataframe tbody tr th {\n",
       "        vertical-align: top;\n",
       "    }\n",
       "\n",
       "    .dataframe thead th {\n",
       "        text-align: right;\n",
       "    }\n",
       "</style>\n",
       "<table border=\"1\" class=\"dataframe\">\n",
       "  <thead>\n",
       "    <tr style=\"text-align: right;\">\n",
       "      <th></th>\n",
       "      <th>pol</th>\n",
       "      <th>endoso</th>\n",
       "      <th>item</th>\n",
       "      <th>fecemi</th>\n",
       "      <th>tipend</th>\n",
       "      <th>idaseg</th>\n",
       "      <th>ase_antig_an</th>\n",
       "      <th>ase_cp</th>\n",
       "      <th>ase_codnac</th>\n",
       "      <th>ase_nac</th>\n",
       "      <th>idprod</th>\n",
       "      <th>pro_antig_an</th>\n",
       "      <th>tipveh</th>\n",
       "      <th>marca</th>\n",
       "      <th>modelo</th>\n",
       "      <th>anio</th>\n",
       "      <th>uso</th>\n",
       "      <th>uso_desc</th>\n",
       "      <th>cober</th>\n",
       "      <th>codcober</th>\n",
       "      <th>cober_desc</th>\n",
       "      <th>cob_fecuma</th>\n",
       "      <th>cob_ef</th>\n",
       "      <th>fraude</th>\n",
       "    </tr>\n",
       "  </thead>\n",
       "  <tbody>\n",
       "    <tr>\n",
       "      <th>323607</th>\n",
       "      <td>523522</td>\n",
       "      <td>0</td>\n",
       "      <td>45</td>\n",
       "      <td>9/9/2018</td>\n",
       "      <td>EMISION</td>\n",
       "      <td>15131205</td>\n",
       "      <td>4</td>\n",
       "      <td>1646</td>\n",
       "      <td>200.0</td>\n",
       "      <td>ARGENTINA</td>\n",
       "      <td>1875</td>\n",
       "      <td>11</td>\n",
       "      <td>3</td>\n",
       "      <td>61</td>\n",
       "      <td>745</td>\n",
       "      <td>1990</td>\n",
       "      <td>1</td>\n",
       "      <td>PARTICULAR</td>\n",
       "      <td>C2</td>\n",
       "      <td>32</td>\n",
       "      <td>TERCEROS COMPLETO + GRANIZO</td>\n",
       "      <td>NaN</td>\n",
       "      <td>N</td>\n",
       "      <td>1</td>\n",
       "    </tr>\n",
       "    <tr>\n",
       "      <th>323606</th>\n",
       "      <td>523522</td>\n",
       "      <td>0</td>\n",
       "      <td>44</td>\n",
       "      <td>9/9/2018</td>\n",
       "      <td>EMISION</td>\n",
       "      <td>15131205</td>\n",
       "      <td>4</td>\n",
       "      <td>1646</td>\n",
       "      <td>200.0</td>\n",
       "      <td>ARGENTINA</td>\n",
       "      <td>1875</td>\n",
       "      <td>11</td>\n",
       "      <td>3</td>\n",
       "      <td>26</td>\n",
       "      <td>304</td>\n",
       "      <td>1990</td>\n",
       "      <td>1</td>\n",
       "      <td>PARTICULAR</td>\n",
       "      <td>C2</td>\n",
       "      <td>32</td>\n",
       "      <td>TERCEROS COMPLETO + GRANIZO</td>\n",
       "      <td>NaN</td>\n",
       "      <td>N</td>\n",
       "      <td>0</td>\n",
       "    </tr>\n",
       "    <tr>\n",
       "      <th>323605</th>\n",
       "      <td>523522</td>\n",
       "      <td>0</td>\n",
       "      <td>43</td>\n",
       "      <td>9/9/2018</td>\n",
       "      <td>EMISION</td>\n",
       "      <td>15131205</td>\n",
       "      <td>4</td>\n",
       "      <td>1646</td>\n",
       "      <td>200.0</td>\n",
       "      <td>ARGENTINA</td>\n",
       "      <td>1875</td>\n",
       "      <td>11</td>\n",
       "      <td>3</td>\n",
       "      <td>25</td>\n",
       "      <td>266</td>\n",
       "      <td>1990</td>\n",
       "      <td>1</td>\n",
       "      <td>PARTICULAR</td>\n",
       "      <td>C2</td>\n",
       "      <td>32</td>\n",
       "      <td>TERCEROS COMPLETO + GRANIZO</td>\n",
       "      <td>NaN</td>\n",
       "      <td>N</td>\n",
       "      <td>0</td>\n",
       "    </tr>\n",
       "    <tr>\n",
       "      <th>323604</th>\n",
       "      <td>523522</td>\n",
       "      <td>0</td>\n",
       "      <td>42</td>\n",
       "      <td>9/9/2018</td>\n",
       "      <td>EMISION</td>\n",
       "      <td>15131205</td>\n",
       "      <td>4</td>\n",
       "      <td>1646</td>\n",
       "      <td>200.0</td>\n",
       "      <td>ARGENTINA</td>\n",
       "      <td>1875</td>\n",
       "      <td>11</td>\n",
       "      <td>3</td>\n",
       "      <td>26</td>\n",
       "      <td>317</td>\n",
       "      <td>1990</td>\n",
       "      <td>1</td>\n",
       "      <td>PARTICULAR</td>\n",
       "      <td>C2</td>\n",
       "      <td>32</td>\n",
       "      <td>TERCEROS COMPLETO + GRANIZO</td>\n",
       "      <td>NaN</td>\n",
       "      <td>N</td>\n",
       "      <td>0</td>\n",
       "    </tr>\n",
       "    <tr>\n",
       "      <th>323603</th>\n",
       "      <td>523522</td>\n",
       "      <td>0</td>\n",
       "      <td>41</td>\n",
       "      <td>9/9/2018</td>\n",
       "      <td>EMISION</td>\n",
       "      <td>15131205</td>\n",
       "      <td>4</td>\n",
       "      <td>1646</td>\n",
       "      <td>200.0</td>\n",
       "      <td>ARGENTINA</td>\n",
       "      <td>1875</td>\n",
       "      <td>11</td>\n",
       "      <td>3</td>\n",
       "      <td>7</td>\n",
       "      <td>74</td>\n",
       "      <td>1990</td>\n",
       "      <td>1</td>\n",
       "      <td>PARTICULAR</td>\n",
       "      <td>C2</td>\n",
       "      <td>32</td>\n",
       "      <td>TERCEROS COMPLETO + GRANIZO</td>\n",
       "      <td>NaN</td>\n",
       "      <td>N</td>\n",
       "      <td>0</td>\n",
       "    </tr>\n",
       "    <tr>\n",
       "      <th>...</th>\n",
       "      <td>...</td>\n",
       "      <td>...</td>\n",
       "      <td>...</td>\n",
       "      <td>...</td>\n",
       "      <td>...</td>\n",
       "      <td>...</td>\n",
       "      <td>...</td>\n",
       "      <td>...</td>\n",
       "      <td>...</td>\n",
       "      <td>...</td>\n",
       "      <td>...</td>\n",
       "      <td>...</td>\n",
       "      <td>...</td>\n",
       "      <td>...</td>\n",
       "      <td>...</td>\n",
       "      <td>...</td>\n",
       "      <td>...</td>\n",
       "      <td>...</td>\n",
       "      <td>...</td>\n",
       "      <td>...</td>\n",
       "      <td>...</td>\n",
       "      <td>...</td>\n",
       "      <td>...</td>\n",
       "      <td>...</td>\n",
       "    </tr>\n",
       "    <tr>\n",
       "      <th>179828</th>\n",
       "      <td>379830</td>\n",
       "      <td>0</td>\n",
       "      <td>2</td>\n",
       "      <td>19/5/2018</td>\n",
       "      <td>EMISION</td>\n",
       "      <td>15168524</td>\n",
       "      <td>2</td>\n",
       "      <td>1001</td>\n",
       "      <td>200.0</td>\n",
       "      <td>ARGENTINA</td>\n",
       "      <td>1762</td>\n",
       "      <td>11</td>\n",
       "      <td>1</td>\n",
       "      <td>26</td>\n",
       "      <td>309</td>\n",
       "      <td>2000</td>\n",
       "      <td>1</td>\n",
       "      <td>PARTICULAR</td>\n",
       "      <td>A</td>\n",
       "      <td>1</td>\n",
       "      <td>RC</td>\n",
       "      <td>29/6/2018</td>\n",
       "      <td>S</td>\n",
       "      <td>0</td>\n",
       "    </tr>\n",
       "    <tr>\n",
       "      <th>180025</th>\n",
       "      <td>380027</td>\n",
       "      <td>0</td>\n",
       "      <td>2</td>\n",
       "      <td>19/5/2018</td>\n",
       "      <td>EMISION</td>\n",
       "      <td>15330890</td>\n",
       "      <td>2</td>\n",
       "      <td>1001</td>\n",
       "      <td>200.0</td>\n",
       "      <td>ARGENTINA</td>\n",
       "      <td>1104</td>\n",
       "      <td>11</td>\n",
       "      <td>3</td>\n",
       "      <td>38</td>\n",
       "      <td>404</td>\n",
       "      <td>1991</td>\n",
       "      <td>1</td>\n",
       "      <td>PARTICULAR</td>\n",
       "      <td>C2</td>\n",
       "      <td>32</td>\n",
       "      <td>TERCEROS COMPLETO + GRANIZO</td>\n",
       "      <td>8/7/2018</td>\n",
       "      <td>N</td>\n",
       "      <td>0</td>\n",
       "    </tr>\n",
       "    <tr>\n",
       "      <th>180435</th>\n",
       "      <td>380437</td>\n",
       "      <td>0</td>\n",
       "      <td>2</td>\n",
       "      <td>20/5/2018</td>\n",
       "      <td>EMISION</td>\n",
       "      <td>73848</td>\n",
       "      <td>2</td>\n",
       "      <td>1001</td>\n",
       "      <td>200.0</td>\n",
       "      <td>ARGENTINA</td>\n",
       "      <td>1255</td>\n",
       "      <td>11</td>\n",
       "      <td>1</td>\n",
       "      <td>50</td>\n",
       "      <td>530</td>\n",
       "      <td>2004</td>\n",
       "      <td>1</td>\n",
       "      <td>PARTICULAR</td>\n",
       "      <td>A</td>\n",
       "      <td>1</td>\n",
       "      <td>RC</td>\n",
       "      <td>NaN</td>\n",
       "      <td>N</td>\n",
       "      <td>0</td>\n",
       "    </tr>\n",
       "    <tr>\n",
       "      <th>180577</th>\n",
       "      <td>380579</td>\n",
       "      <td>0</td>\n",
       "      <td>2</td>\n",
       "      <td>20/5/2018</td>\n",
       "      <td>EMISION</td>\n",
       "      <td>235795</td>\n",
       "      <td>6</td>\n",
       "      <td>1646</td>\n",
       "      <td>200.0</td>\n",
       "      <td>ARGENTINA</td>\n",
       "      <td>5005</td>\n",
       "      <td>6</td>\n",
       "      <td>1</td>\n",
       "      <td>7</td>\n",
       "      <td>74</td>\n",
       "      <td>1999</td>\n",
       "      <td>1</td>\n",
       "      <td>PARTICULAR</td>\n",
       "      <td>A</td>\n",
       "      <td>1</td>\n",
       "      <td>RC</td>\n",
       "      <td>20/5/2018</td>\n",
       "      <td>N</td>\n",
       "      <td>0</td>\n",
       "    </tr>\n",
       "    <tr>\n",
       "      <th>469008</th>\n",
       "      <td>668916</td>\n",
       "      <td>0</td>\n",
       "      <td>2</td>\n",
       "      <td>31/12/2018</td>\n",
       "      <td>EMISION</td>\n",
       "      <td>15345687</td>\n",
       "      <td>2</td>\n",
       "      <td>1001</td>\n",
       "      <td>200.0</td>\n",
       "      <td>ARGENTINA</td>\n",
       "      <td>1246</td>\n",
       "      <td>11</td>\n",
       "      <td>3</td>\n",
       "      <td>61</td>\n",
       "      <td>753</td>\n",
       "      <td>1996</td>\n",
       "      <td>1</td>\n",
       "      <td>PARTICULAR</td>\n",
       "      <td>C1</td>\n",
       "      <td>31</td>\n",
       "      <td>TERCEROS COMPLETO + PARCIAL</td>\n",
       "      <td>31/1/2019</td>\n",
       "      <td>N</td>\n",
       "      <td>0</td>\n",
       "    </tr>\n",
       "  </tbody>\n",
       "</table>\n",
       "<p>3376 rows × 24 columns</p>\n",
       "</div>"
      ],
      "text/plain": [
       "           pol  endoso  item      fecemi   tipend    idaseg  ase_antig_an  \\\n",
       "323607  523522       0    45    9/9/2018  EMISION  15131205             4   \n",
       "323606  523522       0    44    9/9/2018  EMISION  15131205             4   \n",
       "323605  523522       0    43    9/9/2018  EMISION  15131205             4   \n",
       "323604  523522       0    42    9/9/2018  EMISION  15131205             4   \n",
       "323603  523522       0    41    9/9/2018  EMISION  15131205             4   \n",
       "...        ...     ...   ...         ...      ...       ...           ...   \n",
       "179828  379830       0     2   19/5/2018  EMISION  15168524             2   \n",
       "180025  380027       0     2   19/5/2018  EMISION  15330890             2   \n",
       "180435  380437       0     2   20/5/2018  EMISION     73848             2   \n",
       "180577  380579       0     2   20/5/2018  EMISION    235795             6   \n",
       "469008  668916       0     2  31/12/2018  EMISION  15345687             2   \n",
       "\n",
       "        ase_cp  ase_codnac    ase_nac  idprod  pro_antig_an  tipveh  marca  \\\n",
       "323607    1646       200.0  ARGENTINA    1875            11       3     61   \n",
       "323606    1646       200.0  ARGENTINA    1875            11       3     26   \n",
       "323605    1646       200.0  ARGENTINA    1875            11       3     25   \n",
       "323604    1646       200.0  ARGENTINA    1875            11       3     26   \n",
       "323603    1646       200.0  ARGENTINA    1875            11       3      7   \n",
       "...        ...         ...        ...     ...           ...     ...    ...   \n",
       "179828    1001       200.0  ARGENTINA    1762            11       1     26   \n",
       "180025    1001       200.0  ARGENTINA    1104            11       3     38   \n",
       "180435    1001       200.0  ARGENTINA    1255            11       1     50   \n",
       "180577    1646       200.0  ARGENTINA    5005             6       1      7   \n",
       "469008    1001       200.0  ARGENTINA    1246            11       3     61   \n",
       "\n",
       "        modelo  anio  uso    uso_desc cober  codcober  \\\n",
       "323607     745  1990    1  PARTICULAR    C2        32   \n",
       "323606     304  1990    1  PARTICULAR    C2        32   \n",
       "323605     266  1990    1  PARTICULAR    C2        32   \n",
       "323604     317  1990    1  PARTICULAR    C2        32   \n",
       "323603      74  1990    1  PARTICULAR    C2        32   \n",
       "...        ...   ...  ...         ...   ...       ...   \n",
       "179828     309  2000    1  PARTICULAR    A          1   \n",
       "180025     404  1991    1  PARTICULAR    C2        32   \n",
       "180435     530  2004    1  PARTICULAR    A          1   \n",
       "180577      74  1999    1  PARTICULAR    A          1   \n",
       "469008     753  1996    1  PARTICULAR    C1        31   \n",
       "\n",
       "                         cober_desc cob_fecuma cob_ef  fraude  \n",
       "323607  TERCEROS COMPLETO + GRANIZO        NaN      N       1  \n",
       "323606  TERCEROS COMPLETO + GRANIZO        NaN      N       0  \n",
       "323605  TERCEROS COMPLETO + GRANIZO        NaN      N       0  \n",
       "323604  TERCEROS COMPLETO + GRANIZO        NaN      N       0  \n",
       "323603  TERCEROS COMPLETO + GRANIZO        NaN      N       0  \n",
       "...                             ...        ...    ...     ...  \n",
       "179828                           RC  29/6/2018      S       0  \n",
       "180025  TERCEROS COMPLETO + GRANIZO   8/7/2018      N       0  \n",
       "180435                           RC        NaN      N       0  \n",
       "180577                           RC  20/5/2018      N       0  \n",
       "469008  TERCEROS COMPLETO + PARCIAL  31/1/2019      N       0  \n",
       "\n",
       "[3376 rows x 24 columns]"
      ]
     },
     "execution_count": 22,
     "metadata": {},
     "output_type": "execute_result"
    }
   ],
   "source": [
    "# Se detectan valores atípicos (outliers) superiores.\n",
    "# Filtrar para verlos y determinar que son, si son válidos y como tratarlos.\n",
    "filtro=df['item']>1\n",
    "df[filtro].sort_values(by='item', ascending=False)"
   ]
  },
  {
   "cell_type": "code",
   "execution_count": 23,
   "id": "eee01c83",
   "metadata": {
    "scrolled": false
   },
   "outputs": [
    {
     "data": {
      "text/plain": [
       "item\n",
       "1     465994\n",
       "2       2580\n",
       "3        494\n",
       "4        136\n",
       "5         44\n",
       "6         21\n",
       "7         18\n",
       "8         10\n",
       "9          4\n",
       "10         5\n",
       "11         3\n",
       "12         4\n",
       "13         4\n",
       "14         3\n",
       "15         4\n",
       "16         4\n",
       "17         3\n",
       "18         3\n",
       "19         3\n",
       "20         3\n",
       "21         3\n",
       "22         3\n",
       "23         2\n",
       "24         1\n",
       "25         1\n",
       "26         1\n",
       "27         1\n",
       "28         1\n",
       "29         1\n",
       "30         1\n",
       "31         1\n",
       "32         1\n",
       "33         1\n",
       "34         1\n",
       "35         1\n",
       "36         1\n",
       "37         1\n",
       "38         1\n",
       "39         1\n",
       "40         1\n",
       "41         1\n",
       "42         1\n",
       "43         1\n",
       "44         1\n",
       "45         1\n",
       "Name: item, dtype: int64"
      ]
     },
     "execution_count": 23,
     "metadata": {},
     "output_type": "execute_result"
    }
   ],
   "source": [
    "# Reviso la frecuencia de cada valor.\n",
    "df.groupby('item')['item'].count()"
   ]
  },
  {
   "cell_type": "code",
   "execution_count": 24,
   "id": "40deac51",
   "metadata": {},
   "outputs": [
    {
     "data": {
      "text/plain": [
       "<seaborn.axisgrid.FacetGrid at 0x275585cfdf0>"
      ]
     },
     "execution_count": 24,
     "metadata": {},
     "output_type": "execute_result"
    },
    {
     "data": {
      "image/png": "[encoded data removed]",
      "text/plain": [
       "<Figure size 360x360 with 1 Axes>"
      ]
     },
     "metadata": {
      "needs_background": "light"
     },
     "output_type": "display_data"
    }
   ],
   "source": [
    "# Plot de Distribución.\n",
    "sns.displot(df['item'], bins=10)"
   ]
  },
  {
   "cell_type": "code",
   "execution_count": 25,
   "id": "e8ea09a6",
   "metadata": {
    "scrolled": false
   },
   "outputs": [],
   "source": [
    "# Se comprueba que la mayoría de las operaciones son individuales (de un solo vehículo).\n",
    "# Se verifica también que la operación que tiene 45 items es una póliza flota. Lo mismo las demás que tienen \n",
    "# más de un item. Se dejan los registros intactos."
   ]
  },
  {
   "cell_type": "markdown",
   "id": "93261082",
   "metadata": {},
   "source": [
    "### Variable 'ase_antig_an'"
   ]
  },
  {
   "cell_type": "code",
   "execution_count": 26,
   "id": "151f7ba7",
   "metadata": {
    "scrolled": false
   },
   "outputs": [
    {
     "data": {
      "text/plain": [
       "count    469370.000000\n",
       "mean          3.022564\n",
       "std           1.736485\n",
       "min           0.000000\n",
       "25%           2.000000\n",
       "50%           2.000000\n",
       "75%           4.000000\n",
       "max          32.000000\n",
       "Name: ase_antig_an, dtype: float64"
      ]
     },
     "execution_count": 26,
     "metadata": {},
     "output_type": "execute_result"
    }
   ],
   "source": [
    "df['ase_antig_an'].describe()"
   ]
  },
  {
   "cell_type": "code",
   "execution_count": 27,
   "id": "612478e7",
   "metadata": {
    "scrolled": false
   },
   "outputs": [
    {
     "data": {
      "text/plain": [
       "<AxesSubplot:title={'center':'Antiguedad del Asegurado en Años'}>"
      ]
     },
     "execution_count": 27,
     "metadata": {},
     "output_type": "execute_result"
    },
    {
     "data": {
      "image/png": "[encoded data removed]",
      "text/plain": [
       "<Figure size 864x288 with 1 Axes>"
      ]
     },
     "metadata": {
      "needs_background": "light"
     },
     "output_type": "display_data"
    }
   ],
   "source": [
    "df['ase_antig_an'].plot(title='Antiguedad del Asegurado en Años', kind='box', vert=False, figsize=[12, 4])"
   ]
  },
  {
   "cell_type": "code",
   "execution_count": 28,
   "id": "9a1c799e",
   "metadata": {
    "scrolled": false
   },
   "outputs": [
    {
     "data": {
      "text/html": [
       "<div>\n",
       "<style scoped>\n",
       "    .dataframe tbody tr th:only-of-type {\n",
       "        vertical-align: middle;\n",
       "    }\n",
       "\n",
       "    .dataframe tbody tr th {\n",
       "        vertical-align: top;\n",
       "    }\n",
       "\n",
       "    .dataframe thead th {\n",
       "        text-align: right;\n",
       "    }\n",
       "</style>\n",
       "<table border=\"1\" class=\"dataframe\">\n",
       "  <thead>\n",
       "    <tr style=\"text-align: right;\">\n",
       "      <th></th>\n",
       "      <th>pol</th>\n",
       "      <th>endoso</th>\n",
       "      <th>item</th>\n",
       "      <th>fecemi</th>\n",
       "      <th>tipend</th>\n",
       "      <th>idaseg</th>\n",
       "      <th>ase_antig_an</th>\n",
       "      <th>ase_cp</th>\n",
       "      <th>ase_codnac</th>\n",
       "      <th>ase_nac</th>\n",
       "      <th>idprod</th>\n",
       "      <th>pro_antig_an</th>\n",
       "      <th>tipveh</th>\n",
       "      <th>marca</th>\n",
       "      <th>modelo</th>\n",
       "      <th>anio</th>\n",
       "      <th>uso</th>\n",
       "      <th>uso_desc</th>\n",
       "      <th>cober</th>\n",
       "      <th>codcober</th>\n",
       "      <th>cober_desc</th>\n",
       "      <th>cob_fecuma</th>\n",
       "      <th>cob_ef</th>\n",
       "      <th>fraude</th>\n",
       "    </tr>\n",
       "  </thead>\n",
       "  <tbody>\n",
       "    <tr>\n",
       "      <th>44010</th>\n",
       "      <td>244012</td>\n",
       "      <td>0</td>\n",
       "      <td>1</td>\n",
       "      <td>4/2/2018</td>\n",
       "      <td>EMISION</td>\n",
       "      <td>35957109</td>\n",
       "      <td>21</td>\n",
       "      <td>1646</td>\n",
       "      <td>200.0</td>\n",
       "      <td>ARGENTINA</td>\n",
       "      <td>1428</td>\n",
       "      <td>4</td>\n",
       "      <td>3</td>\n",
       "      <td>25</td>\n",
       "      <td>298</td>\n",
       "      <td>1997</td>\n",
       "      <td>1</td>\n",
       "      <td>PARTICULAR</td>\n",
       "      <td>C1</td>\n",
       "      <td>31</td>\n",
       "      <td>TERCEROS COMPLETO + PARCIAL</td>\n",
       "      <td>20/3/2018</td>\n",
       "      <td>N</td>\n",
       "      <td>0</td>\n",
       "    </tr>\n",
       "    <tr>\n",
       "      <th>59155</th>\n",
       "      <td>259157</td>\n",
       "      <td>0</td>\n",
       "      <td>1</td>\n",
       "      <td>16/2/2018</td>\n",
       "      <td>EMISION</td>\n",
       "      <td>35880056</td>\n",
       "      <td>32</td>\n",
       "      <td>1619</td>\n",
       "      <td>200.0</td>\n",
       "      <td>ARGENTINA</td>\n",
       "      <td>2001</td>\n",
       "      <td>11</td>\n",
       "      <td>3</td>\n",
       "      <td>26</td>\n",
       "      <td>304</td>\n",
       "      <td>1994</td>\n",
       "      <td>1</td>\n",
       "      <td>PARTICULAR</td>\n",
       "      <td>C2</td>\n",
       "      <td>32</td>\n",
       "      <td>TERCEROS COMPLETO + GRANIZO</td>\n",
       "      <td>23/3/2018</td>\n",
       "      <td>N</td>\n",
       "      <td>0</td>\n",
       "    </tr>\n",
       "    <tr>\n",
       "      <th>60350</th>\n",
       "      <td>260352</td>\n",
       "      <td>0</td>\n",
       "      <td>1</td>\n",
       "      <td>17/2/2018</td>\n",
       "      <td>EMISION</td>\n",
       "      <td>35880056</td>\n",
       "      <td>32</td>\n",
       "      <td>1619</td>\n",
       "      <td>200.0</td>\n",
       "      <td>ARGENTINA</td>\n",
       "      <td>1103</td>\n",
       "      <td>11</td>\n",
       "      <td>1</td>\n",
       "      <td>25</td>\n",
       "      <td>270</td>\n",
       "      <td>2003</td>\n",
       "      <td>1</td>\n",
       "      <td>PARTICULAR</td>\n",
       "      <td>B</td>\n",
       "      <td>2</td>\n",
       "      <td>RC INC ROBO HURTO</td>\n",
       "      <td>12/4/2018</td>\n",
       "      <td>S</td>\n",
       "      <td>0</td>\n",
       "    </tr>\n",
       "    <tr>\n",
       "      <th>172804</th>\n",
       "      <td>372806</td>\n",
       "      <td>0</td>\n",
       "      <td>1</td>\n",
       "      <td>13/5/2018</td>\n",
       "      <td>EMISION</td>\n",
       "      <td>35957109</td>\n",
       "      <td>21</td>\n",
       "      <td>1646</td>\n",
       "      <td>200.0</td>\n",
       "      <td>ARGENTINA</td>\n",
       "      <td>1476</td>\n",
       "      <td>11</td>\n",
       "      <td>1</td>\n",
       "      <td>26</td>\n",
       "      <td>326</td>\n",
       "      <td>2002</td>\n",
       "      <td>1</td>\n",
       "      <td>PARTICULAR</td>\n",
       "      <td>B</td>\n",
       "      <td>2</td>\n",
       "      <td>RC INC ROBO HURTO</td>\n",
       "      <td>NaN</td>\n",
       "      <td>N</td>\n",
       "      <td>0</td>\n",
       "    </tr>\n",
       "    <tr>\n",
       "      <th>228095</th>\n",
       "      <td>428097</td>\n",
       "      <td>0</td>\n",
       "      <td>1</td>\n",
       "      <td>26/6/2018</td>\n",
       "      <td>EMISION</td>\n",
       "      <td>15357066</td>\n",
       "      <td>21</td>\n",
       "      <td>1605</td>\n",
       "      <td>200.0</td>\n",
       "      <td>ARGENTINA</td>\n",
       "      <td>1361</td>\n",
       "      <td>6</td>\n",
       "      <td>3</td>\n",
       "      <td>61</td>\n",
       "      <td>772</td>\n",
       "      <td>1994</td>\n",
       "      <td>1</td>\n",
       "      <td>PARTICULAR</td>\n",
       "      <td>C2</td>\n",
       "      <td>32</td>\n",
       "      <td>TERCEROS COMPLETO + GRANIZO</td>\n",
       "      <td>22/8/2018</td>\n",
       "      <td>S</td>\n",
       "      <td>0</td>\n",
       "    </tr>\n",
       "    <tr>\n",
       "      <th>380678</th>\n",
       "      <td>580593</td>\n",
       "      <td>0</td>\n",
       "      <td>1</td>\n",
       "      <td>23/10/2018</td>\n",
       "      <td>EMISION</td>\n",
       "      <td>15357066</td>\n",
       "      <td>21</td>\n",
       "      <td>1605</td>\n",
       "      <td>200.0</td>\n",
       "      <td>ARGENTINA</td>\n",
       "      <td>2013</td>\n",
       "      <td>11</td>\n",
       "      <td>3</td>\n",
       "      <td>56</td>\n",
       "      <td>617</td>\n",
       "      <td>1992</td>\n",
       "      <td>1</td>\n",
       "      <td>PARTICULAR</td>\n",
       "      <td>C2</td>\n",
       "      <td>32</td>\n",
       "      <td>TERCEROS COMPLETO + GRANIZO</td>\n",
       "      <td>13/12/2018</td>\n",
       "      <td>N</td>\n",
       "      <td>0</td>\n",
       "    </tr>\n",
       "  </tbody>\n",
       "</table>\n",
       "</div>"
      ],
      "text/plain": [
       "           pol  endoso  item      fecemi   tipend    idaseg  ase_antig_an  \\\n",
       "44010   244012       0     1    4/2/2018  EMISION  35957109            21   \n",
       "59155   259157       0     1   16/2/2018  EMISION  35880056            32   \n",
       "60350   260352       0     1   17/2/2018  EMISION  35880056            32   \n",
       "172804  372806       0     1   13/5/2018  EMISION  35957109            21   \n",
       "228095  428097       0     1   26/6/2018  EMISION  15357066            21   \n",
       "380678  580593       0     1  23/10/2018  EMISION  15357066            21   \n",
       "\n",
       "        ase_cp  ase_codnac    ase_nac  idprod  pro_antig_an  tipveh  marca  \\\n",
       "44010     1646       200.0  ARGENTINA    1428             4       3     25   \n",
       "59155     1619       200.0  ARGENTINA    2001            11       3     26   \n",
       "60350     1619       200.0  ARGENTINA    1103            11       1     25   \n",
       "172804    1646       200.0  ARGENTINA    1476            11       1     26   \n",
       "228095    1605       200.0  ARGENTINA    1361             6       3     61   \n",
       "380678    1605       200.0  ARGENTINA    2013            11       3     56   \n",
       "\n",
       "        modelo  anio  uso    uso_desc cober  codcober  \\\n",
       "44010      298  1997    1  PARTICULAR    C1        31   \n",
       "59155      304  1994    1  PARTICULAR    C2        32   \n",
       "60350      270  2003    1  PARTICULAR    B          2   \n",
       "172804     326  2002    1  PARTICULAR    B          2   \n",
       "228095     772  1994    1  PARTICULAR    C2        32   \n",
       "380678     617  1992    1  PARTICULAR    C2        32   \n",
       "\n",
       "                         cober_desc  cob_fecuma cob_ef  fraude  \n",
       "44010   TERCEROS COMPLETO + PARCIAL   20/3/2018      N       0  \n",
       "59155   TERCEROS COMPLETO + GRANIZO   23/3/2018      N       0  \n",
       "60350             RC INC ROBO HURTO   12/4/2018      S       0  \n",
       "172804            RC INC ROBO HURTO         NaN      N       0  \n",
       "228095  TERCEROS COMPLETO + GRANIZO   22/8/2018      S       0  \n",
       "380678  TERCEROS COMPLETO + GRANIZO  13/12/2018      N       0  "
      ]
     },
     "execution_count": 28,
     "metadata": {},
     "output_type": "execute_result"
    }
   ],
   "source": [
    "# Se detectan valores atípicos (outliers) superiores.\n",
    "# Filtrar para verlos y determinar que son, si son válidos o si es necesario eliminar las filas.\n",
    "filtro=df['ase_antig_an']>=15\n",
    "df[filtro]"
   ]
  },
  {
   "cell_type": "code",
   "execution_count": 29,
   "id": "58ddd384",
   "metadata": {
    "scrolled": false
   },
   "outputs": [],
   "source": [
    "# Se comprueba que corresponden a 3 clientes.\n",
    "# Códigos 35957109, 35880056 y 15357066. Se verifica con el área Comercial de la Aseguradora y la antiguedad de\n",
    "# los Asegurados es correcta. Se dejan los registros intactos.\n",
    "\n",
    "# Otra forma de encontrar los outliers superiores:\n",
    "# df['ase_antig_an'].nlargest(10)\n",
    "# df.nlargest(10, 'ase_antig_an') # 10 registros con Asegurados de mayor antiguedad.\n",
    "# df['ase_antig_an'].nsmallest(5)"
   ]
  },
  {
   "cell_type": "code",
   "execution_count": 30,
   "id": "bcc605a1",
   "metadata": {
    "scrolled": false
   },
   "outputs": [
    {
     "data": {
      "text/html": [
       "<div>\n",
       "<style scoped>\n",
       "    .dataframe tbody tr th:only-of-type {\n",
       "        vertical-align: middle;\n",
       "    }\n",
       "\n",
       "    .dataframe tbody tr th {\n",
       "        vertical-align: top;\n",
       "    }\n",
       "\n",
       "    .dataframe thead th {\n",
       "        text-align: right;\n",
       "    }\n",
       "</style>\n",
       "<table border=\"1\" class=\"dataframe\">\n",
       "  <thead>\n",
       "    <tr style=\"text-align: right;\">\n",
       "      <th></th>\n",
       "      <th>pol</th>\n",
       "      <th>endoso</th>\n",
       "      <th>item</th>\n",
       "      <th>fecemi</th>\n",
       "      <th>tipend</th>\n",
       "      <th>idaseg</th>\n",
       "      <th>ase_antig_an</th>\n",
       "      <th>ase_cp</th>\n",
       "      <th>ase_codnac</th>\n",
       "      <th>ase_nac</th>\n",
       "      <th>idprod</th>\n",
       "      <th>pro_antig_an</th>\n",
       "      <th>tipveh</th>\n",
       "      <th>marca</th>\n",
       "      <th>modelo</th>\n",
       "      <th>anio</th>\n",
       "      <th>uso</th>\n",
       "      <th>uso_desc</th>\n",
       "      <th>cober</th>\n",
       "      <th>codcober</th>\n",
       "      <th>cober_desc</th>\n",
       "      <th>cob_fecuma</th>\n",
       "      <th>cob_ef</th>\n",
       "      <th>fraude</th>\n",
       "    </tr>\n",
       "  </thead>\n",
       "  <tbody>\n",
       "    <tr>\n",
       "      <th>59155</th>\n",
       "      <td>259157</td>\n",
       "      <td>0</td>\n",
       "      <td>1</td>\n",
       "      <td>16/2/2018</td>\n",
       "      <td>EMISION</td>\n",
       "      <td>35880056</td>\n",
       "      <td>32</td>\n",
       "      <td>1619</td>\n",
       "      <td>200.0</td>\n",
       "      <td>ARGENTINA</td>\n",
       "      <td>2001</td>\n",
       "      <td>11</td>\n",
       "      <td>3</td>\n",
       "      <td>26</td>\n",
       "      <td>304</td>\n",
       "      <td>1994</td>\n",
       "      <td>1</td>\n",
       "      <td>PARTICULAR</td>\n",
       "      <td>C2</td>\n",
       "      <td>32</td>\n",
       "      <td>TERCEROS COMPLETO + GRANIZO</td>\n",
       "      <td>23/3/2018</td>\n",
       "      <td>N</td>\n",
       "      <td>0</td>\n",
       "    </tr>\n",
       "    <tr>\n",
       "      <th>60350</th>\n",
       "      <td>260352</td>\n",
       "      <td>0</td>\n",
       "      <td>1</td>\n",
       "      <td>17/2/2018</td>\n",
       "      <td>EMISION</td>\n",
       "      <td>35880056</td>\n",
       "      <td>32</td>\n",
       "      <td>1619</td>\n",
       "      <td>200.0</td>\n",
       "      <td>ARGENTINA</td>\n",
       "      <td>1103</td>\n",
       "      <td>11</td>\n",
       "      <td>1</td>\n",
       "      <td>25</td>\n",
       "      <td>270</td>\n",
       "      <td>2003</td>\n",
       "      <td>1</td>\n",
       "      <td>PARTICULAR</td>\n",
       "      <td>B</td>\n",
       "      <td>2</td>\n",
       "      <td>RC INC ROBO HURTO</td>\n",
       "      <td>12/4/2018</td>\n",
       "      <td>S</td>\n",
       "      <td>0</td>\n",
       "    </tr>\n",
       "    <tr>\n",
       "      <th>380678</th>\n",
       "      <td>580593</td>\n",
       "      <td>0</td>\n",
       "      <td>1</td>\n",
       "      <td>23/10/2018</td>\n",
       "      <td>EMISION</td>\n",
       "      <td>15357066</td>\n",
       "      <td>21</td>\n",
       "      <td>1605</td>\n",
       "      <td>200.0</td>\n",
       "      <td>ARGENTINA</td>\n",
       "      <td>2013</td>\n",
       "      <td>11</td>\n",
       "      <td>3</td>\n",
       "      <td>56</td>\n",
       "      <td>617</td>\n",
       "      <td>1992</td>\n",
       "      <td>1</td>\n",
       "      <td>PARTICULAR</td>\n",
       "      <td>C2</td>\n",
       "      <td>32</td>\n",
       "      <td>TERCEROS COMPLETO + GRANIZO</td>\n",
       "      <td>13/12/2018</td>\n",
       "      <td>N</td>\n",
       "      <td>0</td>\n",
       "    </tr>\n",
       "    <tr>\n",
       "      <th>228095</th>\n",
       "      <td>428097</td>\n",
       "      <td>0</td>\n",
       "      <td>1</td>\n",
       "      <td>26/6/2018</td>\n",
       "      <td>EMISION</td>\n",
       "      <td>15357066</td>\n",
       "      <td>21</td>\n",
       "      <td>1605</td>\n",
       "      <td>200.0</td>\n",
       "      <td>ARGENTINA</td>\n",
       "      <td>1361</td>\n",
       "      <td>6</td>\n",
       "      <td>3</td>\n",
       "      <td>61</td>\n",
       "      <td>772</td>\n",
       "      <td>1994</td>\n",
       "      <td>1</td>\n",
       "      <td>PARTICULAR</td>\n",
       "      <td>C2</td>\n",
       "      <td>32</td>\n",
       "      <td>TERCEROS COMPLETO + GRANIZO</td>\n",
       "      <td>22/8/2018</td>\n",
       "      <td>S</td>\n",
       "      <td>0</td>\n",
       "    </tr>\n",
       "    <tr>\n",
       "      <th>44010</th>\n",
       "      <td>244012</td>\n",
       "      <td>0</td>\n",
       "      <td>1</td>\n",
       "      <td>4/2/2018</td>\n",
       "      <td>EMISION</td>\n",
       "      <td>35957109</td>\n",
       "      <td>21</td>\n",
       "      <td>1646</td>\n",
       "      <td>200.0</td>\n",
       "      <td>ARGENTINA</td>\n",
       "      <td>1428</td>\n",
       "      <td>4</td>\n",
       "      <td>3</td>\n",
       "      <td>25</td>\n",
       "      <td>298</td>\n",
       "      <td>1997</td>\n",
       "      <td>1</td>\n",
       "      <td>PARTICULAR</td>\n",
       "      <td>C1</td>\n",
       "      <td>31</td>\n",
       "      <td>TERCEROS COMPLETO + PARCIAL</td>\n",
       "      <td>20/3/2018</td>\n",
       "      <td>N</td>\n",
       "      <td>0</td>\n",
       "    </tr>\n",
       "    <tr>\n",
       "      <th>...</th>\n",
       "      <td>...</td>\n",
       "      <td>...</td>\n",
       "      <td>...</td>\n",
       "      <td>...</td>\n",
       "      <td>...</td>\n",
       "      <td>...</td>\n",
       "      <td>...</td>\n",
       "      <td>...</td>\n",
       "      <td>...</td>\n",
       "      <td>...</td>\n",
       "      <td>...</td>\n",
       "      <td>...</td>\n",
       "      <td>...</td>\n",
       "      <td>...</td>\n",
       "      <td>...</td>\n",
       "      <td>...</td>\n",
       "      <td>...</td>\n",
       "      <td>...</td>\n",
       "      <td>...</td>\n",
       "      <td>...</td>\n",
       "      <td>...</td>\n",
       "      <td>...</td>\n",
       "      <td>...</td>\n",
       "      <td>...</td>\n",
       "    </tr>\n",
       "    <tr>\n",
       "      <th>427703</th>\n",
       "      <td>627618</td>\n",
       "      <td>0</td>\n",
       "      <td>1</td>\n",
       "      <td>29/11/2018</td>\n",
       "      <td>EMISION</td>\n",
       "      <td>15421626</td>\n",
       "      <td>0</td>\n",
       "      <td>8332</td>\n",
       "      <td>200.0</td>\n",
       "      <td>ARGENTINA</td>\n",
       "      <td>1522</td>\n",
       "      <td>11</td>\n",
       "      <td>1</td>\n",
       "      <td>25</td>\n",
       "      <td>268</td>\n",
       "      <td>2009</td>\n",
       "      <td>1</td>\n",
       "      <td>PARTICULAR</td>\n",
       "      <td>C</td>\n",
       "      <td>30</td>\n",
       "      <td>TERCEROS COMPLETO</td>\n",
       "      <td>7/1/2019</td>\n",
       "      <td>N</td>\n",
       "      <td>0</td>\n",
       "    </tr>\n",
       "    <tr>\n",
       "      <th>348201</th>\n",
       "      <td>548116</td>\n",
       "      <td>0</td>\n",
       "      <td>1</td>\n",
       "      <td>28/9/2018</td>\n",
       "      <td>EMISION</td>\n",
       "      <td>15409249</td>\n",
       "      <td>0</td>\n",
       "      <td>1714</td>\n",
       "      <td>200.0</td>\n",
       "      <td>ARGENTINA</td>\n",
       "      <td>1565</td>\n",
       "      <td>11</td>\n",
       "      <td>1</td>\n",
       "      <td>29</td>\n",
       "      <td>343</td>\n",
       "      <td>2004</td>\n",
       "      <td>1</td>\n",
       "      <td>PARTICULAR</td>\n",
       "      <td>C</td>\n",
       "      <td>30</td>\n",
       "      <td>TERCEROS COMPLETO</td>\n",
       "      <td>28/9/2018</td>\n",
       "      <td>N</td>\n",
       "      <td>0</td>\n",
       "    </tr>\n",
       "    <tr>\n",
       "      <th>270076</th>\n",
       "      <td>470057</td>\n",
       "      <td>0</td>\n",
       "      <td>1</td>\n",
       "      <td>28/7/2018</td>\n",
       "      <td>EMISION</td>\n",
       "      <td>15426771</td>\n",
       "      <td>0</td>\n",
       "      <td>1651</td>\n",
       "      <td>200.0</td>\n",
       "      <td>ARGENTINA</td>\n",
       "      <td>1024</td>\n",
       "      <td>10</td>\n",
       "      <td>1</td>\n",
       "      <td>54</td>\n",
       "      <td>605</td>\n",
       "      <td>2003</td>\n",
       "      <td>1</td>\n",
       "      <td>PARTICULAR</td>\n",
       "      <td>A</td>\n",
       "      <td>1</td>\n",
       "      <td>RC</td>\n",
       "      <td>28/7/2018</td>\n",
       "      <td>N</td>\n",
       "      <td>0</td>\n",
       "    </tr>\n",
       "    <tr>\n",
       "      <th>348205</th>\n",
       "      <td>548120</td>\n",
       "      <td>0</td>\n",
       "      <td>1</td>\n",
       "      <td>28/9/2018</td>\n",
       "      <td>EMISION</td>\n",
       "      <td>15410986</td>\n",
       "      <td>0</td>\n",
       "      <td>1888</td>\n",
       "      <td>200.0</td>\n",
       "      <td>ARGENTINA</td>\n",
       "      <td>1817</td>\n",
       "      <td>11</td>\n",
       "      <td>1</td>\n",
       "      <td>61</td>\n",
       "      <td>772</td>\n",
       "      <td>2000</td>\n",
       "      <td>1</td>\n",
       "      <td>PARTICULAR</td>\n",
       "      <td>B</td>\n",
       "      <td>2</td>\n",
       "      <td>RC INC ROBO HURTO</td>\n",
       "      <td>12/11/2018</td>\n",
       "      <td>S</td>\n",
       "      <td>0</td>\n",
       "    </tr>\n",
       "    <tr>\n",
       "      <th>286182</th>\n",
       "      <td>486141</td>\n",
       "      <td>0</td>\n",
       "      <td>1</td>\n",
       "      <td>10/8/2018</td>\n",
       "      <td>EMISION</td>\n",
       "      <td>15394299</td>\n",
       "      <td>0</td>\n",
       "      <td>8000</td>\n",
       "      <td>200.0</td>\n",
       "      <td>ARGENTINA</td>\n",
       "      <td>1787</td>\n",
       "      <td>11</td>\n",
       "      <td>3</td>\n",
       "      <td>18</td>\n",
       "      <td>208</td>\n",
       "      <td>1995</td>\n",
       "      <td>1</td>\n",
       "      <td>PARTICULAR</td>\n",
       "      <td>C2</td>\n",
       "      <td>32</td>\n",
       "      <td>TERCEROS COMPLETO + GRANIZO</td>\n",
       "      <td>10/8/2018</td>\n",
       "      <td>S</td>\n",
       "      <td>0</td>\n",
       "    </tr>\n",
       "  </tbody>\n",
       "</table>\n",
       "<p>469370 rows × 24 columns</p>\n",
       "</div>"
      ],
      "text/plain": [
       "           pol  endoso  item      fecemi   tipend    idaseg  ase_antig_an  \\\n",
       "59155   259157       0     1   16/2/2018  EMISION  35880056            32   \n",
       "60350   260352       0     1   17/2/2018  EMISION  35880056            32   \n",
       "380678  580593       0     1  23/10/2018  EMISION  15357066            21   \n",
       "228095  428097       0     1   26/6/2018  EMISION  15357066            21   \n",
       "44010   244012       0     1    4/2/2018  EMISION  35957109            21   \n",
       "...        ...     ...   ...         ...      ...       ...           ...   \n",
       "427703  627618       0     1  29/11/2018  EMISION  15421626             0   \n",
       "348201  548116       0     1   28/9/2018  EMISION  15409249             0   \n",
       "270076  470057       0     1   28/7/2018  EMISION  15426771             0   \n",
       "348205  548120       0     1   28/9/2018  EMISION  15410986             0   \n",
       "286182  486141       0     1   10/8/2018  EMISION  15394299             0   \n",
       "\n",
       "        ase_cp  ase_codnac    ase_nac  idprod  pro_antig_an  tipveh  marca  \\\n",
       "59155     1619       200.0  ARGENTINA    2001            11       3     26   \n",
       "60350     1619       200.0  ARGENTINA    1103            11       1     25   \n",
       "380678    1605       200.0  ARGENTINA    2013            11       3     56   \n",
       "228095    1605       200.0  ARGENTINA    1361             6       3     61   \n",
       "44010     1646       200.0  ARGENTINA    1428             4       3     25   \n",
       "...        ...         ...        ...     ...           ...     ...    ...   \n",
       "427703    8332       200.0  ARGENTINA    1522            11       1     25   \n",
       "348201    1714       200.0  ARGENTINA    1565            11       1     29   \n",
       "270076    1651       200.0  ARGENTINA    1024            10       1     54   \n",
       "348205    1888       200.0  ARGENTINA    1817            11       1     61   \n",
       "286182    8000       200.0  ARGENTINA    1787            11       3     18   \n",
       "\n",
       "        modelo  anio  uso    uso_desc cober  codcober  \\\n",
       "59155      304  1994    1  PARTICULAR    C2        32   \n",
       "60350      270  2003    1  PARTICULAR    B          2   \n",
       "380678     617  1992    1  PARTICULAR    C2        32   \n",
       "228095     772  1994    1  PARTICULAR    C2        32   \n",
       "44010      298  1997    1  PARTICULAR    C1        31   \n",
       "...        ...   ...  ...         ...   ...       ...   \n",
       "427703     268  2009    1  PARTICULAR    C         30   \n",
       "348201     343  2004    1  PARTICULAR    C         30   \n",
       "270076     605  2003    1  PARTICULAR    A          1   \n",
       "348205     772  2000    1  PARTICULAR    B          2   \n",
       "286182     208  1995    1  PARTICULAR    C2        32   \n",
       "\n",
       "                         cober_desc  cob_fecuma cob_ef  fraude  \n",
       "59155   TERCEROS COMPLETO + GRANIZO   23/3/2018      N       0  \n",
       "60350             RC INC ROBO HURTO   12/4/2018      S       0  \n",
       "380678  TERCEROS COMPLETO + GRANIZO  13/12/2018      N       0  \n",
       "228095  TERCEROS COMPLETO + GRANIZO   22/8/2018      S       0  \n",
       "44010   TERCEROS COMPLETO + PARCIAL   20/3/2018      N       0  \n",
       "...                             ...         ...    ...     ...  \n",
       "427703            TERCEROS COMPLETO    7/1/2019      N       0  \n",
       "348201            TERCEROS COMPLETO   28/9/2018      N       0  \n",
       "270076                           RC   28/7/2018      N       0  \n",
       "348205            RC INC ROBO HURTO  12/11/2018      S       0  \n",
       "286182  TERCEROS COMPLETO + GRANIZO   10/8/2018      S       0  \n",
       "\n",
       "[469370 rows x 24 columns]"
      ]
     },
     "execution_count": 30,
     "metadata": {},
     "output_type": "execute_result"
    }
   ],
   "source": [
    "# Otra forma, ordenar datos para ver valores mas altos (o mas bajos).\n",
    "df.sort_values(by='ase_antig_an', ascending=False) # con inplace=True grabo el df en ese orden."
   ]
  },
  {
   "cell_type": "code",
   "execution_count": 31,
   "id": "3b9e7315",
   "metadata": {
    "scrolled": false
   },
   "outputs": [
    {
     "data": {
      "text/plain": [
       "<AxesSubplot:ylabel='Frequency'>"
      ]
     },
     "execution_count": 31,
     "metadata": {},
     "output_type": "execute_result"
    },
    {
     "data": {
      "image/png": "[encoded data removed]",
      "text/plain": [
       "<Figure size 864x288 with 1 Axes>"
      ]
     },
     "metadata": {
      "needs_background": "light"
     },
     "output_type": "display_data"
    }
   ],
   "source": [
    "# Histograma para ver la frecuencia de cada valor.\n",
    "df['ase_antig_an'].plot(kind='hist', bins=60, grid=True, figsize=[12,4])"
   ]
  },
  {
   "cell_type": "code",
   "execution_count": 32,
   "id": "2fd4e92b",
   "metadata": {
    "scrolled": false
   },
   "outputs": [
    {
     "data": {
      "text/plain": [
       "ase_antig_an\n",
       "0       9634\n",
       "1      25447\n",
       "2     260999\n",
       "3      31726\n",
       "4      26022\n",
       "5      23089\n",
       "6      90970\n",
       "7       1345\n",
       "8         26\n",
       "9        106\n",
       "21         4\n",
       "32         2\n",
       "Name: ase_antig_an, dtype: int64"
      ]
     },
     "execution_count": 32,
     "metadata": {},
     "output_type": "execute_result"
    }
   ],
   "source": [
    "# Otra forma de ver la frecuencia de cada valor.\n",
    "df.groupby('ase_antig_an')['ase_antig_an'].count()"
   ]
  },
  {
   "cell_type": "code",
   "execution_count": 33,
   "id": "72eaf3a3",
   "metadata": {
    "scrolled": false
   },
   "outputs": [
    {
     "data": {
      "image/png": "[encoded data removed]",
      "text/plain": [
       "<Figure size 864x288 with 1 Axes>"
      ]
     },
     "metadata": {
      "needs_background": "light"
     },
     "output_type": "display_data"
    }
   ],
   "source": [
    "# Otra forma de ver la frecuencia de cada valor.\n",
    "df.groupby('ase_antig_an')['ase_antig_an'].count().plot.bar(figsize=[12,4])\n",
    "plt.show()"
   ]
  },
  {
   "cell_type": "markdown",
   "id": "0cca0cb8",
   "metadata": {},
   "source": [
    "### Variable 'ase_nac' y 'ase_codnac'"
   ]
  },
  {
   "cell_type": "code",
   "execution_count": 34,
   "id": "5ab6a73c",
   "metadata": {
    "scrolled": false
   },
   "outputs": [
    {
     "data": {
      "text/plain": [
       "count        469370\n",
       "unique            7\n",
       "top       ARGENTINA\n",
       "freq         467255\n",
       "Name: ase_nac, dtype: object"
      ]
     },
     "execution_count": 34,
     "metadata": {},
     "output_type": "execute_result"
    }
   ],
   "source": [
    "df['ase_nac'].describe()"
   ]
  },
  {
   "cell_type": "code",
   "execution_count": 35,
   "id": "0ba506ab",
   "metadata": {
    "scrolled": false
   },
   "outputs": [
    {
     "data": {
      "image/png": "[encoded data removed]",
      "text/plain": [
       "<Figure size 864x288 with 1 Axes>"
      ]
     },
     "metadata": {
      "needs_background": "light"
     },
     "output_type": "display_data"
    }
   ],
   "source": [
    "# Veo la frecuencia de cada valor.\n",
    "df.groupby('ase_nac')['ase_nac'].count().plot.bar(figsize=[12,4])\n",
    "plt.title('Operaciones por Nacionalidad del Asegurado')\n",
    "plt.show()"
   ]
  },
  {
   "cell_type": "code",
   "execution_count": 36,
   "id": "3b0fb7e6",
   "metadata": {},
   "outputs": [
    {
     "data": {
      "image/png": "[encoded data removed]",
      "text/plain": [
       "<Figure size 864x288 with 1 Axes>"
      ]
     },
     "metadata": {
      "needs_background": "light"
     },
     "output_type": "display_data"
    }
   ],
   "source": [
    "# Veo la frecuencia de cada valor.\n",
    "df.groupby('ase_codnac')['ase_codnac'].count().plot.bar(figsize=[12,4])\n",
    "plt.title('Operaciones por Nacionalidad del Asegurado')\n",
    "plt.show()"
   ]
  },
  {
   "cell_type": "code",
   "execution_count": 37,
   "id": "a2f0aa1f",
   "metadata": {
    "scrolled": true
   },
   "outputs": [
    {
     "data": {
      "text/plain": [
       "ase_nac\n",
       "ARGENTINA    467255\n",
       "BRASIL          327\n",
       "CHILE           263\n",
       "CHINA             2\n",
       "COLOMBIA       1406\n",
       "URUGUAY         114\n",
       "VENEZUELA         3\n",
       "Name: ase_nac, dtype: int64"
      ]
     },
     "execution_count": 37,
     "metadata": {},
     "output_type": "execute_result"
    }
   ],
   "source": [
    "# Reviso la frecuencia de cada valor.\n",
    "df.groupby('ase_nac')['ase_nac'].count()"
   ]
  },
  {
   "cell_type": "code",
   "execution_count": 38,
   "id": "a64661dd",
   "metadata": {},
   "outputs": [
    {
     "data": {
      "text/plain": [
       "ase_codnac\n",
       "200.0    467255\n",
       "203.0       327\n",
       "205.0      1406\n",
       "208.0       263\n",
       "225.0       114\n",
       "226.0         3\n",
       "310.0         2\n",
       "Name: ase_codnac, dtype: int64"
      ]
     },
     "execution_count": 38,
     "metadata": {},
     "output_type": "execute_result"
    }
   ],
   "source": [
    "# Reviso la frecuencia de cada valor.\n",
    "df.groupby('ase_codnac')['ase_codnac'].count()"
   ]
  },
  {
   "cell_type": "markdown",
   "id": "8a850ca9",
   "metadata": {},
   "source": [
    "### Variable 'pro_antig_an'"
   ]
  },
  {
   "cell_type": "code",
   "execution_count": 39,
   "id": "d31846b0",
   "metadata": {
    "scrolled": false
   },
   "outputs": [
    {
     "data": {
      "text/plain": [
       "count    469370.000000\n",
       "mean          9.708938\n",
       "std           2.256888\n",
       "min           4.000000\n",
       "25%          10.000000\n",
       "50%          11.000000\n",
       "75%          11.000000\n",
       "max          12.000000\n",
       "Name: pro_antig_an, dtype: float64"
      ]
     },
     "execution_count": 39,
     "metadata": {},
     "output_type": "execute_result"
    }
   ],
   "source": [
    "df['pro_antig_an'].describe()"
   ]
  },
  {
   "cell_type": "code",
   "execution_count": 40,
   "id": "0b31e406",
   "metadata": {
    "scrolled": false
   },
   "outputs": [
    {
     "data": {
      "text/plain": [
       "<AxesSubplot:title={'center':'Antiguedad del Productor en Años'}>"
      ]
     },
     "execution_count": 40,
     "metadata": {},
     "output_type": "execute_result"
    },
    {
     "data": {
      "image/png": "[encoded data removed]",
      "text/plain": [
       "<Figure size 864x288 with 1 Axes>"
      ]
     },
     "metadata": {
      "needs_background": "light"
     },
     "output_type": "display_data"
    }
   ],
   "source": [
    "df['pro_antig_an'].plot(title='Antiguedad del Productor en Años', kind='box', vert=False, figsize=[12, 4])"
   ]
  },
  {
   "cell_type": "code",
   "execution_count": 41,
   "id": "f959a332",
   "metadata": {
    "scrolled": false
   },
   "outputs": [
    {
     "data": {
      "text/plain": [
       "pro_antig_an\n",
       "4      12936\n",
       "6     100050\n",
       "8       1531\n",
       "9       1916\n",
       "10     11660\n",
       "11    336376\n",
       "12      4901\n",
       "Name: pro_antig_an, dtype: int64"
      ]
     },
     "execution_count": 41,
     "metadata": {},
     "output_type": "execute_result"
    }
   ],
   "source": [
    "df.groupby('pro_antig_an')['pro_antig_an'].count()"
   ]
  },
  {
   "cell_type": "markdown",
   "id": "8439a879",
   "metadata": {},
   "source": [
    "### Variable 'tipveh'"
   ]
  },
  {
   "cell_type": "code",
   "execution_count": 42,
   "id": "78c9b3f4",
   "metadata": {
    "scrolled": false
   },
   "outputs": [
    {
     "data": {
      "text/plain": [
       "count    469370.000000\n",
       "mean          1.907193\n",
       "std           1.178078\n",
       "min           1.000000\n",
       "25%           1.000000\n",
       "50%           1.000000\n",
       "75%           3.000000\n",
       "max           9.000000\n",
       "Name: tipveh, dtype: float64"
      ]
     },
     "execution_count": 42,
     "metadata": {},
     "output_type": "execute_result"
    }
   ],
   "source": [
    "df['tipveh'].describe()"
   ]
  },
  {
   "cell_type": "code",
   "execution_count": 43,
   "id": "b6181c9c",
   "metadata": {
    "scrolled": false
   },
   "outputs": [
    {
     "data": {
      "image/png": "[encoded data removed]",
      "text/plain": [
       "<Figure size 864x288 with 1 Axes>"
      ]
     },
     "metadata": {
      "needs_background": "light"
     },
     "output_type": "display_data"
    }
   ],
   "source": [
    "# Veo la frecuencia de cada valor.\n",
    "df.groupby('tipveh')['tipveh'].count().plot.bar(figsize=[12,4])\n",
    "plt.title('Operaciones por Tipo de Vehículo')\n",
    "plt.show()"
   ]
  },
  {
   "cell_type": "code",
   "execution_count": 44,
   "id": "7ab62b57",
   "metadata": {
    "scrolled": false
   },
   "outputs": [
    {
     "data": {
      "text/plain": [
       "tipveh\n",
       "1    265652\n",
       "2      9151\n",
       "3    185840\n",
       "4      4946\n",
       "5        27\n",
       "9      3754\n",
       "Name: tipveh, dtype: int64"
      ]
     },
     "execution_count": 44,
     "metadata": {},
     "output_type": "execute_result"
    }
   ],
   "source": [
    "df.groupby('tipveh')['tipveh'].count()"
   ]
  },
  {
   "cell_type": "markdown",
   "id": "f1429e4d",
   "metadata": {},
   "source": [
    "### Variable 'marca'"
   ]
  },
  {
   "cell_type": "code",
   "execution_count": 45,
   "id": "7e04ba98",
   "metadata": {
    "scrolled": false
   },
   "outputs": [
    {
     "data": {
      "text/plain": [
       "count    469370.000000\n",
       "mean         37.424358\n",
       "std          20.413349\n",
       "min           2.000000\n",
       "25%          25.000000\n",
       "50%          26.000000\n",
       "75%          57.000000\n",
       "max          78.000000\n",
       "Name: marca, dtype: float64"
      ]
     },
     "execution_count": 45,
     "metadata": {},
     "output_type": "execute_result"
    }
   ],
   "source": [
    "df['marca'].describe()"
   ]
  },
  {
   "cell_type": "code",
   "execution_count": 46,
   "id": "d9651f7d",
   "metadata": {
    "scrolled": false
   },
   "outputs": [
    {
     "data": {
      "image/png": "[encoded data removed]",
      "text/plain": [
       "<Figure size 864x288 with 1 Axes>"
      ]
     },
     "metadata": {
      "needs_background": "light"
     },
     "output_type": "display_data"
    }
   ],
   "source": [
    "# Veo la frecuencia de cada valor.\n",
    "df.groupby('marca')['marca'].count().plot.bar(figsize=[12,4])\n",
    "plt.title('Operaciones por Marca del Vehículo')\n",
    "plt.show()"
   ]
  },
  {
   "cell_type": "code",
   "execution_count": 47,
   "id": "cc954a08",
   "metadata": {
    "scrolled": false
   },
   "outputs": [
    {
     "data": {
      "text/plain": [
       "<AxesSubplot:title={'center':'Operaciones por Marca del Vehículo '}>"
      ]
     },
     "execution_count": 47,
     "metadata": {},
     "output_type": "execute_result"
    },
    {
     "data": {
      "image/png": "[encoded data removed]",
      "text/plain": [
       "<Figure size 864x288 with 1 Axes>"
      ]
     },
     "metadata": {
      "needs_background": "light"
     },
     "output_type": "display_data"
    }
   ],
   "source": [
    "df['marca'].plot(title='Operaciones por Marca del Vehículo ', kind='box', vert=False, figsize=[12, 4])"
   ]
  },
  {
   "cell_type": "code",
   "execution_count": 48,
   "id": "2a4a6d86",
   "metadata": {
    "scrolled": false
   },
   "outputs": [
    {
     "data": {
      "text/plain": [
       "marca\n",
       "2        166\n",
       "7      30312\n",
       "12     25597\n",
       "14        28\n",
       "15        46\n",
       "16      1110\n",
       "18      2113\n",
       "19      4961\n",
       "21      2525\n",
       "23      2036\n",
       "25    134085\n",
       "26     49958\n",
       "29     11466\n",
       "31     12055\n",
       "34      2447\n",
       "35       851\n",
       "36       889\n",
       "37      2450\n",
       "38      2913\n",
       "39      9938\n",
       "40      3466\n",
       "43         2\n",
       "50     10081\n",
       "51     16747\n",
       "54      8289\n",
       "56     16932\n",
       "57     12614\n",
       "58     18065\n",
       "61     30701\n",
       "66      6600\n",
       "70      6193\n",
       "71      6216\n",
       "74     12899\n",
       "77     13416\n",
       "78     11203\n",
       "Name: marca, dtype: int64"
      ]
     },
     "execution_count": 48,
     "metadata": {},
     "output_type": "execute_result"
    }
   ],
   "source": [
    "df.groupby('marca')['marca'].count()"
   ]
  },
  {
   "cell_type": "markdown",
   "id": "6a482bfa",
   "metadata": {},
   "source": [
    "### Variable 'modelo'"
   ]
  },
  {
   "cell_type": "code",
   "execution_count": 49,
   "id": "8f20e365",
   "metadata": {
    "scrolled": false
   },
   "outputs": [
    {
     "data": {
      "text/plain": [
       "count    469370.000000\n",
       "mean        434.674807\n",
       "std         261.009605\n",
       "min           7.000000\n",
       "25%         268.000000\n",
       "50%         304.000000\n",
       "75%         658.000000\n",
       "max        1000.000000\n",
       "Name: modelo, dtype: float64"
      ]
     },
     "execution_count": 49,
     "metadata": {},
     "output_type": "execute_result"
    }
   ],
   "source": [
    "df['modelo'].describe()"
   ]
  },
  {
   "cell_type": "code",
   "execution_count": 50,
   "id": "737093e3",
   "metadata": {
    "scrolled": false
   },
   "outputs": [
    {
     "data": {
      "text/plain": [
       "<AxesSubplot:title={'center':'Operaciones por Modelo del Vehículo '}>"
      ]
     },
     "execution_count": 50,
     "metadata": {},
     "output_type": "execute_result"
    },
    {
     "data": {
      "image/png": "[encoded data removed]",
      "text/plain": [
       "<Figure size 864x288 with 1 Axes>"
      ]
     },
     "metadata": {
      "needs_background": "light"
     },
     "output_type": "display_data"
    }
   ],
   "source": [
    "df['modelo'].plot(title='Operaciones por Modelo del Vehículo ', kind='box', vert=False, figsize=[12, 4])"
   ]
  },
  {
   "cell_type": "code",
   "execution_count": 51,
   "id": "dc161da1",
   "metadata": {
    "scrolled": false
   },
   "outputs": [
    {
     "data": {
      "text/plain": [
       "modelo\n",
       "7         166\n",
       "74      30312\n",
       "102      1659\n",
       "103      1696\n",
       "104      1781\n",
       "        ...  \n",
       "996       415\n",
       "997       452\n",
       "998       413\n",
       "999       420\n",
       "1000      435\n",
       "Name: modelo, Length: 587, dtype: int64"
      ]
     },
     "execution_count": 51,
     "metadata": {},
     "output_type": "execute_result"
    }
   ],
   "source": [
    "df.groupby('modelo')['modelo'].count()"
   ]
  },
  {
   "cell_type": "markdown",
   "id": "42930d12",
   "metadata": {},
   "source": [
    "### Variable 'anio'"
   ]
  },
  {
   "cell_type": "code",
   "execution_count": 52,
   "id": "608a5264",
   "metadata": {
    "scrolled": false
   },
   "outputs": [
    {
     "data": {
      "text/plain": [
       "count    469370.000000\n",
       "mean       2000.566114\n",
       "std           7.087862\n",
       "min        1990.000000\n",
       "25%        1995.000000\n",
       "50%        2000.000000\n",
       "75%        2004.000000\n",
       "max        2018.000000\n",
       "Name: anio, dtype: float64"
      ]
     },
     "execution_count": 52,
     "metadata": {},
     "output_type": "execute_result"
    }
   ],
   "source": [
    "df['anio'].describe()"
   ]
  },
  {
   "cell_type": "code",
   "execution_count": 53,
   "id": "d6cd3df0",
   "metadata": {
    "scrolled": false
   },
   "outputs": [
    {
     "data": {
      "image/png": "[encoded data removed]",
      "text/plain": [
       "<Figure size 864x288 with 1 Axes>"
      ]
     },
     "metadata": {
      "needs_background": "light"
     },
     "output_type": "display_data"
    }
   ],
   "source": [
    "# Veo la frecuencia de cada valor.\n",
    "df.groupby('anio')['anio'].count().plot.bar(figsize=[12,4])\n",
    "plt.title('Operaciones por Año de Fabricación del Vehículo')\n",
    "plt.show()"
   ]
  },
  {
   "cell_type": "code",
   "execution_count": 54,
   "id": "84078d44",
   "metadata": {
    "scrolled": false
   },
   "outputs": [
    {
     "data": {
      "text/plain": [
       "anio\n",
       "1990    21787\n",
       "1991    21799\n",
       "1992    21876\n",
       "1993    21663\n",
       "1994    21963\n",
       "1995    21595\n",
       "1996    21548\n",
       "1997    21712\n",
       "1998    21740\n",
       "1999    21727\n",
       "2000    27311\n",
       "2001    27581\n",
       "2002    27148\n",
       "2003    27261\n",
       "2004    27682\n",
       "2005    27515\n",
       "2006     6567\n",
       "2007     6423\n",
       "2008     6856\n",
       "2009     6763\n",
       "2010     6766\n",
       "2011     6827\n",
       "2012     6712\n",
       "2013     6903\n",
       "2014     6888\n",
       "2015     6977\n",
       "2016     6468\n",
       "2017     6557\n",
       "2018     6755\n",
       "Name: anio, dtype: int64"
      ]
     },
     "execution_count": 54,
     "metadata": {},
     "output_type": "execute_result"
    }
   ],
   "source": [
    "df.groupby('anio')['anio'].count()"
   ]
  },
  {
   "cell_type": "code",
   "execution_count": 55,
   "id": "5f9fa458",
   "metadata": {
    "scrolled": false
   },
   "outputs": [],
   "source": [
    "### Variable 'uso'"
   ]
  },
  {
   "cell_type": "code",
   "execution_count": 56,
   "id": "a66855c1",
   "metadata": {
    "scrolled": false
   },
   "outputs": [
    {
     "data": {
      "text/plain": [
       "count    469370.000000\n",
       "mean          1.211358\n",
       "std           0.766356\n",
       "min           1.000000\n",
       "25%           1.000000\n",
       "50%           1.000000\n",
       "75%           1.000000\n",
       "max           7.000000\n",
       "Name: uso, dtype: float64"
      ]
     },
     "execution_count": 56,
     "metadata": {},
     "output_type": "execute_result"
    }
   ],
   "source": [
    "df['uso'].describe()"
   ]
  },
  {
   "cell_type": "code",
   "execution_count": 57,
   "id": "196e537b",
   "metadata": {
    "scrolled": false
   },
   "outputs": [
    {
     "data": {
      "image/png": "[encoded data removed]",
      "text/plain": [
       "<Figure size 864x288 with 1 Axes>"
      ]
     },
     "metadata": {
      "needs_background": "light"
     },
     "output_type": "display_data"
    }
   ],
   "source": [
    "# Veo la frecuencia de cada valor.\n",
    "df.groupby('uso')['uso'].count().plot.bar(figsize=[12,4])\n",
    "plt.title('Operaciones por Uso del Vehículo')\n",
    "plt.show()"
   ]
  },
  {
   "cell_type": "code",
   "execution_count": 58,
   "id": "030f31dc",
   "metadata": {
    "scrolled": false
   },
   "outputs": [
    {
     "data": {
      "text/plain": [
       "uso\n",
       "1    426447\n",
       "2      6509\n",
       "3     27846\n",
       "4      4776\n",
       "5        38\n",
       "7      3754\n",
       "Name: uso, dtype: int64"
      ]
     },
     "execution_count": 58,
     "metadata": {},
     "output_type": "execute_result"
    }
   ],
   "source": [
    "df.groupby('uso')['uso'].count()"
   ]
  },
  {
   "cell_type": "markdown",
   "id": "c15cc898",
   "metadata": {},
   "source": [
    "### Variable 'cober'"
   ]
  },
  {
   "cell_type": "code",
   "execution_count": 59,
   "id": "0084c910",
   "metadata": {
    "scrolled": false
   },
   "outputs": [
    {
     "data": {
      "text/plain": [
       "count     469370\n",
       "unique         8\n",
       "top           B \n",
       "freq      146285\n",
       "Name: cober, dtype: object"
      ]
     },
     "execution_count": 59,
     "metadata": {},
     "output_type": "execute_result"
    }
   ],
   "source": [
    "df['cober'].describe()"
   ]
  },
  {
   "cell_type": "code",
   "execution_count": 60,
   "id": "cee0c507",
   "metadata": {
    "scrolled": false
   },
   "outputs": [
    {
     "data": {
      "image/png": "[encoded data removed]",
      "text/plain": [
       "<Figure size 864x288 with 1 Axes>"
      ]
     },
     "metadata": {
      "needs_background": "light"
     },
     "output_type": "display_data"
    }
   ],
   "source": [
    "# Veo la frecuencia de cada valor.\n",
    "df.groupby('cober')['cober'].count().plot.bar(figsize=[12,4])\n",
    "plt.title('Operaciones por Cobertura del Vehículo')\n",
    "plt.show()"
   ]
  },
  {
   "cell_type": "code",
   "execution_count": 61,
   "id": "5b1f9b6a",
   "metadata": {
    "scrolled": false
   },
   "outputs": [
    {
     "data": {
      "text/plain": [
       "cober\n",
       "A      73483\n",
       "B     146285\n",
       "C      26017\n",
       "C1     65076\n",
       "C2    130747\n",
       "D1     27594\n",
       "D2       128\n",
       "D4        40\n",
       "Name: cober, dtype: int64"
      ]
     },
     "execution_count": 61,
     "metadata": {},
     "output_type": "execute_result"
    }
   ],
   "source": [
    "df.groupby('cober')['cober'].count()"
   ]
  },
  {
   "cell_type": "markdown",
   "id": "7752f5a4",
   "metadata": {},
   "source": [
    "### Variable 'cob_fecuma'"
   ]
  },
  {
   "cell_type": "code",
   "execution_count": 62,
   "id": "9b172dd3",
   "metadata": {
    "scrolled": false
   },
   "outputs": [
    {
     "data": {
      "text/plain": [
       "count       451613\n",
       "unique         615\n",
       "top       1/5/2018\n",
       "freq          1623\n",
       "Name: cob_fecuma, dtype: object"
      ]
     },
     "execution_count": 62,
     "metadata": {},
     "output_type": "execute_result"
    }
   ],
   "source": [
    "df['cob_fecuma'].describe()"
   ]
  },
  {
   "cell_type": "code",
   "execution_count": 63,
   "id": "de7d1414",
   "metadata": {
    "scrolled": false
   },
   "outputs": [
    {
     "data": {
      "text/plain": [
       "cob_fecuma\n",
       "1/1/2018      291\n",
       "1/1/2019      938\n",
       "1/10/2018    1405\n",
       "1/10/2019       1\n",
       "1/11/2018    1184\n",
       "             ... \n",
       "9/5/2019       34\n",
       "9/6/2018     1295\n",
       "9/7/2018     1177\n",
       "9/8/2018     1245\n",
       "9/9/2018     1230\n",
       "Name: cob_fecuma, Length: 615, dtype: int64"
      ]
     },
     "execution_count": 63,
     "metadata": {},
     "output_type": "execute_result"
    }
   ],
   "source": [
    "df.groupby('cob_fecuma')['cob_fecuma'].count()"
   ]
  },
  {
   "cell_type": "code",
   "execution_count": 64,
   "id": "e3617d76",
   "metadata": {},
   "outputs": [
    {
     "data": {
      "text/plain": [
       "018     241947\n",
       "18       86056\n",
       "2018     77910\n",
       "019      29169\n",
       "NaN      17757\n",
       "19       16411\n",
       "2019       120\n",
       "Name: cob_fecuma, dtype: int64"
      ]
     },
     "execution_count": 64,
     "metadata": {},
     "output_type": "execute_result"
    }
   ],
   "source": [
    "df['cob_fecuma'].str.slice(6, 10).value_counts(dropna=False) # Registros por Año."
   ]
  },
  {
   "cell_type": "code",
   "execution_count": 65,
   "id": "e3cee6d6",
   "metadata": {},
   "outputs": [
    {
     "data": {
      "text/plain": [
       "pol               int64\n",
       "endoso            int64\n",
       "item              int64\n",
       "fecemi           object\n",
       "tipend           object\n",
       "idaseg            int64\n",
       "ase_antig_an      int64\n",
       "ase_cp            int64\n",
       "ase_codnac      float64\n",
       "ase_nac          object\n",
       "idprod            int64\n",
       "pro_antig_an      int64\n",
       "tipveh            int64\n",
       "marca             int64\n",
       "modelo            int64\n",
       "anio              int64\n",
       "uso               int64\n",
       "uso_desc         object\n",
       "cober            object\n",
       "codcober          int64\n",
       "cober_desc       object\n",
       "cob_fecuma       object\n",
       "cob_ef           object\n",
       "fraude            int64\n",
       "dtype: object"
      ]
     },
     "execution_count": 65,
     "metadata": {},
     "output_type": "execute_result"
    }
   ],
   "source": [
    "df.dtypes"
   ]
  },
  {
   "cell_type": "code",
   "execution_count": 66,
   "id": "cc1cfb1e",
   "metadata": {
    "scrolled": false
   },
   "outputs": [],
   "source": [
    "# Ordena la variable como 'texto', mezcla el 2018 con el 2019. Para facilitar el operar de ser necesario por esta columna\n",
    "# Se convierte la variable a formato yyyymmdd. \n",
    "\n",
    "# A los NA les asigno 01/01/1800 para evitar problemas de manejo\n",
    "df.cob_fecuma.fillna('1800-01-01', inplace=True)\n",
    "\n",
    "pd.options.mode.chained_assignment = None  # default='warn'\n",
    "\n",
    "# df['cob_fecuma'] = pd.to_numeric(pd.to_datetime(df['cob_fecuma']).dt.strftime('%Y%m%d'))\n",
    "df['cob_fecuma'] = pd.to_datetime(df['cob_fecuma']).dt.strftime('%Y%m%d')"
   ]
  },
  {
   "cell_type": "code",
   "execution_count": 67,
   "id": "1a7634b1",
   "metadata": {},
   "outputs": [
    {
     "data": {
      "text/plain": [
       "dtype('O')"
      ]
     },
     "execution_count": 67,
     "metadata": {},
     "output_type": "execute_result"
    }
   ],
   "source": [
    "df['cob_fecuma'].dtypes"
   ]
  },
  {
   "cell_type": "code",
   "execution_count": 68,
   "id": "bd6cb215",
   "metadata": {},
   "outputs": [
    {
     "data": {
      "text/plain": [
       "cob_fecuma\n",
       "18000101    17757\n",
       "20180101      291\n",
       "20180102      366\n",
       "20180103     1365\n",
       "20180104     1246\n",
       "            ...  \n",
       "20191215        1\n",
       "20191216        2\n",
       "20191217        2\n",
       "20191218        3\n",
       "20191221        2\n",
       "Name: cob_fecuma, Length: 616, dtype: int64"
      ]
     },
     "execution_count": 68,
     "metadata": {},
     "output_type": "execute_result"
    }
   ],
   "source": [
    "df.groupby('cob_fecuma')['cob_fecuma'].count()"
   ]
  },
  {
   "cell_type": "markdown",
   "id": "14bf0bbc",
   "metadata": {},
   "source": [
    "### Variable 'fecemi'"
   ]
  },
  {
   "cell_type": "code",
   "execution_count": 69,
   "id": "05ab015d",
   "metadata": {
    "scrolled": false
   },
   "outputs": [],
   "source": [
    "# Se convierte la variable a formato yyyymmdd.\n",
    "df['fecemi'] = pd.to_datetime(df['fecemi']).dt.strftime('%Y%m%d')"
   ]
  },
  {
   "cell_type": "markdown",
   "id": "769a96cf",
   "metadata": {},
   "source": [
    "### Variable 'cob_ef'"
   ]
  },
  {
   "cell_type": "code",
   "execution_count": 70,
   "id": "7202fe26",
   "metadata": {},
   "outputs": [],
   "source": [
    "# Encoding variable 'cob_ef'\n",
    "df['cob_ef'] = df['cob_ef'].map( {'N':0,'S':1} )"
   ]
  },
  {
   "cell_type": "code",
   "execution_count": 71,
   "id": "08d5aafe",
   "metadata": {
    "scrolled": false
   },
   "outputs": [
    {
     "data": {
      "text/plain": [
       "cob_ef\n",
       "0    262146\n",
       "1    207224\n",
       "Name: cob_ef, dtype: int64"
      ]
     },
     "execution_count": 71,
     "metadata": {},
     "output_type": "execute_result"
    }
   ],
   "source": [
    "df.groupby('cob_ef')['cob_ef'].count()"
   ]
  },
  {
   "cell_type": "code",
   "execution_count": 72,
   "id": "505fe632",
   "metadata": {
    "scrolled": false
   },
   "outputs": [
    {
     "data": {
      "image/png": "[encoded data removed]",
      "text/plain": [
       "<Figure size 864x288 with 1 Axes>"
      ]
     },
     "metadata": {
      "needs_background": "light"
     },
     "output_type": "display_data"
    }
   ],
   "source": [
    "# Veo la frecuencia de cada valor.\n",
    "df.groupby('cob_ef')['cob_ef'].count().plot.bar(figsize=[12,4])\n",
    "plt.show()"
   ]
  },
  {
   "cell_type": "markdown",
   "id": "f351d78e",
   "metadata": {},
   "source": [
    "### Variable 'fraude'"
   ]
  },
  {
   "cell_type": "code",
   "execution_count": 73,
   "id": "902279e5",
   "metadata": {
    "scrolled": false
   },
   "outputs": [
    {
     "data": {
      "text/plain": [
       "fraude\n",
       "0    452134\n",
       "1     17236\n",
       "Name: fraude, dtype: int64"
      ]
     },
     "execution_count": 73,
     "metadata": {},
     "output_type": "execute_result"
    }
   ],
   "source": [
    "df.groupby('fraude')['fraude'].count()"
   ]
  },
  {
   "cell_type": "code",
   "execution_count": 74,
   "id": "dc97ee48",
   "metadata": {
    "scrolled": false
   },
   "outputs": [
    {
     "data": {
      "image/png": "[encoded data removed]",
      "text/plain": [
       "<Figure size 864x288 with 1 Axes>"
      ]
     },
     "metadata": {
      "needs_background": "light"
     },
     "output_type": "display_data"
    }
   ],
   "source": [
    "# Veo la frecuencia de cada valor.\n",
    "df.groupby('fraude')['fraude'].count().plot.bar(figsize=[12,4])\n",
    "plt.show()"
   ]
  },
  {
   "cell_type": "markdown",
   "id": "25a3e314",
   "metadata": {},
   "source": [
    "## Análisis exploratorio multivariable."
   ]
  },
  {
   "cell_type": "code",
   "execution_count": 75,
   "id": "9a6d95fe",
   "metadata": {
    "scrolled": false
   },
   "outputs": [
    {
     "data": {
      "text/html": [
       "<div>\n",
       "<style scoped>\n",
       "    .dataframe tbody tr th:only-of-type {\n",
       "        vertical-align: middle;\n",
       "    }\n",
       "\n",
       "    .dataframe tbody tr th {\n",
       "        vertical-align: top;\n",
       "    }\n",
       "\n",
       "    .dataframe thead th {\n",
       "        text-align: right;\n",
       "    }\n",
       "</style>\n",
       "<table border=\"1\" class=\"dataframe\">\n",
       "  <thead>\n",
       "    <tr style=\"text-align: right;\">\n",
       "      <th></th>\n",
       "      <th>pol</th>\n",
       "      <th>endoso</th>\n",
       "      <th>item</th>\n",
       "      <th>idaseg</th>\n",
       "      <th>ase_antig_an</th>\n",
       "      <th>ase_cp</th>\n",
       "      <th>ase_codnac</th>\n",
       "      <th>idprod</th>\n",
       "      <th>pro_antig_an</th>\n",
       "      <th>tipveh</th>\n",
       "      <th>marca</th>\n",
       "      <th>modelo</th>\n",
       "      <th>anio</th>\n",
       "      <th>uso</th>\n",
       "      <th>codcober</th>\n",
       "      <th>cob_ef</th>\n",
       "      <th>fraude</th>\n",
       "    </tr>\n",
       "  </thead>\n",
       "  <tbody>\n",
       "    <tr>\n",
       "      <th>pol</th>\n",
       "      <td>1.00</td>\n",
       "      <td>0.00</td>\n",
       "      <td>0.00</td>\n",
       "      <td>0.00</td>\n",
       "      <td>-0.00</td>\n",
       "      <td>-0.00</td>\n",
       "      <td>0.00</td>\n",
       "      <td>-0.00</td>\n",
       "      <td>0.00</td>\n",
       "      <td>-0.04</td>\n",
       "      <td>-0.00</td>\n",
       "      <td>-0.00</td>\n",
       "      <td>0.00</td>\n",
       "      <td>-0.04</td>\n",
       "      <td>-0.00</td>\n",
       "      <td>-0.07</td>\n",
       "      <td>-0.10</td>\n",
       "    </tr>\n",
       "    <tr>\n",
       "      <th>endoso</th>\n",
       "      <td>0.00</td>\n",
       "      <td>1.00</td>\n",
       "      <td>-0.00</td>\n",
       "      <td>-0.00</td>\n",
       "      <td>0.01</td>\n",
       "      <td>-0.00</td>\n",
       "      <td>-0.00</td>\n",
       "      <td>0.00</td>\n",
       "      <td>-0.00</td>\n",
       "      <td>-0.00</td>\n",
       "      <td>0.00</td>\n",
       "      <td>0.00</td>\n",
       "      <td>0.01</td>\n",
       "      <td>0.00</td>\n",
       "      <td>-0.00</td>\n",
       "      <td>-0.02</td>\n",
       "      <td>-0.00</td>\n",
       "    </tr>\n",
       "    <tr>\n",
       "      <th>item</th>\n",
       "      <td>0.00</td>\n",
       "      <td>-0.00</td>\n",
       "      <td>1.00</td>\n",
       "      <td>-0.00</td>\n",
       "      <td>0.00</td>\n",
       "      <td>-0.00</td>\n",
       "      <td>-0.00</td>\n",
       "      <td>-0.01</td>\n",
       "      <td>0.01</td>\n",
       "      <td>0.01</td>\n",
       "      <td>0.00</td>\n",
       "      <td>0.00</td>\n",
       "      <td>-0.02</td>\n",
       "      <td>0.00</td>\n",
       "      <td>0.01</td>\n",
       "      <td>-0.01</td>\n",
       "      <td>0.00</td>\n",
       "    </tr>\n",
       "    <tr>\n",
       "      <th>idaseg</th>\n",
       "      <td>0.00</td>\n",
       "      <td>-0.00</td>\n",
       "      <td>-0.00</td>\n",
       "      <td>1.00</td>\n",
       "      <td>-0.21</td>\n",
       "      <td>0.01</td>\n",
       "      <td>-0.05</td>\n",
       "      <td>-0.06</td>\n",
       "      <td>0.05</td>\n",
       "      <td>0.01</td>\n",
       "      <td>0.00</td>\n",
       "      <td>0.00</td>\n",
       "      <td>-0.00</td>\n",
       "      <td>0.01</td>\n",
       "      <td>0.00</td>\n",
       "      <td>0.00</td>\n",
       "      <td>0.02</td>\n",
       "    </tr>\n",
       "    <tr>\n",
       "      <th>ase_antig_an</th>\n",
       "      <td>-0.00</td>\n",
       "      <td>0.01</td>\n",
       "      <td>0.00</td>\n",
       "      <td>-0.21</td>\n",
       "      <td>1.00</td>\n",
       "      <td>0.16</td>\n",
       "      <td>0.07</td>\n",
       "      <td>0.30</td>\n",
       "      <td>-0.25</td>\n",
       "      <td>-0.03</td>\n",
       "      <td>-0.03</td>\n",
       "      <td>-0.03</td>\n",
       "      <td>0.03</td>\n",
       "      <td>-0.01</td>\n",
       "      <td>-0.00</td>\n",
       "      <td>0.01</td>\n",
       "      <td>-0.10</td>\n",
       "    </tr>\n",
       "    <tr>\n",
       "      <th>ase_cp</th>\n",
       "      <td>-0.00</td>\n",
       "      <td>-0.00</td>\n",
       "      <td>-0.00</td>\n",
       "      <td>0.01</td>\n",
       "      <td>0.16</td>\n",
       "      <td>1.00</td>\n",
       "      <td>0.01</td>\n",
       "      <td>0.08</td>\n",
       "      <td>-0.07</td>\n",
       "      <td>-0.01</td>\n",
       "      <td>-0.03</td>\n",
       "      <td>-0.03</td>\n",
       "      <td>0.04</td>\n",
       "      <td>0.02</td>\n",
       "      <td>-0.01</td>\n",
       "      <td>0.02</td>\n",
       "      <td>-0.01</td>\n",
       "    </tr>\n",
       "    <tr>\n",
       "      <th>ase_codnac</th>\n",
       "      <td>0.00</td>\n",
       "      <td>-0.00</td>\n",
       "      <td>-0.00</td>\n",
       "      <td>-0.05</td>\n",
       "      <td>0.07</td>\n",
       "      <td>0.01</td>\n",
       "      <td>1.00</td>\n",
       "      <td>0.04</td>\n",
       "      <td>-0.03</td>\n",
       "      <td>-0.00</td>\n",
       "      <td>-0.00</td>\n",
       "      <td>-0.00</td>\n",
       "      <td>0.01</td>\n",
       "      <td>-0.00</td>\n",
       "      <td>-0.00</td>\n",
       "      <td>0.00</td>\n",
       "      <td>-0.01</td>\n",
       "    </tr>\n",
       "    <tr>\n",
       "      <th>idprod</th>\n",
       "      <td>-0.00</td>\n",
       "      <td>0.00</td>\n",
       "      <td>-0.01</td>\n",
       "      <td>-0.06</td>\n",
       "      <td>0.30</td>\n",
       "      <td>0.08</td>\n",
       "      <td>0.04</td>\n",
       "      <td>1.00</td>\n",
       "      <td>-0.77</td>\n",
       "      <td>-0.05</td>\n",
       "      <td>-0.03</td>\n",
       "      <td>-0.03</td>\n",
       "      <td>0.08</td>\n",
       "      <td>-0.01</td>\n",
       "      <td>-0.08</td>\n",
       "      <td>0.03</td>\n",
       "      <td>-0.02</td>\n",
       "    </tr>\n",
       "    <tr>\n",
       "      <th>pro_antig_an</th>\n",
       "      <td>0.00</td>\n",
       "      <td>-0.00</td>\n",
       "      <td>0.01</td>\n",
       "      <td>0.05</td>\n",
       "      <td>-0.25</td>\n",
       "      <td>-0.07</td>\n",
       "      <td>-0.03</td>\n",
       "      <td>-0.77</td>\n",
       "      <td>1.00</td>\n",
       "      <td>0.04</td>\n",
       "      <td>0.03</td>\n",
       "      <td>0.03</td>\n",
       "      <td>-0.06</td>\n",
       "      <td>0.01</td>\n",
       "      <td>0.07</td>\n",
       "      <td>-0.03</td>\n",
       "      <td>0.02</td>\n",
       "    </tr>\n",
       "    <tr>\n",
       "      <th>tipveh</th>\n",
       "      <td>-0.04</td>\n",
       "      <td>-0.00</td>\n",
       "      <td>0.01</td>\n",
       "      <td>0.01</td>\n",
       "      <td>-0.03</td>\n",
       "      <td>-0.01</td>\n",
       "      <td>-0.00</td>\n",
       "      <td>-0.05</td>\n",
       "      <td>0.04</td>\n",
       "      <td>1.00</td>\n",
       "      <td>0.08</td>\n",
       "      <td>0.08</td>\n",
       "      <td>-0.51</td>\n",
       "      <td>0.32</td>\n",
       "      <td>0.57</td>\n",
       "      <td>0.00</td>\n",
       "      <td>-0.07</td>\n",
       "    </tr>\n",
       "    <tr>\n",
       "      <th>marca</th>\n",
       "      <td>-0.00</td>\n",
       "      <td>0.00</td>\n",
       "      <td>0.00</td>\n",
       "      <td>0.00</td>\n",
       "      <td>-0.03</td>\n",
       "      <td>-0.03</td>\n",
       "      <td>-0.00</td>\n",
       "      <td>-0.03</td>\n",
       "      <td>0.03</td>\n",
       "      <td>0.08</td>\n",
       "      <td>1.00</td>\n",
       "      <td>1.00</td>\n",
       "      <td>-0.29</td>\n",
       "      <td>-0.07</td>\n",
       "      <td>0.14</td>\n",
       "      <td>0.01</td>\n",
       "      <td>0.02</td>\n",
       "    </tr>\n",
       "    <tr>\n",
       "      <th>modelo</th>\n",
       "      <td>-0.00</td>\n",
       "      <td>0.00</td>\n",
       "      <td>0.00</td>\n",
       "      <td>0.00</td>\n",
       "      <td>-0.03</td>\n",
       "      <td>-0.03</td>\n",
       "      <td>-0.00</td>\n",
       "      <td>-0.03</td>\n",
       "      <td>0.03</td>\n",
       "      <td>0.08</td>\n",
       "      <td>1.00</td>\n",
       "      <td>1.00</td>\n",
       "      <td>-0.30</td>\n",
       "      <td>-0.07</td>\n",
       "      <td>0.15</td>\n",
       "      <td>0.01</td>\n",
       "      <td>0.02</td>\n",
       "    </tr>\n",
       "    <tr>\n",
       "      <th>anio</th>\n",
       "      <td>0.00</td>\n",
       "      <td>0.01</td>\n",
       "      <td>-0.02</td>\n",
       "      <td>-0.00</td>\n",
       "      <td>0.03</td>\n",
       "      <td>0.04</td>\n",
       "      <td>0.01</td>\n",
       "      <td>0.08</td>\n",
       "      <td>-0.06</td>\n",
       "      <td>-0.51</td>\n",
       "      <td>-0.29</td>\n",
       "      <td>-0.30</td>\n",
       "      <td>1.00</td>\n",
       "      <td>0.29</td>\n",
       "      <td>-0.56</td>\n",
       "      <td>-0.01</td>\n",
       "      <td>0.04</td>\n",
       "    </tr>\n",
       "    <tr>\n",
       "      <th>uso</th>\n",
       "      <td>-0.04</td>\n",
       "      <td>0.00</td>\n",
       "      <td>0.00</td>\n",
       "      <td>0.01</td>\n",
       "      <td>-0.01</td>\n",
       "      <td>0.02</td>\n",
       "      <td>-0.00</td>\n",
       "      <td>-0.01</td>\n",
       "      <td>0.01</td>\n",
       "      <td>0.32</td>\n",
       "      <td>-0.07</td>\n",
       "      <td>-0.07</td>\n",
       "      <td>0.29</td>\n",
       "      <td>1.00</td>\n",
       "      <td>0.15</td>\n",
       "      <td>-0.00</td>\n",
       "      <td>0.29</td>\n",
       "    </tr>\n",
       "    <tr>\n",
       "      <th>codcober</th>\n",
       "      <td>-0.00</td>\n",
       "      <td>-0.00</td>\n",
       "      <td>0.01</td>\n",
       "      <td>0.00</td>\n",
       "      <td>-0.00</td>\n",
       "      <td>-0.01</td>\n",
       "      <td>-0.00</td>\n",
       "      <td>-0.08</td>\n",
       "      <td>0.07</td>\n",
       "      <td>0.57</td>\n",
       "      <td>0.14</td>\n",
       "      <td>0.15</td>\n",
       "      <td>-0.56</td>\n",
       "      <td>0.15</td>\n",
       "      <td>1.00</td>\n",
       "      <td>0.01</td>\n",
       "      <td>0.21</td>\n",
       "    </tr>\n",
       "    <tr>\n",
       "      <th>cob_ef</th>\n",
       "      <td>-0.07</td>\n",
       "      <td>-0.02</td>\n",
       "      <td>-0.01</td>\n",
       "      <td>0.00</td>\n",
       "      <td>0.01</td>\n",
       "      <td>0.02</td>\n",
       "      <td>0.00</td>\n",
       "      <td>0.03</td>\n",
       "      <td>-0.03</td>\n",
       "      <td>0.00</td>\n",
       "      <td>0.01</td>\n",
       "      <td>0.01</td>\n",
       "      <td>-0.01</td>\n",
       "      <td>-0.00</td>\n",
       "      <td>0.01</td>\n",
       "      <td>1.00</td>\n",
       "      <td>0.01</td>\n",
       "    </tr>\n",
       "    <tr>\n",
       "      <th>fraude</th>\n",
       "      <td>-0.10</td>\n",
       "      <td>-0.00</td>\n",
       "      <td>0.00</td>\n",
       "      <td>0.02</td>\n",
       "      <td>-0.10</td>\n",
       "      <td>-0.01</td>\n",
       "      <td>-0.01</td>\n",
       "      <td>-0.02</td>\n",
       "      <td>0.02</td>\n",
       "      <td>-0.07</td>\n",
       "      <td>0.02</td>\n",
       "      <td>0.02</td>\n",
       "      <td>0.04</td>\n",
       "      <td>0.29</td>\n",
       "      <td>0.21</td>\n",
       "      <td>0.01</td>\n",
       "      <td>1.00</td>\n",
       "    </tr>\n",
       "  </tbody>\n",
       "</table>\n",
       "</div>"
      ],
      "text/plain": [
       "               pol  endoso  item  idaseg  ase_antig_an  ase_cp  ase_codnac  \\\n",
       "pol           1.00    0.00  0.00    0.00         -0.00   -0.00        0.00   \n",
       "endoso        0.00    1.00 -0.00   -0.00          0.01   -0.00       -0.00   \n",
       "item          0.00   -0.00  1.00   -0.00          0.00   -0.00       -0.00   \n",
       "idaseg        0.00   -0.00 -0.00    1.00         -0.21    0.01       -0.05   \n",
       "ase_antig_an -0.00    0.01  0.00   -0.21          1.00    0.16        0.07   \n",
       "ase_cp       -0.00   -0.00 -0.00    0.01          0.16    1.00        0.01   \n",
       "ase_codnac    0.00   -0.00 -0.00   -0.05          0.07    0.01        1.00   \n",
       "idprod       -0.00    0.00 -0.01   -0.06          0.30    0.08        0.04   \n",
       "pro_antig_an  0.00   -0.00  0.01    0.05         -0.25   -0.07       -0.03   \n",
       "tipveh       -0.04   -0.00  0.01    0.01         -0.03   -0.01       -0.00   \n",
       "marca        -0.00    0.00  0.00    0.00         -0.03   -0.03       -0.00   \n",
       "modelo       -0.00    0.00  0.00    0.00         -0.03   -0.03       -0.00   \n",
       "anio          0.00    0.01 -0.02   -0.00          0.03    0.04        0.01   \n",
       "uso          -0.04    0.00  0.00    0.01         -0.01    0.02       -0.00   \n",
       "codcober     -0.00   -0.00  0.01    0.00         -0.00   -0.01       -0.00   \n",
       "cob_ef       -0.07   -0.02 -0.01    0.00          0.01    0.02        0.00   \n",
       "fraude       -0.10   -0.00  0.00    0.02         -0.10   -0.01       -0.01   \n",
       "\n",
       "              idprod  pro_antig_an  tipveh  marca  modelo  anio   uso  \\\n",
       "pol            -0.00          0.00   -0.04  -0.00   -0.00  0.00 -0.04   \n",
       "endoso          0.00         -0.00   -0.00   0.00    0.00  0.01  0.00   \n",
       "item           -0.01          0.01    0.01   0.00    0.00 -0.02  0.00   \n",
       "idaseg         -0.06          0.05    0.01   0.00    0.00 -0.00  0.01   \n",
       "ase_antig_an    0.30         -0.25   -0.03  -0.03   -0.03  0.03 -0.01   \n",
       "ase_cp          0.08         -0.07   -0.01  -0.03   -0.03  0.04  0.02   \n",
       "ase_codnac      0.04         -0.03   -0.00  -0.00   -0.00  0.01 -0.00   \n",
       "idprod          1.00         -0.77   -0.05  -0.03   -0.03  0.08 -0.01   \n",
       "pro_antig_an   -0.77          1.00    0.04   0.03    0.03 -0.06  0.01   \n",
       "tipveh         -0.05          0.04    1.00   0.08    0.08 -0.51  0.32   \n",
       "marca          -0.03          0.03    0.08   1.00    1.00 -0.29 -0.07   \n",
       "modelo         -0.03          0.03    0.08   1.00    1.00 -0.30 -0.07   \n",
       "anio            0.08         -0.06   -0.51  -0.29   -0.30  1.00  0.29   \n",
       "uso            -0.01          0.01    0.32  -0.07   -0.07  0.29  1.00   \n",
       "codcober       -0.08          0.07    0.57   0.14    0.15 -0.56  0.15   \n",
       "cob_ef          0.03         -0.03    0.00   0.01    0.01 -0.01 -0.00   \n",
       "fraude         -0.02          0.02   -0.07   0.02    0.02  0.04  0.29   \n",
       "\n",
       "              codcober  cob_ef  fraude  \n",
       "pol              -0.00   -0.07   -0.10  \n",
       "endoso           -0.00   -0.02   -0.00  \n",
       "item              0.01   -0.01    0.00  \n",
       "idaseg            0.00    0.00    0.02  \n",
       "ase_antig_an     -0.00    0.01   -0.10  \n",
       "ase_cp           -0.01    0.02   -0.01  \n",
       "ase_codnac       -0.00    0.00   -0.01  \n",
       "idprod           -0.08    0.03   -0.02  \n",
       "pro_antig_an      0.07   -0.03    0.02  \n",
       "tipveh            0.57    0.00   -0.07  \n",
       "marca             0.14    0.01    0.02  \n",
       "modelo            0.15    0.01    0.02  \n",
       "anio             -0.56   -0.01    0.04  \n",
       "uso               0.15   -0.00    0.29  \n",
       "codcober          1.00    0.01    0.21  \n",
       "cob_ef            0.01    1.00    0.01  \n",
       "fraude            0.21    0.01    1.00  "
      ]
     },
     "execution_count": 75,
     "metadata": {},
     "output_type": "execute_result"
    }
   ],
   "source": [
    "# Me permitirá ver que variables están más relacionadas con 'fraude'.\n",
    "# Pandas df.corr() is used to find the pairwise correlation of all columns in the dataframe. Any NA values are automatically\n",
    "# excluded. For any non-numeric data type columns in the dataframe it is ignored.\n",
    "matriz_corr=df.corr(method='pearson').round(2)\n",
    "# .style.background_gradient()\n",
    "matriz_corr"
   ]
  },
  {
   "cell_type": "code",
   "execution_count": 79,
   "id": "45a30845",
   "metadata": {
    "scrolled": false
   },
   "outputs": [
    {
     "data": {
      "image/png": "[encoded data removed]",
      "text/plain": [
       "<Figure size 720x720 with 2 Axes>"
      ]
     },
     "metadata": {
      "needs_background": "light"
     },
     "output_type": "display_data"
    }
   ],
   "source": [
    "# fig, ax = plt.subplots(figsize=[10, 10])\n",
    "sns.heatmap(data=matriz_corr, annot=True)\n",
    "plt.rcParams['figure.figsize'] = [10,10]\n",
    "plt.show()"
   ]
  },
  {
   "cell_type": "code",
   "execution_count": 77,
   "id": "7ac06ba6",
   "metadata": {},
   "outputs": [
    {
     "name": "stdout",
     "output_type": "stream",
     "text": [
      "<class 'pandas.core.frame.DataFrame'>\n",
      "RangeIndex: 469370 entries, 0 to 469369\n",
      "Data columns (total 24 columns):\n",
      " #   Column        Non-Null Count   Dtype  \n",
      "---  ------        --------------   -----  \n",
      " 0   pol           469370 non-null  int64  \n",
      " 1   endoso        469370 non-null  int64  \n",
      " 2   item          469370 non-null  int64  \n",
      " 3   fecemi        469370 non-null  object \n",
      " 4   tipend        469370 non-null  object \n",
      " 5   idaseg        469370 non-null  int64  \n",
      " 6   ase_antig_an  469370 non-null  int64  \n",
      " 7   ase_cp        469370 non-null  int64  \n",
      " 8   ase_codnac    469370 non-null  float64\n",
      " 9   ase_nac       469370 non-null  object \n",
      " 10  idprod        469370 non-null  int64  \n",
      " 11  pro_antig_an  469370 non-null  int64  \n",
      " 12  tipveh        469370 non-null  int64  \n",
      " 13  marca         469370 non-null  int64  \n",
      " 14  modelo        469370 non-null  int64  \n",
      " 15  anio          469370 non-null  int64  \n",
      " 16  uso           469370 non-null  int64  \n",
      " 17  uso_desc      469370 non-null  object \n",
      " 18  cober         469370 non-null  object \n",
      " 19  codcober      469370 non-null  int64  \n",
      " 20  cober_desc    469370 non-null  object \n",
      " 21  cob_fecuma    469370 non-null  object \n",
      " 22  cob_ef        469370 non-null  int64  \n",
      " 23  fraude        469370 non-null  int64  \n",
      "dtypes: float64(1), int64(16), object(7)\n",
      "memory usage: 85.9+ MB\n"
     ]
    }
   ],
   "source": [
    "df.info()"
   ]
  },
  {
   "cell_type": "code",
   "execution_count": 78,
   "id": "b881a9a4",
   "metadata": {},
   "outputs": [],
   "source": [
    "df.to_csv('data_df.csv', header=True, index=False)"
   ]
  },
  {
   "cell_type": "code",
   "execution_count": null,
   "id": "49181b41",
   "metadata": {},
   "outputs": [],
   "source": []
  },
  {
   "cell_type": "code",
   "execution_count": null,
   "id": "6948b1be",
   "metadata": {},
   "outputs": [],
   "source": []
  },
  {
   "cell_type": "code",
   "execution_count": null,
   "id": "54bf61f0",
   "metadata": {},
   "outputs": [],
   "source": []
  }
 ],
 "metadata": {
  "kernelspec": {
   "display_name": "Python 3",
   "language": "python",
   "name": "python3"
  },
  "language_info": {
   "codemirror_mode": {
    "name": "ipython",
    "version": 3
   },
   "file_extension": ".py",
   "mimetype": "text/x-python",
   "name": "python",
   "nbconvert_exporter": "python",
   "pygments_lexer": "ipython3",
   "version": "3.8.8"
  }
 },
 "nbformat": 4,
 "nbformat_minor": 5
}
